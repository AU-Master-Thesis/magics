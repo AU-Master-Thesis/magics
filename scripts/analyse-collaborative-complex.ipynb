{
 "cells": [
  {
   "cell_type": "code",
   "execution_count": 2,
   "metadata": {},
   "outputs": [
    {
     "name": "stdout",
     "output_type": "stream",
     "text": [
      "os.getcwd()='/home/kpbaks/university/semesters/10/master-thesis/magics/scripts'\n"
     ]
    }
   ],
   "source": [
    "import sys\n",
    "import os\n",
    "import inspect\n",
    "\n",
    "import re\n",
    "import json\n",
    "import statistics\n",
    "import argparse\n",
    "import itertools\n",
    "from pathlib import Path\n",
    "from dataclasses import dataclass\n",
    "\n",
    "# script_dir: str = os.path.dirname(os.path.abspath(__file__))\n",
    "# os.chdir(script_dir)\n",
    "\n",
    "# Get the directory of the current notebook and cd into it\n",
    "# notebook_path = os.path.basename(sys.argv[0])\n",
    "# notebook_dir = os.path.dirname(os.path.abspath(notebook_path))\n",
    "\n",
    "# notebook_path = os.path.abspath(inspect.getfile(inspect.currentframe()))\n",
    "# notebook_dir = os.path.dirname(notebook_path)\n",
    "\n",
    "# os.chdir(notebook_dir)\n",
    "# print(f\"{sys.argv=}\")\n",
    "\n",
    "# os.chdir('./scripts')\n",
    "\n",
    "print(f\"{os.getcwd()=}\")\n",
    "\n",
    "from ldj import ldj\n",
    "from utils import *\n",
    "\n",
    "import numpy as np\n",
    "import matplotlib.pyplot as plt\n",
    "# from matplotlib.font_manager import FontProperties\n",
    "import matplotlib.font_manager as fm\n",
    "from matplotlib.patches import FancyBboxPatch\n",
    "from matplotlib.patches import PathPatch\n",
    "from matplotlib.path import get_path_collection_extents\n",
    "import seaborn as sns\n",
    "\n",
    "from rich import print, pretty\n",
    "from tabulate import tabulate\n",
    "from typing import  Iterable\n",
    "import pretty_errors\n",
    "from catppuccin import PALETTE\n",
    "from IPython.display import display, HTML\n",
    "\n",
    "pretty.install()\n",
    "\n",
    "EXPERIMENT_DIR = Path(\"../experiments/collaborative-complex\")\n",
    "assert EXPERIMENT_DIR.is_dir() and EXPERIMENT_DIR.exists()\n",
    "\n",
    "flavor = PALETTE.latte.colors\n",
    "\n",
    "data = dict()\n",
    "\n",
    "@dataclass\n",
    "class Results:\n",
    "    with_tracking: dict\n",
    "    without_tracking: dict\n",
    "\n",
    "results = Results(dict(), dict())\n",
    "\n",
    "with open(EXPERIMENT_DIR / \"tracking-true.json\") as f:\n",
    "    results.with_tracking = json.load(f)\n",
    "\n",
    "with open(EXPERIMENT_DIR / \"tracking-false.json\") as f:\n",
    "    results.without_tracking = json.load(f)\n",
    "\n",
    "\n",
    "for dataset in [results.with_tracking, results.without_tracking]:\n",
    "    robots_to_remote = []\n",
    "    for robot_id, data in dataset['robots'].items():\n",
    "        positions = data['positions']\n",
    "        if len(positions) == 0:\n",
    "            robots_to_remote.append(robot_id)\n",
    "    \n",
    "    for id in robots_to_remote:\n",
    "        del dataset['robots'][id]\n"
   ]
  },
  {
   "cell_type": "code",
   "execution_count": null,
   "metadata": {},
   "outputs": [],
   "source": []
  },
  {
   "cell_type": "code",
   "execution_count": 3,
   "metadata": {},
   "outputs": [],
   "source": [
    "@dataclass(frozen=True)\n",
    "class Statistics:\n",
    "    mean: float\n",
    "    median: float\n",
    "    stdev: float\n",
    "    min: float\n",
    "    max: float\n",
    "\n",
    "\n",
    "    def display(self) -> None:\n",
    "        data = [\n",
    "            [\"Mean\", self.mean],\n",
    "            [\"Median\", self.median],\n",
    "            [\"Standard Deviation\", self.stdev],\n",
    "            [\"Min\", self.min],\n",
    "            [\"Max\", self.max]\n",
    "        ]\n",
    "        html_table = tabulate(data, headers=[\"Statistic\", \"Value\"], tablefmt=\"html\")\n",
    "        centered_html_table = f\"\"\"\n",
    "        <div style=\"display: flex; justify-content: center;\">\n",
    "            {html_table}\n",
    "        </div>\n",
    "        \"\"\"\n",
    "        # display(HTML(html_table))\n",
    "        display(HTML(centered_html_table))\n",
    "        # print(tabulate(data, headers=[\"Statistic\", \"Value\"], tablefmt=\"html\"))\n",
    "\n",
    "\n",
    "def compute_stats(data: list[float]) -> Statistics:\n",
    "    return Statistics(\n",
    "        mean=np.mean(data),\n",
    "        median=np.median(data),\n",
    "        stdev=np.std(data),\n",
    "        min=np.min(data),\n",
    "        max=np.max(data),\n",
    "    )\n"
   ]
  },
  {
   "cell_type": "code",
   "execution_count": 4,
   "metadata": {},
   "outputs": [],
   "source": [
    "@dataclass(frozen=True)\n",
    "class PerpendicularPositionErrorResult:\n",
    "    errors: list[float]\n",
    "    rmses: list[float]\n",
    "\n",
    "\n",
    "def perpendicular_position_error(exported_data: dict) -> PerpendicularPositionErrorResult:\n",
    "    errors: list[float] = []\n",
    "    rmses: list[float] = []\n",
    "\n",
    "    for robot_id, robot_data in exported_data['robots'].items():\n",
    "        color: str = robot_data['color']\n",
    "        positions = np.array([p for p in robot_data['positions']])\n",
    "        mission = robot_data['mission']\n",
    "        waypoints = []\n",
    "        for route in mission['routes']:\n",
    "            waypoints.append(route['waypoints'][0])\n",
    "            for wp in route['waypoints'][1:]:\n",
    "                waypoints.append(wp)\n",
    "\n",
    "        waypoints = np.array(waypoints)\n",
    "        waypoints = np.squeeze(waypoints)\n",
    "\n",
    "        lines: list[LinePoints] = [LinePoints(start=start, end=end) for start, end in sliding_window(waypoints, 2)]\n",
    "        closest_projections = [closest_projection_onto_line_segments(p, lines) for p in positions]\n",
    "\n",
    "        error: float = np.sum(np.linalg.norm(positions - closest_projections, axis=1))\n",
    "        rmse: float = np.sqrt(error / len(positions))\n",
    "\n",
    "        errors.append(error)\n",
    "        rmses.append(rmse)\n",
    "\n",
    "    return PerpendicularPositionErrorResult(errors=errors, rmses=rmses)\n"
   ]
  },
  {
   "cell_type": "code",
   "execution_count": 5,
   "metadata": {},
   "outputs": [],
   "source": [
    "@dataclass(frozen=True)\n",
    "class CollisionsResult:\n",
    "    interrobot: int\n",
    "    environment: int\n",
    "\n",
    "def collisions(exported_data: dict) -> CollisionsResult:\n",
    "    interrobot: int = len(exported_data['collisions']['robots'])\n",
    "    environment: int = len(exported_data['collisions']['environment'])\n",
    "    return CollisionsResult(interrobot=interrobot, environment=environment)\n"
   ]
  },
  {
   "cell_type": "code",
   "execution_count": 6,
   "metadata": {},
   "outputs": [],
   "source": [
    "@dataclass(frozen=True)\n",
    "class TotalDistanceTravelledResult:\n",
    "    distance: list[float]\n",
    "    optimal_distance: list[float]\n",
    "\n",
    "    @staticmethod\n",
    "    def new() -> 'TotalDistanceTravelledResult':\n",
    "        return TotalDistanceTravelledResult(distance=[], optimal_distance=[])\n",
    "\n",
    "# def euclidian_distance(a: (float, float), b: (float, float)) -> float:\n",
    "\n",
    "def total_distance_travelled(exported_data: dict) -> TotalDistanceTravelledResult:\n",
    "    result = TotalDistanceTravelledResult.new()\n",
    "\n",
    "    for robot_id, robot_data in exported_data['robots'].items():\n",
    "        # positions = np.array(robot_data['positions'])\n",
    "        \n",
    "        positions = robot_data['positions']\n",
    "        # print(f\"{positions=}\")\n",
    "        # if len(positions) == 0:\n",
    "        #     continue\n",
    "\n",
    "        # for i in range(len(positions) - 1, -1, -1):\n",
    "        #     point = positions[i]\n",
    "        #     if abs(point[0]) > 50 or abs(point[1]) > 50:\n",
    "        #         _ = positions.pop()\n",
    "\n",
    "        positions = np.array([p for p in robot_data['positions']])\n",
    "        # print(f\"{positions.shape=}\")\n",
    "        # if 0 in positions.shape:\n",
    "        #     continue\n",
    "\n",
    "        waypoints = []\n",
    "        mission = robot_data['mission']\n",
    "        for route in mission['routes']:\n",
    "            waypoints.append(route['waypoints'][0])\n",
    "            for wp in route['waypoints'][1:]:\n",
    "                waypoints.append(wp)\n",
    "\n",
    "        waypoints = np.array(waypoints)\n",
    "        waypoints = np.squeeze(waypoints)\n",
    "\n",
    "        \n",
    "        for ix in [0, -1]:\n",
    "            x =waypoints[ix][0]\n",
    "            xlimit = 95\n",
    "            if abs(x) > xlimit:\n",
    "                sign: int = -1 if x < 0.0 else 1\n",
    "                x = sign * xlimit\n",
    "                waypoints[ix][0] = x\n",
    "            \n",
    "            ylimit = 60\n",
    "            y =waypoints[ix][1]\n",
    "            if abs(y) > ylimit:\n",
    "                sign: int = -1 if y < 0.0 else 1\n",
    "                y = sign * ylimit\n",
    "                waypoints[ix][1] = y\n",
    "\n",
    "        def accumulated_distance(points):\n",
    "            # Compute pairwise Euclidean distances between successive points\n",
    "            distances = np.sum(np.sqrt(np.sum(np.diff(points, axis=0)**2, axis=1)))\n",
    "            return distances\n",
    "\n",
    "        optimal_distance = accumulated_distance(waypoints)\n",
    "        total_distance_travelled = accumulated_distance(positions)\n",
    "        result.distance.append(total_distance_travelled)\n",
    "        result.optimal_distance.append(optimal_distance)\n",
    "\n",
    "    return result"
   ]
  },
  {
   "cell_type": "markdown",
   "metadata": {},
   "source": [
    "# With Tracking"
   ]
  },
  {
   "cell_type": "markdown",
   "metadata": {},
   "source": [
    "## Makespan"
   ]
  },
  {
   "cell_type": "code",
   "execution_count": 7,
   "metadata": {},
   "outputs": [
    {
     "data": {
      "text/html": [
       "<pre style=\"white-space:pre;overflow-x:auto;line-height:normal;font-family:Menlo,'DejaVu Sans Mono',consolas,'Courier New',monospace\">makespan = <span style=\"color: #008080; text-decoration-color: #008080; font-weight: bold\">158.03</span> seconds\n",
       "</pre>\n"
      ],
      "text/plain": [
       "makespan = \u001b[1;36m158.03\u001b[0m seconds\n"
      ]
     },
     "metadata": {},
     "output_type": "display_data"
    }
   ],
   "source": [
    "print(f\"makespan = {results.with_tracking['makespan']:.2f} seconds\")\n"
   ]
  },
  {
   "cell_type": "markdown",
   "metadata": {},
   "source": [
    "## Perpendicular Position Error"
   ]
  },
  {
   "cell_type": "code",
   "execution_count": 8,
   "metadata": {},
   "outputs": [
    {
     "data": {
      "text/html": [
       "<pre style=\"white-space:pre;overflow-x:auto;line-height:normal;font-family:Menlo,'DejaVu Sans Mono',consolas,'Courier New',monospace\"></pre>\n"
      ],
      "text/plain": []
     },
     "metadata": {},
     "output_type": "display_data"
    },
    {
     "data": {
      "text/html": [
       "\n",
       "        <div style=\"display: flex; justify-content: center;\">\n",
       "            <table>\n",
       "<thead>\n",
       "<tr><th>Statistic         </th><th style=\"text-align: right;\">     Value</th></tr>\n",
       "</thead>\n",
       "<tbody>\n",
       "<tr><td>Mean              </td><td style=\"text-align: right;\">0.537309  </td></tr>\n",
       "<tr><td>Median            </td><td style=\"text-align: right;\">0.541099  </td></tr>\n",
       "<tr><td>Standard Deviation</td><td style=\"text-align: right;\">0.0992027 </td></tr>\n",
       "<tr><td>Min               </td><td style=\"text-align: right;\">0.00558951</td></tr>\n",
       "<tr><td>Max               </td><td style=\"text-align: right;\">0.829217  </td></tr>\n",
       "</tbody>\n",
       "</table>\n",
       "        </div>\n",
       "        "
      ],
      "text/plain": [
       "\u001b[1m<\u001b[0m\u001b[1;95mIPython.core.display.HTML\u001b[0m\u001b[39m object\u001b[0m\u001b[1m>\u001b[0m"
      ]
     },
     "metadata": {},
     "output_type": "display_data"
    }
   ],
   "source": [
    "pperror = perpendicular_position_error(results.with_tracking)\n",
    "compute_stats(pperror.rmses).display()\n"
   ]
  },
  {
   "cell_type": "markdown",
   "metadata": {},
   "source": [
    "## Collisions"
   ]
  },
  {
   "cell_type": "code",
   "execution_count": 29,
   "metadata": {},
   "outputs": [
    {
     "data": {
      "text/html": [
       "<pre style=\"white-space:pre;overflow-x:auto;line-height:normal;font-family:Menlo,'DejaVu Sans Mono',consolas,'Courier New',monospace\"></pre>\n"
      ],
      "text/plain": []
     },
     "metadata": {},
     "output_type": "display_data"
    },
    {
     "data": {
      "text/plain": [
       "\u001b[1;35mCollisionsResult\u001b[0m\u001b[1m(\u001b[0m\u001b[33minterrobot\u001b[0m=\u001b[1;36m0\u001b[0m, \u001b[33menvironment\u001b[0m=\u001b[1;36m0\u001b[0m\u001b[1m)\u001b[0m"
      ]
     },
     "execution_count": 29,
     "metadata": {},
     "output_type": "execute_result"
    }
   ],
   "source": [
    "collisions(results.with_tracking)\n"
   ]
  },
  {
   "cell_type": "markdown",
   "metadata": {},
   "source": [
    "# Without Tracking"
   ]
  },
  {
   "cell_type": "code",
   "execution_count": 30,
   "metadata": {},
   "outputs": [
    {
     "data": {
      "text/html": [
       "<pre style=\"white-space:pre;overflow-x:auto;line-height:normal;font-family:Menlo,'DejaVu Sans Mono',consolas,'Courier New',monospace\">makespan = <span style=\"color: #008080; text-decoration-color: #008080; font-weight: bold\">158.13</span> seconds\n",
       "</pre>\n"
      ],
      "text/plain": [
       "makespan = \u001b[1;36m158.13\u001b[0m seconds\n"
      ]
     },
     "metadata": {},
     "output_type": "display_data"
    }
   ],
   "source": [
    "print(f\"makespan = {results.without_tracking['makespan']:.2f} seconds\")\n"
   ]
  },
  {
   "cell_type": "markdown",
   "metadata": {},
   "source": [
    "## Perpendicular Position Error"
   ]
  },
  {
   "cell_type": "code",
   "execution_count": 9,
   "metadata": {},
   "outputs": [
    {
     "data": {
      "text/html": [
       "<pre style=\"white-space:pre;overflow-x:auto;line-height:normal;font-family:Menlo,'DejaVu Sans Mono',consolas,'Courier New',monospace\"></pre>\n"
      ],
      "text/plain": []
     },
     "metadata": {},
     "output_type": "display_data"
    },
    {
     "data": {
      "text/html": [
       "\n",
       "        <div style=\"display: flex; justify-content: center;\">\n",
       "            <table>\n",
       "<thead>\n",
       "<tr><th>Statistic         </th><th style=\"text-align: right;\">      Value</th></tr>\n",
       "</thead>\n",
       "<tbody>\n",
       "<tr><td>Mean              </td><td style=\"text-align: right;\">0.63934    </td></tr>\n",
       "<tr><td>Median            </td><td style=\"text-align: right;\">0.645652   </td></tr>\n",
       "<tr><td>Standard Deviation</td><td style=\"text-align: right;\">0.113143   </td></tr>\n",
       "<tr><td>Min               </td><td style=\"text-align: right;\">6.33911e-08</td></tr>\n",
       "<tr><td>Max               </td><td style=\"text-align: right;\">0.986144   </td></tr>\n",
       "</tbody>\n",
       "</table>\n",
       "        </div>\n",
       "        "
      ],
      "text/plain": [
       "\u001b[1m<\u001b[0m\u001b[1;95mIPython.core.display.HTML\u001b[0m\u001b[39m object\u001b[0m\u001b[1m>\u001b[0m"
      ]
     },
     "metadata": {},
     "output_type": "display_data"
    }
   ],
   "source": [
    "pperror = perpendicular_position_error(results.without_tracking)\n",
    "compute_stats(pperror.rmses).display()\n"
   ]
  },
  {
   "cell_type": "markdown",
   "metadata": {},
   "source": [
    "## Collisions"
   ]
  },
  {
   "cell_type": "code",
   "execution_count": 32,
   "metadata": {},
   "outputs": [
    {
     "data": {
      "text/html": [
       "<pre style=\"white-space:pre;overflow-x:auto;line-height:normal;font-family:Menlo,'DejaVu Sans Mono',consolas,'Courier New',monospace\"></pre>\n"
      ],
      "text/plain": []
     },
     "metadata": {},
     "output_type": "display_data"
    },
    {
     "data": {
      "text/plain": [
       "\u001b[1;35mCollisionsResult\u001b[0m\u001b[1m(\u001b[0m\u001b[33minterrobot\u001b[0m=\u001b[1;36m0\u001b[0m, \u001b[33menvironment\u001b[0m=\u001b[1;36m0\u001b[0m\u001b[1m)\u001b[0m"
      ]
     },
     "execution_count": 32,
     "metadata": {},
     "output_type": "execute_result"
    }
   ],
   "source": [
    "collisions(results.without_tracking)\n"
   ]
  },
  {
   "cell_type": "code",
   "execution_count": 38,
   "metadata": {},
   "outputs": [
    {
     "data": {
      "text/html": [
       "<pre style=\"white-space:pre;overflow-x:auto;line-height:normal;font-family:Menlo,'DejaVu Sans Mono',consolas,'Courier New',monospace\">waypoint <span style=\"color: #808000; text-decoration-color: #808000\">mean</span>=<span style=\"color: #008080; text-decoration-color: #008080; font-weight: bold\">0.0308</span>\n",
       "</pre>\n"
      ],
      "text/plain": [
       "waypoint \u001b[33mmean\u001b[0m=\u001b[1;36m0\u001b[0m\u001b[1;36m.0308\u001b[0m\n"
      ]
     },
     "metadata": {},
     "output_type": "display_data"
    },
    {
     "data": {
      "text/html": [
       "<pre style=\"white-space:pre;overflow-x:auto;line-height:normal;font-family:Menlo,'DejaVu Sans Mono',consolas,'Courier New',monospace\">path <span style=\"color: #808000; text-decoration-color: #808000\">mean</span>=<span style=\"color: #008080; text-decoration-color: #008080; font-weight: bold\">0.0261</span>\n",
       "</pre>\n"
      ],
      "text/plain": [
       "path \u001b[33mmean\u001b[0m=\u001b[1;36m0\u001b[0m\u001b[1;36m.0261\u001b[0m\n"
      ]
     },
     "metadata": {},
     "output_type": "display_data"
    }
   ],
   "source": [
    "waypoint = total_distance_travelled(results.without_tracking)\n",
    "path = total_distance_travelled(results.with_tracking)\n",
    "\n",
    "mean = np.std(np.array(waypoint.distance) / np.array(waypoint.optimal_distance))\n",
    "print(f\"waypoint {mean=:.4f}\")\n",
    "\n",
    "\n",
    "mean = np.std(np.array(path.distance) / np.array(path.optimal_distance))\n",
    "print(f\"path {mean=:.4f}\")"
   ]
  },
  {
   "cell_type": "code",
   "execution_count": 34,
   "metadata": {},
   "outputs": [],
   "source": [
    "for robot_id, data in results.without_tracking['robots'].items():\n",
    "    positions = data['positions']\n",
    "    if len(positions) == 0:\n",
    "        print(f\"{robot_id=}\")"
   ]
  },
  {
   "cell_type": "markdown",
   "metadata": {},
   "source": [
    "---"
   ]
  },
  {
   "cell_type": "markdown",
   "metadata": {},
   "source": [
    "# Velocity"
   ]
  },
  {
   "cell_type": "code",
   "execution_count": 42,
   "metadata": {},
   "outputs": [
    {
     "data": {
      "text/html": [
       "<pre style=\"white-space:pre;overflow-x:auto;line-height:normal;font-family:Menlo,'DejaVu Sans Mono',consolas,'Courier New',monospace\"></pre>\n"
      ],
      "text/plain": []
     },
     "metadata": {},
     "output_type": "display_data"
    },
    {
     "data": {
      "text/html": [
       "<h1 align='center'>Waypoint Tracking</h1>"
      ],
      "text/plain": [
       "\u001b[1m<\u001b[0m\u001b[1;95mIPython.core.display.HTML\u001b[0m\u001b[39m object\u001b[0m\u001b[1m>\u001b[0m"
      ]
     },
     "metadata": {},
     "output_type": "display_data"
    },
    {
     "data": {
      "text/html": [
       "<pre style=\"white-space:pre;overflow-x:auto;line-height:normal;font-family:Menlo,'DejaVu Sans Mono',consolas,'Courier New',monospace\"></pre>\n"
      ],
      "text/plain": []
     },
     "metadata": {},
     "output_type": "display_data"
    },
    {
     "data": {
      "text/html": [
       "\n",
       "        <div style=\"display: flex; justify-content: center;\">\n",
       "            <table>\n",
       "<thead>\n",
       "<tr><th>Statistic         </th><th style=\"text-align: right;\">  Value</th></tr>\n",
       "</thead>\n",
       "<tbody>\n",
       "<tr><td>Mean              </td><td style=\"text-align: right;\">38.3953</td></tr>\n",
       "<tr><td>Median            </td><td style=\"text-align: right;\">35.6   </td></tr>\n",
       "<tr><td>Standard Deviation</td><td style=\"text-align: right;\">10.9985</td></tr>\n",
       "<tr><td>Min               </td><td style=\"text-align: right;\">19.7   </td></tr>\n",
       "<tr><td>Max               </td><td style=\"text-align: right;\">67.5   </td></tr>\n",
       "</tbody>\n",
       "</table>\n",
       "        </div>\n",
       "        "
      ],
      "text/plain": [
       "\u001b[1m<\u001b[0m\u001b[1;95mIPython.core.display.HTML\u001b[0m\u001b[39m object\u001b[0m\u001b[1m>\u001b[0m"
      ]
     },
     "metadata": {},
     "output_type": "display_data"
    },
    {
     "data": {
      "text/html": [
       "<pre style=\"white-space:pre;overflow-x:auto;line-height:normal;font-family:Menlo,'DejaVu Sans Mono',consolas,'Courier New',monospace\"></pre>\n"
      ],
      "text/plain": []
     },
     "metadata": {},
     "output_type": "display_data"
    },
    {
     "data": {
      "text/html": [
       "<h1 align='center'>Path Tracking</h1>"
      ],
      "text/plain": [
       "\u001b[1m<\u001b[0m\u001b[1;95mIPython.core.display.HTML\u001b[0m\u001b[39m object\u001b[0m\u001b[1m>\u001b[0m"
      ]
     },
     "metadata": {},
     "output_type": "display_data"
    },
    {
     "data": {
      "text/html": [
       "<pre style=\"white-space:pre;overflow-x:auto;line-height:normal;font-family:Menlo,'DejaVu Sans Mono',consolas,'Courier New',monospace\"></pre>\n"
      ],
      "text/plain": []
     },
     "metadata": {},
     "output_type": "display_data"
    },
    {
     "data": {
      "text/html": [
       "\n",
       "        <div style=\"display: flex; justify-content: center;\">\n",
       "            <table>\n",
       "<thead>\n",
       "<tr><th>Statistic         </th><th style=\"text-align: right;\">  Value</th></tr>\n",
       "</thead>\n",
       "<tbody>\n",
       "<tr><td>Mean              </td><td style=\"text-align: right;\">38.32  </td></tr>\n",
       "<tr><td>Median            </td><td style=\"text-align: right;\">35.5   </td></tr>\n",
       "<tr><td>Standard Deviation</td><td style=\"text-align: right;\">11.0172</td></tr>\n",
       "<tr><td>Min               </td><td style=\"text-align: right;\">19.6   </td></tr>\n",
       "<tr><td>Max               </td><td style=\"text-align: right;\">67.5   </td></tr>\n",
       "</tbody>\n",
       "</table>\n",
       "        </div>\n",
       "        "
      ],
      "text/plain": [
       "\u001b[1m<\u001b[0m\u001b[1;95mIPython.core.display.HTML\u001b[0m\u001b[39m object\u001b[0m\u001b[1m>\u001b[0m"
      ]
     },
     "metadata": {},
     "output_type": "display_data"
    }
   ],
   "source": [
    "# '.robots | values | .velocity'\n",
    "\n",
    "for res, name in [(results.without_tracking, \"Waypoint Tracking\"), (results.with_tracking, \"Path Tracking\")]:\n",
    "    iter = res['robots'].items()\n",
    "    \n",
    "    durations = np.empty(len(iter))\n",
    "    \n",
    "    for i, (_, robot_data) in enumerate(iter):\n",
    "        m = robot_data['mission']\n",
    "        finished_at: float = m['finished_at']\n",
    "        started_at: float = m['started_at']\n",
    "        dur: float = finished_at - started_at\n",
    "        # print(f\"{dur=}\")\n",
    "        durations[i] = dur\n",
    "    \n",
    "    # print(f\"{np.mean(durations)=}\")\n",
    "    \n",
    "           # centered_html_table = f\"\"\"\n",
    "           #  <div style=\"display: flex; justify-content: center;\">\n",
    "           #      {html_table}\n",
    "           #  </div>\n",
    "           #  \"\"\"\n",
    "           #  # display(HTML(html_table))\n",
    "           #  display(HTML(centered_html_table))\n",
    "    \n",
    "    title = f\"<h1 align='center'>{name}</h1>\"\n",
    "    display(HTML(title))\n",
    "    \n",
    "    compute_stats(durations).display()\n"
   ]
  },
  {
   "cell_type": "code",
   "execution_count": null,
   "metadata": {},
   "outputs": [],
   "source": [
    "@dataclass(frozen=True)\n",
    "class Statistics:\n",
    "    mean: float\n",
    "    median: float\n",
    "    stdev: float\n",
    "    min: float\n",
    "    max: float\n",
    "\n",
    "\n",
    "    def display(self) -> None:\n",
    "        data = [\n",
    "            [\"Mean\", self.mean],\n",
    "            [\"Median\", self.median],\n",
    "            [\"Standard Deviation\", self.stdev],\n",
    "            [\"Min\", self.min],\n",
    "            [\"Max\", self.max]\n",
    "        ]\n",
    "        html_table = tabulate(data, headers=[\"Statistic\", \"Value\"], tablefmt=\"html\")\n",
    "        centered_html_table = f\"\"\"\n",
    "        <div style=\"display: flex; justify-content: center;\">\n",
    "            {html_table}\n",
    "        </div>\n",
    "        \"\"\"\n",
    "        # display(HTML(html_table))\n",
    "        display(HTML(centered_html_table))\n",
    "        # print(tabulate(data, headers=[\"Statistic\", \"Value\"], tablefmt=\"html\"))\n",
    "\n",
    "\n",
    "def compute_stats(data: list[float]) -> Statistics:\n",
    "    return Statistics(\n",
    "        mean=np.mean(data),\n",
    "        median=np.median(data),\n",
    "        stdev=np.std(data),\n",
    "        min=np.min(data),\n",
    "        max=np.max(data),\n",
    "    )\n"
   ]
  },
  {
   "cell_type": "code",
   "execution_count": null,
   "metadata": {},
   "outputs": [],
   "source": [
    "def diffstat(vec0: np.ndarray, vec1: np.ndarray):\n",
    "    "
   ]
  },
  {
   "cell_type": "code",
   "execution_count": 31,
   "metadata": {},
   "outputs": [],
   "source": [
    "from dataclasses import dataclass\n",
    "from typing import List\n",
    "import numpy as np\n",
    "from IPython.display import display, HTML\n",
    "from tabulate import tabulate\n",
    "\n",
    "@dataclass(frozen=True)\n",
    "class Statistics:\n",
    "    mean: float\n",
    "    median: float\n",
    "    stdev: float\n",
    "    min: float\n",
    "    max: float\n",
    "\n",
    "def compute_stats(data: List[float]) -> Statistics:\n",
    "    return Statistics(\n",
    "        mean=np.mean(data),\n",
    "        median=np.median(data),\n",
    "        stdev=np.std(data),\n",
    "        min=np.min(data),\n",
    "        max=np.max(data),\n",
    "    )\n",
    "\n",
    "def compare_stats(data1: List[float], data2: List[float], label1: str = \"Vector 1\", label2: str = \"Vector 2\") -> None:\n",
    "    stats1 = compute_stats(data1)\n",
    "    stats2 = compute_stats(data2)\n",
    "    \n",
    "    data = [\n",
    "        [\"Statistic\", label1, label2],\n",
    "        [\"Mean\", f\"{stats1.mean:.4f}\", f\"{stats2.mean:.4f}\"],\n",
    "        [\"Median\", f\"{stats1.median:.4f}\", f\"{stats2.median:.4f}\"],\n",
    "        [\"Standard Deviation\", f\"{stats1.stdev:.4f}\", f\"{stats2.stdev:.4f}\"],\n",
    "        [\"Min\", f\"{stats1.min:.4f}\", f\"{stats2.min:.4f}\"],\n",
    "        [\"Max\", f\"{stats1.max:.4f}\", f\"{stats2.max:.4f}\"]\n",
    "    ]\n",
    "\n",
    "    \n",
    "    html_table = tabulate(data, headers=\"firstrow\", tablefmt=\"html\")\n",
    "  # Modify the HTML to change the color of the \"Median\" value\n",
    "    html_table = html_table.replace(\n",
    "        f\"<td>{stats1.mean}</td>\", f\"<td style='color: green;'><b>{stats1.mean}</b></td>\"\n",
    "    )\n",
    "    centered_html_table = f\"\"\"\n",
    "    <div style=\"display: flex; justify-content: center;\">\n",
    "        {html_table}\n",
    "    </div>\n",
    "    \"\"\"\n",
    "    display(HTML(centered_html_table))"
   ]
  },
  {
   "cell_type": "code",
   "execution_count": 32,
   "metadata": {},
   "outputs": [
    {
     "data": {
      "text/html": [
       "<pre style=\"white-space:pre;overflow-x:auto;line-height:normal;font-family:Menlo,'DejaVu Sans Mono',consolas,'Courier New',monospace\"></pre>\n"
      ],
      "text/plain": []
     },
     "metadata": {},
     "output_type": "display_data"
    },
    {
     "data": {
      "text/html": [
       "\n",
       "    <div style=\"display: flex; justify-content: center;\">\n",
       "        <table>\n",
       "<thead>\n",
       "<tr><th>Statistic         </th><th style=\"text-align: right;\">  Vector 1</th><th style=\"text-align: right;\">  Vector 2</th></tr>\n",
       "</thead>\n",
       "<tbody>\n",
       "<tr><td>Mean              </td><td style=\"text-align: right;\">    2     </td><td style=\"text-align: right;\">    5     </td></tr>\n",
       "<tr><td>Median            </td><td style=\"text-align: right;\">    2     </td><td style=\"text-align: right;\">    5     </td></tr>\n",
       "<tr><td>Standard Deviation</td><td style=\"text-align: right;\">    0.8165</td><td style=\"text-align: right;\">    0.8165</td></tr>\n",
       "<tr><td>Min               </td><td style=\"text-align: right;\">    1     </td><td style=\"text-align: right;\">    4     </td></tr>\n",
       "<tr><td>Max               </td><td style=\"text-align: right;\">    3     </td><td style=\"text-align: right;\">    6     </td></tr>\n",
       "</tbody>\n",
       "</table>\n",
       "    </div>\n",
       "    "
      ],
      "text/plain": [
       "\u001b[1m<\u001b[0m\u001b[1;95mIPython.core.display.HTML\u001b[0m\u001b[39m object\u001b[0m\u001b[1m>\u001b[0m"
      ]
     },
     "metadata": {},
     "output_type": "display_data"
    }
   ],
   "source": [
    "compare_stats([1, 2, 3], [4, 5, 6])"
   ]
  },
  {
   "cell_type": "code",
   "execution_count": null,
   "metadata": {},
   "outputs": [],
   "source": [
    "def compare_stats(vectors: list[np.ndarray], titles: list[str], higher_is_better: bool = True) -> None:\n",
    "    assert len(vectors) == len(titles)\n",
    "    \n",
    "    stats = [compare_stats(v) for v in vectors]\n",
    "\n",
    "    \n",
    "    stats1 = compute_stats(data1)\n",
    "    stats2 = compute_stats(data2)\n",
    "    \n",
    "    data = [\n",
    "        [\"Statistic\", label1, label2],\n",
    "        [\"Mean\", f\"{stats1.mean:.4f}\", f\"{stats2.mean:.4f}\"],\n",
    "        [\"Median\", f\"{stats1.median:.4f}\", f\"{stats2.median:.4f}\"],\n",
    "        [\"Standard Deviation\", f\"{stats1.stdev:.4f}\", f\"{stats2.stdev:.4f}\"],\n",
    "        [\"Min\", f\"{stats1.min:.4f}\", f\"{stats2.min:.4f}\"],\n",
    "        [\"Max\", f\"{stats1.max:.4f}\", f\"{stats2.max:.4f}\"]\n",
    "    ]\n",
    "    \n",
    "    html_table = tabulate(data, headers=\"firstrow\", tablefmt=\"html\")\n",
    "    centered_html_table = f\"\"\"\n",
    "    <div style=\"display: flex; justify-content: center;\">\n",
    "        {html_table}\n",
    "    </div>\n",
    "    \"\"\"\n",
    "    display(HTML(centered_html_table))"
   ]
  }
 ],
 "metadata": {
  "kernelspec": {
   "display_name": "Python 3 (ipykernel)",
   "language": "python",
   "name": "python3"
  },
  "language_info": {
   "codemirror_mode": {
    "name": "ipython",
    "version": 3
   },
   "file_extension": ".py",
   "mimetype": "text/x-python",
   "name": "python",
   "nbconvert_exporter": "python",
   "pygments_lexer": "ipython3",
   "version": "3.11.9"
  }
 },
 "nbformat": 4,
 "nbformat_minor": 4
}
