{
 "cells": [
  {
   "cell_type": "code",
   "execution_count": 63,
   "metadata": {},
   "outputs": [
    {
     "data": {
      "text/html": [
       "<pre style=\"white-space:pre;overflow-x:auto;line-height:normal;font-family:Menlo,'DejaVu Sans Mono',consolas,'Courier New',monospace\"><span style=\"color: #800080; text-decoration-color: #800080\">/home/kpbaks/university/semesters/10/master-thesis/gbp-rs/</span><span style=\"color: #ff00ff; text-decoration-color: #ff00ff\">scripts</span>\n",
       "</pre>\n"
      ],
      "text/plain": [
       "\u001b[35m/home/kpbaks/university/semesters/10/master-thesis/gbp-rs/\u001b[0m\u001b[95mscripts\u001b[0m\n"
      ]
     },
     "metadata": {},
     "output_type": "display_data"
    }
   ],
   "source": [
    "import sys\n",
    "import os\n",
    "\n",
    "# sys.path.append('scripts')\n",
    "\n",
    "import re\n",
    "import json\n",
    "import statistics\n",
    "import argparse\n",
    "import itertools\n",
    "from pathlib import Path\n",
    "import collections\n",
    "from concurrent.futures import ProcessPoolExecutor\n",
    "\n",
    "import numpy as np\n",
    "import matplotlib.pyplot as plt\n",
    "# from matplotlib.font_manager import FontProperties\n",
    "import matplotlib.font_manager as fm\n",
    "from matplotlib.patches import FancyBboxPatch\n",
    "from matplotlib.patches import PathPatch\n",
    "from matplotlib.path import get_path_collection_extents\n",
    "import seaborn as sns\n",
    "\n",
    "from rich import print, pretty\n",
    "from typing import  Iterable\n",
    "import pretty_errors\n",
    "from catppuccin import PALETTE\n",
    "\n",
    "print(os.getcwd())\n",
    "\n",
    "# import .scripts.ldj\n",
    "# from ldj import ldj\n",
    "# from utils import *\n",
    "\n",
    "pretty.install()\n",
    "\n",
    "EXPERIMENT_DIR = Path(\"../experiments2\")\n",
    "assert EXPERIMENT_DIR.is_dir() and EXPERIMENT_DIR.exists()\n",
    "\n",
    "# RESULTS_DIRS = [\n",
    "#     Path('./experiments/circle-experiment-lm-3-th-5'),\n",
    "#     Path('./experiments/circle-experiment-lm-1-th-13'),\n",
    "#     Path('./experiments/circle-experiment-lm-3-th-13'),\n",
    "#     Path('./experiments/environment-obstacles-lm-3-th-5-good'),\n",
    "# ]\n",
    "\n",
    "# for RESULTS_DIR in RESULTS_DIRS:\n",
    "#     assert RESULTS_DIR.is_dir() and RESULTS_DIR.exists()\n",
    "\n",
    "# RESULTS_DIR = Path('./experiments/circle-experiment-lm-3-th-5')\n",
    "\n",
    "# assert RESULTS_DIR.is_dir() and RESULTS_DIR.exists()\n",
    "\n",
    "flavor = PALETTE.latte.colors\n",
    "# num-robots-10-seed-0.json\n",
    "# RE = re.compile(r\"num-robots-(\\d+)-seed-(\\d+).json\")\n"
   ]
  },
  {
   "cell_type": "code",
   "execution_count": 119,
   "metadata": {},
   "outputs": [
    {
     "data": {
      "text/html": [
       "<pre style=\"white-space:pre;overflow-x:auto;line-height:normal;font-family:Menlo,'DejaVu Sans Mono',consolas,'Courier New',monospace\">STIX Two Text\n",
       "</pre>\n"
      ],
      "text/plain": [
       "STIX Two Text\n"
      ]
     },
     "metadata": {},
     "output_type": "display_data"
    }
   ],
   "source": [
    "# use LaTeX for text with matplotlib\n",
    "sns.set_style(\"darkgrid\")\n",
    "# set background color of sns darkgrid to flavor.base.hex\n",
    "plt.rcParams['axes.facecolor'] = flavor.base.hex\n",
    "# set font color to flavor.text.hex\n",
    "plt.rcParams['text.color'] = flavor.text.hex\n",
    "\n",
    "font_dirs = [\"fonts/\"]\n",
    "# go through all fonts in the font directory and add them\n",
    "for font_dir in font_dirs:\n",
    "    for font in os.listdir(font_dir):\n",
    "        fm.fontManager.addfont(f\"{font_dir}/{font}\")\n",
    "\n",
    "prop_jbm = fm.FontProperties(fname='fonts/JetBrainsMonoNerdFontMono-Regular.ttf')\n",
    "prop = fm.FontProperties(fname='fonts/STIXTwoText-VariableFont_wght.ttf')\n",
    "\n",
    "plt.rcParams.update({\n",
    "    # \"text.usetex\": True,\n",
    "    \"font.family\": prop.get_name(),\n",
    "    # \"font.family\": \"stix\",\n",
    "    # \"font.sans-serif\": prop.get_name(),\n",
    "    \"mathtext.fontset\": \"stix\",\n",
    "    # \"text.latex.preamble\": r\"\\usepackage{fontenc}\\usepackage{fontspec}\\setmainfont{JetBrainsMonoNerdFontMono-Regular}\",\n",
    "})\n",
    "\n",
    "print(prop.get_name())\n",
    "\n",
    "colors = [\n",
    "    (flavor.lavender.hex, 1.0, (1, 0), 'o'),\n",
    "    (flavor.teal.hex,   0.3, (2, 2), 'X'),\n",
    "    (flavor.green.hex,    0.3, (2, 2), 'X'),\n",
    "    (flavor.mauve.hex, 0.5, (2, 2), 'o')\n",
    "]"
   ]
  },
  {
   "cell_type": "code",
   "execution_count": 144,
   "metadata": {},
   "outputs": [],
   "source": [
    "aggregation_fn = statistics.mean\n",
    "# aggregation_fn = statistics.median"
   ]
  },
  {
   "cell_type": "markdown",
   "metadata": {},
   "source": [
    "# Environment Obstacles\n",
    "\n",
    "\n"
   ]
  },
  {
   "cell_type": "code",
   "execution_count": 145,
   "metadata": {},
   "outputs": [],
   "source": [
    "dir = EXPERIMENT_DIR / 'environment-obstacles'\n",
    "assert dir.is_dir() and dir.exists()\n",
    "\n",
    "RE = re.compile(r'num-robots-(?P<robots>\\d+)-seed-(?P<seed>\\d+).json')\n",
    "\n",
    "result: dict[int, list[int]] = {}\n",
    "\n",
    "for file in dir.glob('*.json'):\n",
    "    match = RE.match(file.name)\n",
    "    assert match is not None\n",
    "    num_robots = int(match.group(1))\n",
    "    seed = int(match.group(2))\n",
    "\n",
    "    with open(file, 'r') as file:\n",
    "        data = json.load(file)\n",
    "        environment_collisions: int = len(data['collisions']['environment'])\n",
    "        if num_robots in result:\n",
    "            result[num_robots].append(environment_collisions)\n",
    "        else:\n",
    "            result[num_robots] = [environment_collisions]\n"
   ]
  },
  {
   "cell_type": "code",
   "execution_count": 146,
   "metadata": {},
   "outputs": [
    {
     "data": {
      "text/html": [
       "<pre style=\"white-space:pre;overflow-x:auto;line-height:normal;font-family:Menlo,'DejaVu Sans Mono',consolas,'Courier New',monospace\"></pre>\n"
      ],
      "text/plain": []
     },
     "metadata": {},
     "output_type": "display_data"
    },
    {
     "data": {
      "text/plain": [
       "\u001b[1m{\u001b[0m\u001b[1;36m30\u001b[0m: \u001b[1;36m4.6\u001b[0m, \u001b[1;36m35\u001b[0m: \u001b[1;36m4.2\u001b[0m, \u001b[1;36m40\u001b[0m: \u001b[1;36m7.8\u001b[0m, \u001b[1;36m5\u001b[0m: \u001b[1;36m0.2\u001b[0m, \u001b[1;36m25\u001b[0m: \u001b[1;36m2.4\u001b[0m, \u001b[1;36m20\u001b[0m: \u001b[1;36m2.2\u001b[0m, \u001b[1;36m10\u001b[0m: \u001b[1;36m1.4\u001b[0m, \u001b[1;36m15\u001b[0m: \u001b[1;36m1\u001b[0m, \u001b[1;36m50\u001b[0m: \u001b[1;36m16.4\u001b[0m, \u001b[1;36m45\u001b[0m: \u001b[1;36m9.4\u001b[0m\u001b[1m}\u001b[0m"
      ]
     },
     "execution_count": 146,
     "metadata": {},
     "output_type": "execute_result"
    }
   ],
   "source": [
    "aggregated_result_environment_obstacles: dict[int, float] = {\n",
    "    k: aggregation_fn(c) for k,c in result.items()\n",
    "}\n",
    "\n",
    "aggregated_result_environment_obstacles"
   ]
  },
  {
   "cell_type": "markdown",
   "metadata": {},
   "source": [
    "# Varying Network Connectivity\n",
    "\n"
   ]
  },
  {
   "cell_type": "code",
   "execution_count": 147,
   "metadata": {},
   "outputs": [],
   "source": [
    "dir = EXPERIMENT_DIR / 'varying-network-connectivity'\n",
    "assert dir.is_dir() and dir.exists()\n",
    "\n",
    "RE = re.compile(r'comms-radius-(?P<comms_radius>\\d+)-seed-(?P<seed>\\d+).json')\n",
    "\n",
    "result: dict[int, list[int]] = {}\n",
    "\n",
    "for file in dir.glob('*.json'):\n",
    "    match = RE.match(file.name)\n",
    "    assert match is not None\n",
    "    comms_radius = int(match.group(1))\n",
    "    seed = int(match.group(2))\n",
    "\n",
    "    with open(file, 'r') as file:\n",
    "        data = json.load(file)\n",
    "        environment_collisions: int = len(data['collisions']['environment'])\n",
    "        if comms_radius in result:\n",
    "            result[comms_radius].append(environment_collisions)\n",
    "        else:\n",
    "            result[comms_radius] = [environment_collisions]\n"
   ]
  },
  {
   "cell_type": "code",
   "execution_count": 148,
   "metadata": {},
   "outputs": [
    {
     "data": {
      "text/html": [
       "<pre style=\"white-space:pre;overflow-x:auto;line-height:normal;font-family:Menlo,'DejaVu Sans Mono',consolas,'Courier New',monospace\"></pre>\n"
      ],
      "text/plain": []
     },
     "metadata": {},
     "output_type": "display_data"
    },
    {
     "data": {
      "text/plain": [
       "\u001b[1m{\u001b[0m\u001b[1;36m20\u001b[0m: \u001b[1;36m4.6\u001b[0m, \u001b[1;36m60\u001b[0m: \u001b[1;36m5.6\u001b[0m, \u001b[1;36m80\u001b[0m: \u001b[1;36m5.2\u001b[0m, \u001b[1;36m40\u001b[0m: \u001b[1;36m4.8\u001b[0m\u001b[1m}\u001b[0m"
      ]
     },
     "execution_count": 148,
     "metadata": {},
     "output_type": "execute_result"
    }
   ],
   "source": [
    "aggregated_result_varying_network_connectivity: dict[int, float] = {\n",
    "    k: aggregation_fn(c) for k,c in result.items()\n",
    "}\n",
    "\n",
    "aggregated_result_varying_network_connectivity"
   ]
  },
  {
   "cell_type": "markdown",
   "metadata": {},
   "source": [
    "# Communication Failure"
   ]
  },
  {
   "cell_type": "code",
   "execution_count": 149,
   "metadata": {},
   "outputs": [],
   "source": [
    "dir = EXPERIMENT_DIR / 'communications-failure-lm-3-tk-5'\n",
    "assert dir.is_dir() and dir.exists()\n",
    "\n",
    "RE = re.compile(r'v0-(?P<v0>\\d+)-failure-(?P<failure>\\d\\.\\d)-.*seed-(?P<seed>\\d+).json')\n",
    "\n",
    "result: dict[int, list[int]] = {}\n",
    "\n",
    "result: dict[int, dict[float, [list[int]]]] = dict()\n",
    "\n",
    "for file in dir.glob('*.json'):\n",
    "    match = RE.match(file.name)\n",
    "    assert match is not None\n",
    "    v0 = int(match.group(1))\n",
    "    failure = float(match.group(2))\n",
    "    seed = int(match.group(3))\n",
    "\n",
    "    with open(file, 'r') as file:\n",
    "        data = json.load(file)\n",
    "        environment_collisions: int = len(data['collisions']['environment'])\n",
    "        if v0 not in result:\n",
    "            result[v0] = dict()\n",
    "        \n",
    "        if failure not in result[v0]:\n",
    "            result[v0][failure] = []\n",
    "\n",
    "        result[v0][failure].append(environment_collisions)"
   ]
  },
  {
   "cell_type": "code",
   "execution_count": 150,
   "metadata": {},
   "outputs": [
    {
     "data": {
      "text/html": [
       "<pre style=\"white-space:pre;overflow-x:auto;line-height:normal;font-family:Menlo,'DejaVu Sans Mono',consolas,'Courier New',monospace\"></pre>\n"
      ],
      "text/plain": []
     },
     "metadata": {},
     "output_type": "display_data"
    },
    {
     "data": {
      "text/plain": [
       "\n",
       "\u001b[1m{\u001b[0m\n",
       "    \u001b[1;36m10\u001b[0m: \u001b[1m{\u001b[0m\u001b[1;36m0.7\u001b[0m: \u001b[1;36m4.4\u001b[0m, \u001b[1;36m0.5\u001b[0m: \u001b[1;36m3.8\u001b[0m, \u001b[1;36m0.2\u001b[0m: \u001b[1;36m2.4\u001b[0m, \u001b[1;36m0.0\u001b[0m: \u001b[1;36m1.8\u001b[0m, \u001b[1;36m0.6\u001b[0m: \u001b[1;36m3.8\u001b[0m, \u001b[1;36m0.3\u001b[0m: \u001b[1;36m2.4\u001b[0m, \u001b[1;36m0.4\u001b[0m: \u001b[1;36m3.4\u001b[0m, \u001b[1;36m0.1\u001b[0m: \u001b[1;36m3.4\u001b[0m\u001b[1m}\u001b[0m,\n",
       "    \u001b[1;36m15\u001b[0m: \u001b[1m{\u001b[0m\u001b[1;36m0.0\u001b[0m: \u001b[1;36m3.2\u001b[0m, \u001b[1;36m0.5\u001b[0m: \u001b[1;36m2.8\u001b[0m, \u001b[1;36m0.1\u001b[0m: \u001b[1;36m3.6\u001b[0m, \u001b[1;36m0.4\u001b[0m: \u001b[1;36m3.6\u001b[0m, \u001b[1;36m0.6\u001b[0m: \u001b[1;36m3.2\u001b[0m, \u001b[1;36m0.2\u001b[0m: \u001b[1;36m2.2\u001b[0m, \u001b[1;36m0.7\u001b[0m: \u001b[1;36m4.4\u001b[0m, \u001b[1;36m0.3\u001b[0m: \u001b[1;36m2.4\u001b[0m\u001b[1m}\u001b[0m\n",
       "\u001b[1m}\u001b[0m"
      ]
     },
     "execution_count": 150,
     "metadata": {},
     "output_type": "execute_result"
    }
   ],
   "source": [
    "aggregated_result_communications_failure: dict[int, dict[float, int]] = {\n",
    "    k1: {k2: aggregation_fn(v2) for k2, v2 in v1.items()} for k1, v1 in result.items()\n",
    "}\n",
    "\n",
    "aggregated_result_communications_failure"
   ]
  },
  {
   "cell_type": "code",
   "execution_count": 152,
   "metadata": {},
   "outputs": [
    {
     "data": {
      "text/html": [
       "<pre style=\"white-space:pre;overflow-x:auto;line-height:normal;font-family:Menlo,'DejaVu Sans Mono',consolas,'Courier New',monospace\"></pre>\n"
      ],
      "text/plain": []
     },
     "metadata": {},
     "output_type": "display_data"
    },
    {
     "data": {
      "image/png": "[encoded data removed]",
      "text/plain": [
       "\u001b[1m<\u001b[0m\u001b[1;95mFigure\u001b[0m\u001b[39m size 80\u001b[0m\u001b[1;36m0x800\u001b[0m\u001b[39m with \u001b[0m\u001b[1;36m3\u001b[0m\u001b[39m Axes\u001b[0m\u001b[1m>\u001b[0m"
      ]
     },
     "metadata": {},
     "output_type": "display_data"
    }
   ],
   "source": [
    "fig, axs = plt.subplots(3, figsize=(8,8))\n",
    "# fig.patch.set_facecolor((0, 0, 0, 0))\n",
    "ylabel: str = '$\\mu$ collisions'\n",
    "label_args = dict(fontsize=12, fontdict={'color': flavor.text.hex})\n",
    "ticklabels_args = dict(fontproperties=prop_jbm, fontdict=dict(color=flavor.text.hex))\n",
    "title_args = label_args\n",
    "ymax = 18\n",
    "\n",
    "for ax in axs:\n",
    "    ax.set_ylim(0, ymax)\n",
    "    ax.set_ylabel(ylabel,  **label_args)\n",
    "\n",
    "# ax.set_yticklabels(yticks, fontproperties=prop_jbm, fontdict=dict(color=flavor.text.hex))\n",
    "\n",
    "\n",
    "ax = axs[0]\n",
    "\n",
    "for k, v in sorted(aggregated_result_environment_obstacles.items(), key=lambda it: it[0]):\n",
    "    ax.bar(k / 5, v, 0.5, color=flavor.lavender.hex)\n",
    "\n",
    "\n",
    "xticks = [k / 5 for k in sorted(aggregated_result_environment_obstacles.keys())]\n",
    "ax.set_xticks(xticks)\n",
    "xticklabels = list(sorted(aggregated_result_environment_obstacles.keys()))\n",
    "ax.set_xticklabels(xticklabels, **ticklabels_args)\n",
    "\n",
    "# ax.bar(\n",
    "#     aggregated_result_environment_obstacles.keys(), \n",
    "#     aggregated_result_environment_obstacles.values(),\n",
    "#     0.5,\n",
    "#     color=flavor.lavender.hex\n",
    "# )\n",
    "ax.set_xlabel('#robots', **label_args)\n",
    "ax.set_title(\"Environment Obstacles\", **title_args)\n",
    "\n",
    "ax = axs[1]\n",
    "\n",
    "for k, v in sorted(aggregated_result_varying_network_connectivity.items(), key=lambda it: it[0]):\n",
    "    ax.bar(k / 20.0, v, 0.5, color=flavor.teal.hex)\n",
    "ax.set_xlabel('Communication Radius $[m]$')\n",
    "ax.set_title(\"Varying Network Connectivity\", **title_args)\n",
    "xticks = [k / 20.0 for k in sorted(aggregated_result_varying_network_connectivity.keys())]\n",
    "ax.set_xticks(xticks)\n",
    "xticklabels = list(sorted(aggregated_result_varying_network_connectivity.keys()))\n",
    "ax.set_xticklabels(xticklabels, **ticklabels_args)\n",
    "\n",
    "\n",
    "\n",
    "# Communications Failure\n",
    "ax = axs[2]\n",
    "\n",
    "\n",
    "# data = {\n",
    "#     10: {0.7: 4.4, 0.5: 3.8, 0.2: 2.4, 0.0: 1.8, 0.6: 3.8, 0.3: 2.4, 0.4: 3.4, 0.1: 3.4},\n",
    "#     15: {0.0: 3.2, 0.5: 2.8, 0.1: 3.6, 0.4: 3.6, 0.6: 3.2, 0.2: 2.2, 0.7: 4.4, 0.3: 2.4}\n",
    "# }\n",
    "\n",
    "data = aggregated_result_communications_failure\n",
    "\n",
    "# Prepare data for plotting\n",
    "probabilities = sorted({k for v in data.values() for k in v})\n",
    "categories = sorted(data.keys())\n",
    "bar_width = 0.35\n",
    "index = np.arange(len(probabilities))\n",
    "\n",
    "# fig, ax = plt.subplots()\n",
    "\n",
    "ax = axs[2]\n",
    "\n",
    "colors = [flavor.yellow.hex, flavor.maroon.hex]\n",
    "\n",
    "for i, (category, color) in enumerate(zip(categories, colors)):\n",
    "    values = [data[category].get(p, 0) for p in probabilities]\n",
    "    ax.bar(index + i * bar_width, values, bar_width, color=color, label=f'$|v_0|$ {category} m/s')\n",
    "\n",
    "# Add labels, title, and legend\n",
    "ax.set_xlabel('Failure $[\\%]$')\n",
    "ax.set_title('Communications Failure')\n",
    "ax.set_xticks(index + bar_width / 2)\n",
    "ax.set_xticklabels(probabilities)\n",
    "xticklabels = [f\"{p * 100:.0f}\" for p in probabilities]\n",
    "ax.set_xticklabels(xticklabels, **ticklabels_args)\n",
    "\n",
    "ax.legend()\n",
    "\n",
    "plt.tight_layout()"
   ]
  },
  {
   "cell_type": "code",
   "execution_count": 176,
   "metadata": {},
   "outputs": [
    {
     "data": {
      "text/html": [
       "<pre style=\"white-space:pre;overflow-x:auto;line-height:normal;font-family:Menlo,'DejaVu Sans Mono',consolas,'Courier New',monospace\"></pre>\n"
      ],
      "text/plain": []
     },
     "metadata": {},
     "output_type": "display_data"
    },
    {
     "data": {
      "image/png": "[encoded data removed]",
      "text/plain": [
       "\u001b[1m<\u001b[0m\u001b[1;95mFigure\u001b[0m\u001b[39m size 60\u001b[0m\u001b[1;36m0x300\u001b[0m\u001b[39m with \u001b[0m\u001b[1;36m1\u001b[0m\u001b[39m Axes\u001b[0m\u001b[1m>\u001b[0m"
      ]
     },
     "metadata": {
      "needs_background": "light"
     },
     "output_type": "display_data"
    }
   ],
   "source": [
    "fig, ax = plt.subplots(1, figsize=(6,3))\n",
    "# fig.patch.set_facecolor((0, 0, 0, 0))\n",
    "ylabel: str = '$\\mu$ collisions'\n",
    "label_args = dict(fontsize=12, fontdict={'color': flavor.text.hex})\n",
    "ticklabels_args = dict(fontproperties=prop_jbm, fontdict=dict(color=flavor.text.hex))\n",
    "title_args = label_args\n",
    "ymax = 18\n",
    "bar_width: float = 0.75\n",
    "ax.set_ylim(0, ymax)\n",
    "ax.set_ylabel(ylabel,  **label_args)\n",
    "\n",
    "for k, v in sorted(aggregated_result_environment_obstacles.items(), key=lambda it: it[0]):\n",
    "    ax.bar(k / 5, v, bar_width, color=flavor.lavender.hex)\n",
    "\n",
    "xticks = [k / 5 for k in sorted(aggregated_result_environment_obstacles.keys())]\n",
    "ax.set_xticks(xticks)\n",
    "xticklabels = list(sorted(aggregated_result_environment_obstacles.keys()))\n",
    "ax.set_xticklabels(xticklabels, **ticklabels_args)\n",
    "\n",
    "ax.set_xlabel('#robots', **label_args)\n",
    "ax.set_title(\"Environment Obstacles\", **title_args)\n",
    "\n",
    "plt.tight_layout()\n",
    "fig.patch.set_facecolor((0, 0, 0, 0))\n",
    "\n",
    "plt.savefig('environment-collisions-environment-obstacles.svg')"
   ]
  },
  {
   "cell_type": "code",
   "execution_count": 175,
   "metadata": {},
   "outputs": [
    {
     "data": {
      "text/html": [
       "<pre style=\"white-space:pre;overflow-x:auto;line-height:normal;font-family:Menlo,'DejaVu Sans Mono',consolas,'Courier New',monospace\"></pre>\n"
      ],
      "text/plain": []
     },
     "metadata": {},
     "output_type": "display_data"
    },
    {
     "data": {
      "image/png": "[encoded data removed]",
      "text/plain": [
       "\u001b[1m<\u001b[0m\u001b[1;95mFigure\u001b[0m\u001b[39m size 60\u001b[0m\u001b[1;36m0x300\u001b[0m\u001b[39m with \u001b[0m\u001b[1;36m1\u001b[0m\u001b[39m Axes\u001b[0m\u001b[1m>\u001b[0m"
      ]
     },
     "metadata": {
      "needs_background": "light"
     },
     "output_type": "display_data"
    }
   ],
   "source": [
    "fig, ax = plt.subplots(1, figsize=(6,3))\n",
    "ax.set_ylim(0, ymax)\n",
    "ax.set_ylabel(ylabel,  **label_args)\n",
    "\n",
    "for k, v in sorted(aggregated_result_varying_network_connectivity.items(), key=lambda it: it[0]):\n",
    "    ax.bar(k / 20.0, v, bar_width, color=flavor.teal.hex)\n",
    "ax.set_xlabel('Communication Radius $[m]$')\n",
    "ax.set_title(\"Varying Network Connectivity\", **title_args)\n",
    "xticks = [k / 20.0 for k in sorted(aggregated_result_varying_network_connectivity.keys())]\n",
    "ax.set_xticks(xticks)\n",
    "xticklabels = list(sorted(aggregated_result_varying_network_connectivity.keys()))\n",
    "ax.set_xticklabels(xticklabels, **ticklabels_args)\n",
    "\n",
    "plt.tight_layout()\n",
    "fig.patch.set_facecolor((0, 0, 0, 0))\n",
    "\n",
    "plt.savefig('environment-collisions-varying-network-connectivity.svg')"
   ]
  },
  {
   "cell_type": "code",
   "execution_count": 177,
   "metadata": {},
   "outputs": [
    {
     "data": {
      "text/html": [
       "<pre style=\"white-space:pre;overflow-x:auto;line-height:normal;font-family:Menlo,'DejaVu Sans Mono',consolas,'Courier New',monospace\"></pre>\n"
      ],
      "text/plain": []
     },
     "metadata": {},
     "output_type": "display_data"
    },
    {
     "data": {
      "image/png": "[encoded data removed]",
      "text/plain": [
       "\u001b[1m<\u001b[0m\u001b[1;95mFigure\u001b[0m\u001b[39m size 60\u001b[0m\u001b[1;36m0x300\u001b[0m\u001b[39m with \u001b[0m\u001b[1;36m1\u001b[0m\u001b[39m Axes\u001b[0m\u001b[1m>\u001b[0m"
      ]
     },
     "metadata": {
      "needs_background": "light"
     },
     "output_type": "display_data"
    }
   ],
   "source": [
    "data = aggregated_result_communications_failure\n",
    "\n",
    "# Prepare data for plotting\n",
    "probabilities = sorted({k for v in data.values() for k in v})\n",
    "categories = sorted(data.keys())\n",
    "bar_width = 0.35\n",
    "index = np.arange(len(probabilities))\n",
    "\n",
    "fig, ax = plt.subplots(1, figsize=(6,3))\n",
    "ax.set_ylim(0, ymax)\n",
    "ax.set_ylabel(ylabel,  **label_args)\n",
    "\n",
    "\n",
    "colors = [flavor.yellow.hex, flavor.maroon.hex]\n",
    "\n",
    "for i, (category, color) in enumerate(zip(categories, colors)):\n",
    "    values = [data[category].get(p, 0) for p in probabilities]\n",
    "    ax.bar(index + i * bar_width, values, bar_width, color=color, label=f'$|v_0|$ {category} m/s')\n",
    "\n",
    "# Add labels, title, and legend\n",
    "ax.set_xlabel('Failure $[\\%]$')\n",
    "ax.set_title('Communications Failure')\n",
    "ax.set_xticks(index + bar_width / 2)\n",
    "ax.set_xticklabels(probabilities)\n",
    "xticklabels = [f\"{p * 100:.0f}\" for p in probabilities]\n",
    "ax.set_xticklabels(xticklabels, **ticklabels_args)\n",
    "\n",
    "ax.legend()\n",
    "\n",
    "plt.tight_layout()\n",
    "fig.patch.set_facecolor((0, 0, 0, 0))\n",
    "\n",
    "plt.savefig('environment-collisions-communications-failure.svg')"
   ]
  }
 ],
 "metadata": {
  "kernelspec": {
   "display_name": "Python 3",
   "language": "python",
   "name": "python3"
  },
  "language_info": {
   "codemirror_mode": {
    "name": "ipython",
    "version": 3
   },
   "file_extension": ".py",
   "mimetype": "text/x-python",
   "name": "python",
   "nbconvert_exporter": "python",
   "pygments_lexer": "ipython3",
   "version": "3.11.9"
  }
 },
 "nbformat": 4,
 "nbformat_minor": 2
}
