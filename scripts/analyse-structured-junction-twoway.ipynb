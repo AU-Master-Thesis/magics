{
 "cells": [
  {
   "cell_type": "code",
   "execution_count": 2,
   "metadata": {},
   "outputs": [
    {
     "data": {
      "text/html": [
       "<pre style=\"white-space:pre;overflow-x:auto;line-height:normal;font-family:Menlo,'DejaVu Sans Mono',consolas,'Courier New',monospace\"><span style=\"color: #800080; text-decoration-color: #800080; font-weight: bold\">os.getcwd</span><span style=\"font-weight: bold\">()</span>=<span style=\"color: #008000; text-decoration-color: #008000\">'/home/kpbaks/university/semesters/10/master-thesis/gbp-rs/scripts'</span>\n",
       "</pre>\n"
      ],
      "text/plain": [
       "\u001b[1;35mos.getcwd\u001b[0m\u001b[1m(\u001b[0m\u001b[1m)\u001b[0m=\u001b[32m'/home/kpbaks/university/semesters/10/master-thesis/gbp-rs/scripts'\u001b[0m\n"
      ]
     },
     "metadata": {},
     "output_type": "display_data"
    }
   ],
   "source": [
    "import inspect, os, sys\n",
    "\n",
    "import re\n",
    "import json\n",
    "import statistics\n",
    "import argparse\n",
    "import itertools\n",
    "from glob import glob\n",
    "from pathlib import Path\n",
    "from dataclasses import dataclass\n",
    "from typing import  Iterable, Any\n",
    "\n",
    "\n",
    "def cd_if_exists(dir: Path | str) -> bool:\n",
    "    if isinstance(dir, str):\n",
    "        dir = Path(dir)\n",
    "    if dir.exists() and dir.is_dir():\n",
    "        os.chdir(dir)\n",
    "        return True\n",
    "    else:\n",
    "        return False\n",
    "\n",
    "# Normally start VSCode (or whatever you use to run this notebook interactively) from the root, so\n",
    "# we have to `cd` into the parent dir of this file, to access utils functions.\n",
    "cd_if_exists('./scripts')\n",
    "\n",
    "# These are util functions\n",
    "from ldj import ldj\n",
    "from utils import *\n",
    "\n",
    "import numpy as np\n",
    "import matplotlib.pyplot as plt\n",
    "# from matplotlib.font_manager import FontProperties\n",
    "import matplotlib.font_manager as fm\n",
    "from matplotlib.patches import FancyBboxPatch\n",
    "from matplotlib.ticker import FuncFormatter\n",
    "from matplotlib.patches import PathPatch\n",
    "from matplotlib.path import get_path_collection_extents\n",
    "import seaborn as sns\n",
    "\n",
    "from rich import print, pretty\n",
    "from tabulate import tabulate\n",
    "import pretty_errors\n",
    "from catppuccin import PALETTE\n",
    "from IPython.display import display, HTML\n",
    "\n",
    "pretty.install()\n",
    "print(f\"{os.getcwd()=}\")\n",
    "\n",
    "EXPERIMENT_DIR = Path(\"../experiments/structured-junction-twoway\")\n",
    "assert EXPERIMENT_DIR.is_dir() and EXPERIMENT_DIR.exists()\n",
    "\n",
    "flavor = PALETTE.latte.colors\n",
    "# data = dict()\n"
   ]
  },
  {
   "cell_type": "code",
   "execution_count": 3,
   "metadata": {},
   "outputs": [
    {
     "data": {
      "text/html": [
       "<pre style=\"white-space:pre;overflow-x:auto;line-height:normal;font-family:Menlo,'DejaVu Sans Mono',consolas,'Courier New',monospace\">STIX Two Text\n",
       "</pre>\n"
      ],
      "text/plain": [
       "STIX Two Text\n"
      ]
     },
     "metadata": {},
     "output_type": "display_data"
    }
   ],
   "source": [
    "# use LaTeX for text with matplotlib\n",
    "sns.set_style(\"darkgrid\")\n",
    "# set background color of sns darkgrid to flavor.base.hex\n",
    "plt.rcParams['axes.facecolor'] = flavor.base.hex\n",
    "# set font color to flavor.text.hex\n",
    "plt.rcParams['text.color'] = flavor.text.hex\n",
    "\n",
    "font_dirs = [\"./fonts/\"]\n",
    "# go through all fonts in the font directory and add them\n",
    "for font_dir in font_dirs:\n",
    "    for font in os.listdir(font_dir):\n",
    "        fm.fontManager.addfont(f\"{font_dir}/{font}\")\n",
    "\n",
    "prop_jbm = fm.FontProperties(fname='./fonts/JetBrainsMonoNerdFontMono-Regular.ttf')\n",
    "prop = fm.FontProperties(fname='./fonts/STIXTwoText-VariableFont_wght.ttf')\n",
    "\n",
    "plt.rcParams.update({\n",
    "    # \"text.usetex\": True,\n",
    "    \"font.family\": prop.get_name(),\n",
    "    # \"font.family\": \"stix\",\n",
    "    # \"font.sans-serif\": prop.get_name(),\n",
    "    \"mathtext.fontset\": \"stix\",\n",
    "    # \"text.latex.preamble\": r\"\\usepackage{fontenc}\\usepackage{fontspec}\\setmainfont{JetBrainsMonoNerdFontMono-Regular}\",\n",
    "})\n",
    "\n",
    "print(prop.get_name())\n",
    "\n",
    "colors = [\n",
    "    (flavor.lavender.hex, 1.0, (1, 0), 'o'),\n",
    "    (flavor.green.hex, 1.0, (2, 2), 'X'),\n",
    "]"
   ]
  },
  {
   "cell_type": "code",
   "execution_count": 4,
   "metadata": {
    "editable": true,
    "slideshow": {
     "slide_type": ""
    },
    "tags": []
   },
   "outputs": [],
   "source": [
    "@dataclass(frozen=True)\n",
    "class Statistics:\n",
    "    mean: float\n",
    "    median: float\n",
    "    stdev: float\n",
    "    min: float\n",
    "    max: float\n",
    "\n",
    "\n",
    "    def display(self) -> None:\n",
    "        data = [\n",
    "            [\"Mean\", self.mean],\n",
    "            [\"Median\", self.median],\n",
    "            [\"Standard Deviation\", self.stdev],\n",
    "            [\"Min\", self.min],\n",
    "            [\"Max\", self.max]\n",
    "        ]\n",
    "        html_table = tabulate(data, headers=[\"Statistic\", \"Value\"], tablefmt=\"html\")\n",
    "        centered_html_table = f\"\"\"\n",
    "        <div style=\"display: flex; justify-content: center;\">\n",
    "            {html_table}\n",
    "        </div>\n",
    "        \"\"\"\n",
    "        display(HTML(html_table))\n",
    "        # display(HTML(centered_html_table))\n",
    "\n",
    "\n",
    "def compute_stats(data: list[float]) -> Statistics:\n",
    "    return Statistics(\n",
    "        mean=np.mean(data),\n",
    "        median=np.median(data),\n",
    "        stdev=np.std(data),\n",
    "        min=np.min(data),\n",
    "        max=np.max(data),\n",
    "    )\n"
   ]
  },
  {
   "cell_type": "code",
   "execution_count": 5,
   "metadata": {},
   "outputs": [],
   "source": [
    "@dataclass(frozen=True)\n",
    "class PerpendicularPositionErrorResult:\n",
    "    errors: list[float]\n",
    "    rmses: list[float]\n",
    "\n",
    "\n",
    "def perpendicular_position_error(exported_data: dict) -> PerpendicularPositionErrorResult:\n",
    "    errors: list[float] = []\n",
    "    rmses: list[float] = []\n",
    "\n",
    "    for robot_id, robot_data in exported_data['robots'].items():\n",
    "        color: str = robot_data['color']\n",
    "        positions = np.array([p for p in robot_data['positions']])\n",
    "        mission = robot_data['mission']\n",
    "        waypoints = []\n",
    "        for route in mission['routes']:\n",
    "            waypoints.append(route['waypoints'][0])\n",
    "            for wp in route['waypoints'][1:]:\n",
    "                waypoints.append(wp)\n",
    "\n",
    "        waypoints = np.array(waypoints)\n",
    "        waypoints = np.squeeze(waypoints)\n",
    "\n",
    "        lines: list[LinePoints] = [LinePoints(start=start, end=end) for start, end in sliding_window(waypoints, 2)]\n",
    "        closest_projections = [closest_projection_onto_line_segments(p, lines) for p in positions]\n",
    "\n",
    "        error: float = np.sum(np.linalg.norm(positions - closest_projections, axis=1))\n",
    "        rmse: float = np.sqrt(error / len(positions))\n",
    "\n",
    "        errors.append(error)\n",
    "        rmses.append(rmse)\n",
    "\n",
    "    return PerpendicularPositionErrorResult(errors=errors, rmses=rmses)\n"
   ]
  },
  {
   "cell_type": "code",
   "execution_count": 6,
   "metadata": {},
   "outputs": [],
   "source": [
    "@dataclass(frozen=True)\n",
    "class CollisionsResult:\n",
    "    interrobot: int\n",
    "    environment: int\n",
    "\n",
    "def collisions(exported_data: dict) -> CollisionsResult:\n",
    "    interrobot: int = len(exported_data['collisions']['robots'])\n",
    "    environment: int = len(exported_data['collisions']['environment'])\n",
    "    return CollisionsResult(interrobot=interrobot, environment=environment)\n"
   ]
  },
  {
   "cell_type": "code",
   "execution_count": 7,
   "metadata": {},
   "outputs": [],
   "source": [
    "@dataclass(frozen=True)\n",
    "class TotalDistanceTravelledResult:\n",
    "    distance: list[float]\n",
    "    optimal_distance: list[float]\n",
    "\n",
    "    @staticmethod\n",
    "    def new() -> 'TotalDistanceTravelledResult':\n",
    "        return TotalDistanceTravelledResult(distance=[], optimal_distance=[])\n",
    "\n",
    "# def euclidian_distance(a: (float, float), b: (float, float)) -> float:\n",
    "\n",
    "def total_distance_travelled(exported_data: dict) -> TotalDistanceTravelledResult:\n",
    "    result = TotalDistanceTravelledResult.new()\n",
    "\n",
    "    for robot_id, robot_data in exported_data['robots'].items():\n",
    "        positions = robot_data['positions']\n",
    "\n",
    "        for i in range(len(positions) - 1, -1, -1):\n",
    "            point = positions[i]\n",
    "            if abs(point[0]) > 50 or abs(point[1]) > 50:\n",
    "                _ = positions.pop()\n",
    "\n",
    "        positions = np.array([p for p in robot_data['positions']])\n",
    "\n",
    "        waypoints = []\n",
    "        mission = robot_data['mission']\n",
    "        for route in mission['routes']:\n",
    "            waypoints.append(route['waypoints'][0])\n",
    "            for wp in route['waypoints'][1:]:\n",
    "                waypoints.append(wp)\n",
    "\n",
    "        waypoints = np.array(waypoints)\n",
    "        waypoints = np.squeeze(waypoints)\n",
    "\n",
    "        x =waypoints[-1][0]\n",
    "        if abs(x) > 50:\n",
    "            sign: int = -1 if x < 0.0 else 1\n",
    "            x = sign * 50\n",
    "            waypoints[-1][0] = x\n",
    "\n",
    "        y =waypoints[-1][1]\n",
    "        if abs(y) > 50:\n",
    "            sign: int = -1 if y < 0.0 else 1\n",
    "            y = sign * 50\n",
    "            waypoints[-1][1] = y\n",
    "\n",
    "\n",
    "        def accumulated_distance(points):\n",
    "            # Compute pairwise Euclidean distances between successive points\n",
    "            distances = np.sum(np.sqrt(np.sum(np.diff(points, axis=0)**2, axis=1)))\n",
    "            return distances\n",
    "\n",
    "        optimal_distance = accumulated_distance(waypoints)\n",
    "        total_distance_travelled = accumulated_distance(positions)\n",
    "        result.distance.append(total_distance_travelled)\n",
    "        result.optimal_distance.append(optimal_distance)\n",
    "\n",
    "    return result"
   ]
  },
  {
   "cell_type": "code",
   "execution_count": 8,
   "metadata": {},
   "outputs": [],
   "source": [
    "@dataclass(frozen=True)\n",
    "class DurationResult:\n",
    "    inner: list[float]\n",
    "\n",
    "\n",
    "def durations(data_set: dict) -> DurationResult:\n",
    "    iter = data_set['robots'].items()\n",
    "    ds = np.empty(len(iter))\n",
    "    \n",
    "    for i, (_, robot_data) in enumerate(iter):\n",
    "        m = robot_data['mission']\n",
    "        finished_at: float = m['finished_at']\n",
    "        started_at: float = m['started_at']\n",
    "        dur: float = finished_at - started_at\n",
    "        # print(f\"{dur=}\")\n",
    "        ds[i] = dur\n",
    "\n",
    "    return DurationResult(ds)"
   ]
  },
  {
   "cell_type": "code",
   "execution_count": 20,
   "metadata": {},
   "outputs": [],
   "source": [
    "@dataclass(frozen=True)\n",
    "class Metric:\n",
    "    ppe: PerpendicularPositionErrorResult\n",
    "    collisions: CollisionsResult\n",
    "    total_distance_travelled: TotalDistanceTravelledResult\n",
    "    durations: DurationResult\n"
   ]
  },
  {
   "cell_type": "code",
   "execution_count": 21,
   "metadata": {},
   "outputs": [],
   "source": [
    "def flatten(lst: Iterable) -> list:\n",
    "    return list(itertools.chain.from_iterable(lst))\n"
   ]
  },
  {
   "cell_type": "code",
   "execution_count": 23,
   "metadata": {},
   "outputs": [
    {
     "data": {
      "text/html": [
       "<pre style=\"white-space:pre;overflow-x:auto;line-height:normal;font-family:Menlo,'DejaVu Sans Mono',consolas,'Courier New',monospace\"><span style=\"color: #808000; text-decoration-color: #808000\">f</span>=<span style=\"color: #800080; text-decoration-color: #800080; font-weight: bold\">PosixPath</span><span style=\"font-weight: bold\">(</span><span style=\"color: #008000; text-decoration-color: #008000\">'../experiments/structured-junction-twoway/tracking-on-failure-0.1.png'</span><span style=\"font-weight: bold\">)</span>\n",
       "</pre>\n"
      ],
      "text/plain": [
       "\u001b[33mf\u001b[0m=\u001b[1;35mPosixPath\u001b[0m\u001b[1m(\u001b[0m\u001b[32m'../experiments/structured-junction-twoway/tracking-on-failure-0.1.png'\u001b[0m\u001b[1m)\u001b[0m\n"
      ]
     },
     "metadata": {},
     "output_type": "display_data"
    },
    {
     "data": {
      "text/html": [
       "<pre style=\"white-space:pre;overflow-x:auto;line-height:normal;font-family:Menlo,'DejaVu Sans Mono',consolas,'Courier New',monospace\"><span style=\"color: #808000; text-decoration-color: #808000\">f</span>=<span style=\"color: #800080; text-decoration-color: #800080; font-weight: bold\">PosixPath</span><span style=\"font-weight: bold\">(</span><span style=\"color: #008000; text-decoration-color: #008000\">'../experiments/structured-junction-twoway/tracking-off-failure-0.6.json'</span><span style=\"font-weight: bold\">)</span>\n",
       "</pre>\n"
      ],
      "text/plain": [
       "\u001b[33mf\u001b[0m=\u001b[1;35mPosixPath\u001b[0m\u001b[1m(\u001b[0m\u001b[32m'../experiments/structured-junction-twoway/tracking-off-failure-0.6.json'\u001b[0m\u001b[1m)\u001b[0m\n"
      ]
     },
     "metadata": {},
     "output_type": "display_data"
    },
    {
     "data": {
      "text/html": [
       "<pre style=\"white-space:pre;overflow-x:auto;line-height:normal;font-family:Menlo,'DejaVu Sans Mono',consolas,'Courier New',monospace\"><span style=\"color: #808000; text-decoration-color: #808000\">f</span>=<span style=\"color: #800080; text-decoration-color: #800080; font-weight: bold\">PosixPath</span><span style=\"font-weight: bold\">(</span><span style=\"color: #008000; text-decoration-color: #008000\">'../experiments/structured-junction-twoway/tracking-on-failure-0.4.json'</span><span style=\"font-weight: bold\">)</span>\n",
       "</pre>\n"
      ],
      "text/plain": [
       "\u001b[33mf\u001b[0m=\u001b[1;35mPosixPath\u001b[0m\u001b[1m(\u001b[0m\u001b[32m'../experiments/structured-junction-twoway/tracking-on-failure-0.4.json'\u001b[0m\u001b[1m)\u001b[0m\n"
      ]
     },
     "metadata": {},
     "output_type": "display_data"
    },
    {
     "data": {
      "text/html": [
       "<pre style=\"white-space:pre;overflow-x:auto;line-height:normal;font-family:Menlo,'DejaVu Sans Mono',consolas,'Courier New',monospace\"><span style=\"color: #808000; text-decoration-color: #808000\">f</span>=<span style=\"color: #800080; text-decoration-color: #800080; font-weight: bold\">PosixPath</span><span style=\"font-weight: bold\">(</span><span style=\"color: #008000; text-decoration-color: #008000\">'../experiments/structured-junction-twoway/tracking-off-failure-0.0.json'</span><span style=\"font-weight: bold\">)</span>\n",
       "</pre>\n"
      ],
      "text/plain": [
       "\u001b[33mf\u001b[0m=\u001b[1;35mPosixPath\u001b[0m\u001b[1m(\u001b[0m\u001b[32m'../experiments/structured-junction-twoway/tracking-off-failure-0.0.json'\u001b[0m\u001b[1m)\u001b[0m\n"
      ]
     },
     "metadata": {},
     "output_type": "display_data"
    },
    {
     "data": {
      "text/html": [
       "<pre style=\"white-space:pre;overflow-x:auto;line-height:normal;font-family:Menlo,'DejaVu Sans Mono',consolas,'Courier New',monospace\"><span style=\"color: #808000; text-decoration-color: #808000\">f</span>=<span style=\"color: #800080; text-decoration-color: #800080; font-weight: bold\">PosixPath</span><span style=\"font-weight: bold\">(</span><span style=\"color: #008000; text-decoration-color: #008000\">'../experiments/structured-junction-twoway/tracking-on-failure-0.3.png'</span><span style=\"font-weight: bold\">)</span>\n",
       "</pre>\n"
      ],
      "text/plain": [
       "\u001b[33mf\u001b[0m=\u001b[1;35mPosixPath\u001b[0m\u001b[1m(\u001b[0m\u001b[32m'../experiments/structured-junction-twoway/tracking-on-failure-0.3.png'\u001b[0m\u001b[1m)\u001b[0m\n"
      ]
     },
     "metadata": {},
     "output_type": "display_data"
    },
    {
     "data": {
      "text/html": [
       "<pre style=\"white-space:pre;overflow-x:auto;line-height:normal;font-family:Menlo,'DejaVu Sans Mono',consolas,'Courier New',monospace\"><span style=\"color: #808000; text-decoration-color: #808000\">f</span>=<span style=\"color: #800080; text-decoration-color: #800080; font-weight: bold\">PosixPath</span><span style=\"font-weight: bold\">(</span><span style=\"color: #008000; text-decoration-color: #008000\">'../experiments/structured-junction-twoway/tracking-off-failure-0.1.png'</span><span style=\"font-weight: bold\">)</span>\n",
       "</pre>\n"
      ],
      "text/plain": [
       "\u001b[33mf\u001b[0m=\u001b[1;35mPosixPath\u001b[0m\u001b[1m(\u001b[0m\u001b[32m'../experiments/structured-junction-twoway/tracking-off-failure-0.1.png'\u001b[0m\u001b[1m)\u001b[0m\n"
      ]
     },
     "metadata": {},
     "output_type": "display_data"
    },
    {
     "data": {
      "text/html": [
       "<pre style=\"white-space:pre;overflow-x:auto;line-height:normal;font-family:Menlo,'DejaVu Sans Mono',consolas,'Courier New',monospace\"><span style=\"color: #808000; text-decoration-color: #808000\">f</span>=<span style=\"color: #800080; text-decoration-color: #800080; font-weight: bold\">PosixPath</span><span style=\"font-weight: bold\">(</span><span style=\"color: #008000; text-decoration-color: #008000\">'../experiments/structured-junction-twoway/tracking-off-failure-0.4.json'</span><span style=\"font-weight: bold\">)</span>\n",
       "</pre>\n"
      ],
      "text/plain": [
       "\u001b[33mf\u001b[0m=\u001b[1;35mPosixPath\u001b[0m\u001b[1m(\u001b[0m\u001b[32m'../experiments/structured-junction-twoway/tracking-off-failure-0.4.json'\u001b[0m\u001b[1m)\u001b[0m\n"
      ]
     },
     "metadata": {},
     "output_type": "display_data"
    },
    {
     "data": {
      "text/html": [
       "<pre style=\"white-space:pre;overflow-x:auto;line-height:normal;font-family:Menlo,'DejaVu Sans Mono',consolas,'Courier New',monospace\"><span style=\"color: #808000; text-decoration-color: #808000\">f</span>=<span style=\"color: #800080; text-decoration-color: #800080; font-weight: bold\">PosixPath</span><span style=\"font-weight: bold\">(</span><span style=\"color: #008000; text-decoration-color: #008000\">'../experiments/structured-junction-twoway/tracking-on-failure-0.4.png'</span><span style=\"font-weight: bold\">)</span>\n",
       "</pre>\n"
      ],
      "text/plain": [
       "\u001b[33mf\u001b[0m=\u001b[1;35mPosixPath\u001b[0m\u001b[1m(\u001b[0m\u001b[32m'../experiments/structured-junction-twoway/tracking-on-failure-0.4.png'\u001b[0m\u001b[1m)\u001b[0m\n"
      ]
     },
     "metadata": {},
     "output_type": "display_data"
    },
    {
     "data": {
      "text/html": [
       "<pre style=\"white-space:pre;overflow-x:auto;line-height:normal;font-family:Menlo,'DejaVu Sans Mono',consolas,'Courier New',monospace\"><span style=\"color: #808000; text-decoration-color: #808000\">f</span>=<span style=\"color: #800080; text-decoration-color: #800080; font-weight: bold\">PosixPath</span><span style=\"font-weight: bold\">(</span><span style=\"color: #008000; text-decoration-color: #008000\">'../experiments/structured-junction-twoway/tracking-off-failure-0.3.png'</span><span style=\"font-weight: bold\">)</span>\n",
       "</pre>\n"
      ],
      "text/plain": [
       "\u001b[33mf\u001b[0m=\u001b[1;35mPosixPath\u001b[0m\u001b[1m(\u001b[0m\u001b[32m'../experiments/structured-junction-twoway/tracking-off-failure-0.3.png'\u001b[0m\u001b[1m)\u001b[0m\n"
      ]
     },
     "metadata": {},
     "output_type": "display_data"
    },
    {
     "data": {
      "text/html": [
       "<pre style=\"white-space:pre;overflow-x:auto;line-height:normal;font-family:Menlo,'DejaVu Sans Mono',consolas,'Courier New',monospace\"><span style=\"color: #808000; text-decoration-color: #808000\">f</span>=<span style=\"color: #800080; text-decoration-color: #800080; font-weight: bold\">PosixPath</span><span style=\"font-weight: bold\">(</span><span style=\"color: #008000; text-decoration-color: #008000\">'../experiments/structured-junction-twoway/tracking-on-failure-0.7.json'</span><span style=\"font-weight: bold\">)</span>\n",
       "</pre>\n"
      ],
      "text/plain": [
       "\u001b[33mf\u001b[0m=\u001b[1;35mPosixPath\u001b[0m\u001b[1m(\u001b[0m\u001b[32m'../experiments/structured-junction-twoway/tracking-on-failure-0.7.json'\u001b[0m\u001b[1m)\u001b[0m\n"
      ]
     },
     "metadata": {},
     "output_type": "display_data"
    },
    {
     "data": {
      "text/html": [
       "<pre style=\"white-space:pre;overflow-x:auto;line-height:normal;font-family:Menlo,'DejaVu Sans Mono',consolas,'Courier New',monospace\"><span style=\"color: #808000; text-decoration-color: #808000\">f</span>=<span style=\"color: #800080; text-decoration-color: #800080; font-weight: bold\">PosixPath</span><span style=\"font-weight: bold\">(</span><span style=\"color: #008000; text-decoration-color: #008000\">'../experiments/structured-junction-twoway/tracking-on-failure-0.5.json'</span><span style=\"font-weight: bold\">)</span>\n",
       "</pre>\n"
      ],
      "text/plain": [
       "\u001b[33mf\u001b[0m=\u001b[1;35mPosixPath\u001b[0m\u001b[1m(\u001b[0m\u001b[32m'../experiments/structured-junction-twoway/tracking-on-failure-0.5.json'\u001b[0m\u001b[1m)\u001b[0m\n"
      ]
     },
     "metadata": {},
     "output_type": "display_data"
    },
    {
     "data": {
      "text/html": [
       "<pre style=\"white-space:pre;overflow-x:auto;line-height:normal;font-family:Menlo,'DejaVu Sans Mono',consolas,'Courier New',monospace\"><span style=\"color: #808000; text-decoration-color: #808000\">f</span>=<span style=\"color: #800080; text-decoration-color: #800080; font-weight: bold\">PosixPath</span><span style=\"font-weight: bold\">(</span><span style=\"color: #008000; text-decoration-color: #008000\">'../experiments/structured-junction-twoway/tracking-on-failure-0.0.png'</span><span style=\"font-weight: bold\">)</span>\n",
       "</pre>\n"
      ],
      "text/plain": [
       "\u001b[33mf\u001b[0m=\u001b[1;35mPosixPath\u001b[0m\u001b[1m(\u001b[0m\u001b[32m'../experiments/structured-junction-twoway/tracking-on-failure-0.0.png'\u001b[0m\u001b[1m)\u001b[0m\n"
      ]
     },
     "metadata": {},
     "output_type": "display_data"
    },
    {
     "data": {
      "text/html": [
       "<pre style=\"white-space:pre;overflow-x:auto;line-height:normal;font-family:Menlo,'DejaVu Sans Mono',consolas,'Courier New',monospace\"><span style=\"color: #808000; text-decoration-color: #808000\">f</span>=<span style=\"color: #800080; text-decoration-color: #800080; font-weight: bold\">PosixPath</span><span style=\"font-weight: bold\">(</span><span style=\"color: #008000; text-decoration-color: #008000\">'../experiments/structured-junction-twoway/tracking-on-failure-0.7.png'</span><span style=\"font-weight: bold\">)</span>\n",
       "</pre>\n"
      ],
      "text/plain": [
       "\u001b[33mf\u001b[0m=\u001b[1;35mPosixPath\u001b[0m\u001b[1m(\u001b[0m\u001b[32m'../experiments/structured-junction-twoway/tracking-on-failure-0.7.png'\u001b[0m\u001b[1m)\u001b[0m\n"
      ]
     },
     "metadata": {},
     "output_type": "display_data"
    },
    {
     "data": {
      "text/html": [
       "<pre style=\"white-space:pre;overflow-x:auto;line-height:normal;font-family:Menlo,'DejaVu Sans Mono',consolas,'Courier New',monospace\"><span style=\"color: #808000; text-decoration-color: #808000\">f</span>=<span style=\"color: #800080; text-decoration-color: #800080; font-weight: bold\">PosixPath</span><span style=\"font-weight: bold\">(</span><span style=\"color: #008000; text-decoration-color: #008000\">'../experiments/structured-junction-twoway/tracking-on-failure-0.6.png'</span><span style=\"font-weight: bold\">)</span>\n",
       "</pre>\n"
      ],
      "text/plain": [
       "\u001b[33mf\u001b[0m=\u001b[1;35mPosixPath\u001b[0m\u001b[1m(\u001b[0m\u001b[32m'../experiments/structured-junction-twoway/tracking-on-failure-0.6.png'\u001b[0m\u001b[1m)\u001b[0m\n"
      ]
     },
     "metadata": {},
     "output_type": "display_data"
    },
    {
     "data": {
      "text/html": [
       "<pre style=\"white-space:pre;overflow-x:auto;line-height:normal;font-family:Menlo,'DejaVu Sans Mono',consolas,'Courier New',monospace\"><span style=\"color: #808000; text-decoration-color: #808000\">f</span>=<span style=\"color: #800080; text-decoration-color: #800080; font-weight: bold\">PosixPath</span><span style=\"font-weight: bold\">(</span><span style=\"color: #008000; text-decoration-color: #008000\">'../experiments/structured-junction-twoway/tracking-off-failure-0.2.json'</span><span style=\"font-weight: bold\">)</span>\n",
       "</pre>\n"
      ],
      "text/plain": [
       "\u001b[33mf\u001b[0m=\u001b[1;35mPosixPath\u001b[0m\u001b[1m(\u001b[0m\u001b[32m'../experiments/structured-junction-twoway/tracking-off-failure-0.2.json'\u001b[0m\u001b[1m)\u001b[0m\n"
      ]
     },
     "metadata": {},
     "output_type": "display_data"
    },
    {
     "data": {
      "text/html": [
       "<pre style=\"white-space:pre;overflow-x:auto;line-height:normal;font-family:Menlo,'DejaVu Sans Mono',consolas,'Courier New',monospace\"><span style=\"color: #808000; text-decoration-color: #808000\">f</span>=<span style=\"color: #800080; text-decoration-color: #800080; font-weight: bold\">PosixPath</span><span style=\"font-weight: bold\">(</span><span style=\"color: #008000; text-decoration-color: #008000\">'../experiments/structured-junction-twoway/tracking-off-failure-0.5.png'</span><span style=\"font-weight: bold\">)</span>\n",
       "</pre>\n"
      ],
      "text/plain": [
       "\u001b[33mf\u001b[0m=\u001b[1;35mPosixPath\u001b[0m\u001b[1m(\u001b[0m\u001b[32m'../experiments/structured-junction-twoway/tracking-off-failure-0.5.png'\u001b[0m\u001b[1m)\u001b[0m\n"
      ]
     },
     "metadata": {},
     "output_type": "display_data"
    },
    {
     "data": {
      "text/html": [
       "<pre style=\"white-space:pre;overflow-x:auto;line-height:normal;font-family:Menlo,'DejaVu Sans Mono',consolas,'Courier New',monospace\"><span style=\"color: #808000; text-decoration-color: #808000\">f</span>=<span style=\"color: #800080; text-decoration-color: #800080; font-weight: bold\">PosixPath</span><span style=\"font-weight: bold\">(</span><span style=\"color: #008000; text-decoration-color: #008000\">'../experiments/structured-junction-twoway/tracking-on-failure-0.5.png'</span><span style=\"font-weight: bold\">)</span>\n",
       "</pre>\n"
      ],
      "text/plain": [
       "\u001b[33mf\u001b[0m=\u001b[1;35mPosixPath\u001b[0m\u001b[1m(\u001b[0m\u001b[32m'../experiments/structured-junction-twoway/tracking-on-failure-0.5.png'\u001b[0m\u001b[1m)\u001b[0m\n"
      ]
     },
     "metadata": {},
     "output_type": "display_data"
    },
    {
     "data": {
      "text/html": [
       "<pre style=\"white-space:pre;overflow-x:auto;line-height:normal;font-family:Menlo,'DejaVu Sans Mono',consolas,'Courier New',monospace\"><span style=\"color: #808000; text-decoration-color: #808000\">f</span>=<span style=\"color: #800080; text-decoration-color: #800080; font-weight: bold\">PosixPath</span><span style=\"font-weight: bold\">(</span><span style=\"color: #008000; text-decoration-color: #008000\">'../experiments/structured-junction-twoway/tracking-on-failure-0.2.png'</span><span style=\"font-weight: bold\">)</span>\n",
       "</pre>\n"
      ],
      "text/plain": [
       "\u001b[33mf\u001b[0m=\u001b[1;35mPosixPath\u001b[0m\u001b[1m(\u001b[0m\u001b[32m'../experiments/structured-junction-twoway/tracking-on-failure-0.2.png'\u001b[0m\u001b[1m)\u001b[0m\n"
      ]
     },
     "metadata": {},
     "output_type": "display_data"
    },
    {
     "data": {
      "text/html": [
       "<pre style=\"white-space:pre;overflow-x:auto;line-height:normal;font-family:Menlo,'DejaVu Sans Mono',consolas,'Courier New',monospace\"><span style=\"color: #808000; text-decoration-color: #808000\">f</span>=<span style=\"color: #800080; text-decoration-color: #800080; font-weight: bold\">PosixPath</span><span style=\"font-weight: bold\">(</span><span style=\"color: #008000; text-decoration-color: #008000\">'../experiments/structured-junction-twoway/tracking-off-failure-0.0.png'</span><span style=\"font-weight: bold\">)</span>\n",
       "</pre>\n"
      ],
      "text/plain": [
       "\u001b[33mf\u001b[0m=\u001b[1;35mPosixPath\u001b[0m\u001b[1m(\u001b[0m\u001b[32m'../experiments/structured-junction-twoway/tracking-off-failure-0.0.png'\u001b[0m\u001b[1m)\u001b[0m\n"
      ]
     },
     "metadata": {},
     "output_type": "display_data"
    },
    {
     "data": {
      "text/html": [
       "<pre style=\"white-space:pre;overflow-x:auto;line-height:normal;font-family:Menlo,'DejaVu Sans Mono',consolas,'Courier New',monospace\"><span style=\"color: #808000; text-decoration-color: #808000\">f</span>=<span style=\"color: #800080; text-decoration-color: #800080; font-weight: bold\">PosixPath</span><span style=\"font-weight: bold\">(</span><span style=\"color: #008000; text-decoration-color: #008000\">'../experiments/structured-junction-twoway/tracking-off-failure-0.3.json'</span><span style=\"font-weight: bold\">)</span>\n",
       "</pre>\n"
      ],
      "text/plain": [
       "\u001b[33mf\u001b[0m=\u001b[1;35mPosixPath\u001b[0m\u001b[1m(\u001b[0m\u001b[32m'../experiments/structured-junction-twoway/tracking-off-failure-0.3.json'\u001b[0m\u001b[1m)\u001b[0m\n"
      ]
     },
     "metadata": {},
     "output_type": "display_data"
    },
    {
     "data": {
      "text/html": [
       "<pre style=\"white-space:pre;overflow-x:auto;line-height:normal;font-family:Menlo,'DejaVu Sans Mono',consolas,'Courier New',monospace\"><span style=\"color: #808000; text-decoration-color: #808000\">f</span>=<span style=\"color: #800080; text-decoration-color: #800080; font-weight: bold\">PosixPath</span><span style=\"font-weight: bold\">(</span><span style=\"color: #008000; text-decoration-color: #008000\">'../experiments/structured-junction-twoway/tracking-on-failure-0.6.json'</span><span style=\"font-weight: bold\">)</span>\n",
       "</pre>\n"
      ],
      "text/plain": [
       "\u001b[33mf\u001b[0m=\u001b[1;35mPosixPath\u001b[0m\u001b[1m(\u001b[0m\u001b[32m'../experiments/structured-junction-twoway/tracking-on-failure-0.6.json'\u001b[0m\u001b[1m)\u001b[0m\n"
      ]
     },
     "metadata": {},
     "output_type": "display_data"
    },
    {
     "data": {
      "text/html": [
       "<pre style=\"white-space:pre;overflow-x:auto;line-height:normal;font-family:Menlo,'DejaVu Sans Mono',consolas,'Courier New',monospace\"><span style=\"color: #808000; text-decoration-color: #808000\">f</span>=<span style=\"color: #800080; text-decoration-color: #800080; font-weight: bold\">PosixPath</span><span style=\"font-weight: bold\">(</span><span style=\"color: #008000; text-decoration-color: #008000\">'../experiments/structured-junction-twoway/tracking-off-failure-0.5.json'</span><span style=\"font-weight: bold\">)</span>\n",
       "</pre>\n"
      ],
      "text/plain": [
       "\u001b[33mf\u001b[0m=\u001b[1;35mPosixPath\u001b[0m\u001b[1m(\u001b[0m\u001b[32m'../experiments/structured-junction-twoway/tracking-off-failure-0.5.json'\u001b[0m\u001b[1m)\u001b[0m\n"
      ]
     },
     "metadata": {},
     "output_type": "display_data"
    },
    {
     "data": {
      "text/html": [
       "<pre style=\"white-space:pre;overflow-x:auto;line-height:normal;font-family:Menlo,'DejaVu Sans Mono',consolas,'Courier New',monospace\"><span style=\"color: #808000; text-decoration-color: #808000\">f</span>=<span style=\"color: #800080; text-decoration-color: #800080; font-weight: bold\">PosixPath</span><span style=\"font-weight: bold\">(</span><span style=\"color: #008000; text-decoration-color: #008000\">'../experiments/structured-junction-twoway/tracking-off-failure-0.6.png'</span><span style=\"font-weight: bold\">)</span>\n",
       "</pre>\n"
      ],
      "text/plain": [
       "\u001b[33mf\u001b[0m=\u001b[1;35mPosixPath\u001b[0m\u001b[1m(\u001b[0m\u001b[32m'../experiments/structured-junction-twoway/tracking-off-failure-0.6.png'\u001b[0m\u001b[1m)\u001b[0m\n"
      ]
     },
     "metadata": {},
     "output_type": "display_data"
    },
    {
     "data": {
      "text/html": [
       "<pre style=\"white-space:pre;overflow-x:auto;line-height:normal;font-family:Menlo,'DejaVu Sans Mono',consolas,'Courier New',monospace\"><span style=\"color: #808000; text-decoration-color: #808000\">f</span>=<span style=\"color: #800080; text-decoration-color: #800080; font-weight: bold\">PosixPath</span><span style=\"font-weight: bold\">(</span><span style=\"color: #008000; text-decoration-color: #008000\">'../experiments/structured-junction-twoway/tracking-off-failure-0.2.png'</span><span style=\"font-weight: bold\">)</span>\n",
       "</pre>\n"
      ],
      "text/plain": [
       "\u001b[33mf\u001b[0m=\u001b[1;35mPosixPath\u001b[0m\u001b[1m(\u001b[0m\u001b[32m'../experiments/structured-junction-twoway/tracking-off-failure-0.2.png'\u001b[0m\u001b[1m)\u001b[0m\n"
      ]
     },
     "metadata": {},
     "output_type": "display_data"
    },
    {
     "data": {
      "text/html": [
       "<pre style=\"white-space:pre;overflow-x:auto;line-height:normal;font-family:Menlo,'DejaVu Sans Mono',consolas,'Courier New',monospace\"><span style=\"color: #808000; text-decoration-color: #808000\">f</span>=<span style=\"color: #800080; text-decoration-color: #800080; font-weight: bold\">PosixPath</span><span style=\"font-weight: bold\">(</span><span style=\"color: #008000; text-decoration-color: #008000\">'../experiments/structured-junction-twoway/tracking-on-failure-0.1.json'</span><span style=\"font-weight: bold\">)</span>\n",
       "</pre>\n"
      ],
      "text/plain": [
       "\u001b[33mf\u001b[0m=\u001b[1;35mPosixPath\u001b[0m\u001b[1m(\u001b[0m\u001b[32m'../experiments/structured-junction-twoway/tracking-on-failure-0.1.json'\u001b[0m\u001b[1m)\u001b[0m\n"
      ]
     },
     "metadata": {},
     "output_type": "display_data"
    },
    {
     "data": {
      "text/html": [
       "<pre style=\"white-space:pre;overflow-x:auto;line-height:normal;font-family:Menlo,'DejaVu Sans Mono',consolas,'Courier New',monospace\"><span style=\"color: #808000; text-decoration-color: #808000\">f</span>=<span style=\"color: #800080; text-decoration-color: #800080; font-weight: bold\">PosixPath</span><span style=\"font-weight: bold\">(</span><span style=\"color: #008000; text-decoration-color: #008000\">'../experiments/structured-junction-twoway/tracking-on-failure-0.2.json'</span><span style=\"font-weight: bold\">)</span>\n",
       "</pre>\n"
      ],
      "text/plain": [
       "\u001b[33mf\u001b[0m=\u001b[1;35mPosixPath\u001b[0m\u001b[1m(\u001b[0m\u001b[32m'../experiments/structured-junction-twoway/tracking-on-failure-0.2.json'\u001b[0m\u001b[1m)\u001b[0m\n"
      ]
     },
     "metadata": {},
     "output_type": "display_data"
    },
    {
     "data": {
      "text/html": [
       "<pre style=\"white-space:pre;overflow-x:auto;line-height:normal;font-family:Menlo,'DejaVu Sans Mono',consolas,'Courier New',monospace\"><span style=\"color: #808000; text-decoration-color: #808000\">f</span>=<span style=\"color: #800080; text-decoration-color: #800080; font-weight: bold\">PosixPath</span><span style=\"font-weight: bold\">(</span><span style=\"color: #008000; text-decoration-color: #008000\">'../experiments/structured-junction-twoway/tracking-off-failure-0.1.json'</span><span style=\"font-weight: bold\">)</span>\n",
       "</pre>\n"
      ],
      "text/plain": [
       "\u001b[33mf\u001b[0m=\u001b[1;35mPosixPath\u001b[0m\u001b[1m(\u001b[0m\u001b[32m'../experiments/structured-junction-twoway/tracking-off-failure-0.1.json'\u001b[0m\u001b[1m)\u001b[0m\n"
      ]
     },
     "metadata": {},
     "output_type": "display_data"
    },
    {
     "data": {
      "text/html": [
       "<pre style=\"white-space:pre;overflow-x:auto;line-height:normal;font-family:Menlo,'DejaVu Sans Mono',consolas,'Courier New',monospace\"><span style=\"color: #808000; text-decoration-color: #808000\">f</span>=<span style=\"color: #800080; text-decoration-color: #800080; font-weight: bold\">PosixPath</span><span style=\"font-weight: bold\">(</span><span style=\"color: #008000; text-decoration-color: #008000\">'../experiments/structured-junction-twoway/tracking-off-failure-0.7.png'</span><span style=\"font-weight: bold\">)</span>\n",
       "</pre>\n"
      ],
      "text/plain": [
       "\u001b[33mf\u001b[0m=\u001b[1;35mPosixPath\u001b[0m\u001b[1m(\u001b[0m\u001b[32m'../experiments/structured-junction-twoway/tracking-off-failure-0.7.png'\u001b[0m\u001b[1m)\u001b[0m\n"
      ]
     },
     "metadata": {},
     "output_type": "display_data"
    },
    {
     "data": {
      "text/html": [
       "<pre style=\"white-space:pre;overflow-x:auto;line-height:normal;font-family:Menlo,'DejaVu Sans Mono',consolas,'Courier New',monospace\"><span style=\"color: #808000; text-decoration-color: #808000\">f</span>=<span style=\"color: #800080; text-decoration-color: #800080; font-weight: bold\">PosixPath</span><span style=\"font-weight: bold\">(</span><span style=\"color: #008000; text-decoration-color: #008000\">'../experiments/structured-junction-twoway/tracking-on-failure-0.3.json'</span><span style=\"font-weight: bold\">)</span>\n",
       "</pre>\n"
      ],
      "text/plain": [
       "\u001b[33mf\u001b[0m=\u001b[1;35mPosixPath\u001b[0m\u001b[1m(\u001b[0m\u001b[32m'../experiments/structured-junction-twoway/tracking-on-failure-0.3.json'\u001b[0m\u001b[1m)\u001b[0m\n"
      ]
     },
     "metadata": {},
     "output_type": "display_data"
    },
    {
     "data": {
      "text/html": [
       "<pre style=\"white-space:pre;overflow-x:auto;line-height:normal;font-family:Menlo,'DejaVu Sans Mono',consolas,'Courier New',monospace\"><span style=\"color: #808000; text-decoration-color: #808000\">f</span>=<span style=\"color: #800080; text-decoration-color: #800080; font-weight: bold\">PosixPath</span><span style=\"font-weight: bold\">(</span><span style=\"color: #008000; text-decoration-color: #008000\">'../experiments/structured-junction-twoway/tracking-off-failure-0.4.png'</span><span style=\"font-weight: bold\">)</span>\n",
       "</pre>\n"
      ],
      "text/plain": [
       "\u001b[33mf\u001b[0m=\u001b[1;35mPosixPath\u001b[0m\u001b[1m(\u001b[0m\u001b[32m'../experiments/structured-junction-twoway/tracking-off-failure-0.4.png'\u001b[0m\u001b[1m)\u001b[0m\n"
      ]
     },
     "metadata": {},
     "output_type": "display_data"
    },
    {
     "data": {
      "text/html": [
       "<pre style=\"white-space:pre;overflow-x:auto;line-height:normal;font-family:Menlo,'DejaVu Sans Mono',consolas,'Courier New',monospace\"><span style=\"color: #808000; text-decoration-color: #808000\">f</span>=<span style=\"color: #800080; text-decoration-color: #800080; font-weight: bold\">PosixPath</span><span style=\"font-weight: bold\">(</span><span style=\"color: #008000; text-decoration-color: #008000\">'../experiments/structured-junction-twoway/tracking-on-failure-0.0.json'</span><span style=\"font-weight: bold\">)</span>\n",
       "</pre>\n"
      ],
      "text/plain": [
       "\u001b[33mf\u001b[0m=\u001b[1;35mPosixPath\u001b[0m\u001b[1m(\u001b[0m\u001b[32m'../experiments/structured-junction-twoway/tracking-on-failure-0.0.json'\u001b[0m\u001b[1m)\u001b[0m\n"
      ]
     },
     "metadata": {},
     "output_type": "display_data"
    },
    {
     "data": {
      "text/html": [
       "<pre style=\"white-space:pre;overflow-x:auto;line-height:normal;font-family:Menlo,'DejaVu Sans Mono',consolas,'Courier New',monospace\"><span style=\"color: #808000; text-decoration-color: #808000\">f</span>=<span style=\"color: #800080; text-decoration-color: #800080; font-weight: bold\">PosixPath</span><span style=\"font-weight: bold\">(</span><span style=\"color: #008000; text-decoration-color: #008000\">'../experiments/structured-junction-twoway/tracking-off-failure-0.7.json'</span><span style=\"font-weight: bold\">)</span>\n",
       "</pre>\n"
      ],
      "text/plain": [
       "\u001b[33mf\u001b[0m=\u001b[1;35mPosixPath\u001b[0m\u001b[1m(\u001b[0m\u001b[32m'../experiments/structured-junction-twoway/tracking-off-failure-0.7.json'\u001b[0m\u001b[1m)\u001b[0m\n"
      ]
     },
     "metadata": {},
     "output_type": "display_data"
    }
   ],
   "source": [
    "@dataclass\n",
    "class Results:\n",
    "    with_tracking: dict[str, Metric]\n",
    "    without_tracking: dict[str, Metric]\n",
    "\n",
    "results = Results(dict(), dict())\n",
    "\n",
    "RE = re.compile(r\"tracking-(on|off)-failure-(\\d\\.\\d)\\.json\")\n",
    "\n",
    "for f in EXPERIMENT_DIR.iterdir():\n",
    "    print(f\"{f=}\")\n",
    "    captures = RE.match(f.name)\n",
    "    if captures is None:\n",
    "        continue\n",
    "    # assert captures is not None\n",
    "    tracking = captures.group(1)\n",
    "    failure_prob = captures.group(2)\n",
    "\n",
    "    with open(f) as f:\n",
    "        data = json.load(f)\n",
    "\n",
    "    ppe = perpendicular_position_error(data)\n",
    "    dist_travelled = total_distance_travelled(data)\n",
    "    d = durations(data)\n",
    "    metric = Metric(ppe=ppe, collisions=collisions(data), total_distance_travelled=dist_travelled, durations=d)\n",
    "    \n",
    "\n",
    "    match tracking:\n",
    "        case \"on\":\n",
    "            results.with_tracking[failure_prob] = metric\n",
    "        case \"off\":\n",
    "            results.without_tracking[failure_prob] = metric\n",
    "        case _:\n",
    "            assert False"
   ]
  },
  {
   "cell_type": "code",
   "execution_count": 24,
   "metadata": {},
   "outputs": [
    {
     "data": {
      "text/html": [
       "<pre style=\"white-space:pre;overflow-x:auto;line-height:normal;font-family:Menlo,'DejaVu Sans Mono',consolas,'Courier New',monospace\">path <span style=\"color: #808000; text-decoration-color: #808000\">p</span>=<span style=\"color: #008000; text-decoration-color: #008000\">'0.0'</span> <span style=\"color: #808000; text-decoration-color: #808000\">mean</span>=<span style=\"color: #008080; text-decoration-color: #008080; font-weight: bold\">0.9892</span>\n",
       "</pre>\n"
      ],
      "text/plain": [
       "path \u001b[33mp\u001b[0m=\u001b[32m'0.0'\u001b[0m \u001b[33mmean\u001b[0m=\u001b[1;36m0\u001b[0m\u001b[1;36m.9892\u001b[0m\n"
      ]
     },
     "metadata": {},
     "output_type": "display_data"
    },
    {
     "data": {
      "text/html": [
       "<pre style=\"white-space:pre;overflow-x:auto;line-height:normal;font-family:Menlo,'DejaVu Sans Mono',consolas,'Courier New',monospace\">path <span style=\"color: #808000; text-decoration-color: #808000\">p</span>=<span style=\"color: #008000; text-decoration-color: #008000\">'0.1'</span> <span style=\"color: #808000; text-decoration-color: #808000\">mean</span>=<span style=\"color: #008080; text-decoration-color: #008080; font-weight: bold\">0.9891</span>\n",
       "</pre>\n"
      ],
      "text/plain": [
       "path \u001b[33mp\u001b[0m=\u001b[32m'0.1'\u001b[0m \u001b[33mmean\u001b[0m=\u001b[1;36m0\u001b[0m\u001b[1;36m.9891\u001b[0m\n"
      ]
     },
     "metadata": {},
     "output_type": "display_data"
    },
    {
     "data": {
      "text/html": [
       "<pre style=\"white-space:pre;overflow-x:auto;line-height:normal;font-family:Menlo,'DejaVu Sans Mono',consolas,'Courier New',monospace\">path <span style=\"color: #808000; text-decoration-color: #808000\">p</span>=<span style=\"color: #008000; text-decoration-color: #008000\">'0.2'</span> <span style=\"color: #808000; text-decoration-color: #808000\">mean</span>=<span style=\"color: #008080; text-decoration-color: #008080; font-weight: bold\">0.9891</span>\n",
       "</pre>\n"
      ],
      "text/plain": [
       "path \u001b[33mp\u001b[0m=\u001b[32m'0.2'\u001b[0m \u001b[33mmean\u001b[0m=\u001b[1;36m0\u001b[0m\u001b[1;36m.9891\u001b[0m\n"
      ]
     },
     "metadata": {},
     "output_type": "display_data"
    },
    {
     "data": {
      "text/html": [
       "<pre style=\"white-space:pre;overflow-x:auto;line-height:normal;font-family:Menlo,'DejaVu Sans Mono',consolas,'Courier New',monospace\">path <span style=\"color: #808000; text-decoration-color: #808000\">p</span>=<span style=\"color: #008000; text-decoration-color: #008000\">'0.3'</span> <span style=\"color: #808000; text-decoration-color: #808000\">mean</span>=<span style=\"color: #008080; text-decoration-color: #008080; font-weight: bold\">0.9893</span>\n",
       "</pre>\n"
      ],
      "text/plain": [
       "path \u001b[33mp\u001b[0m=\u001b[32m'0.3'\u001b[0m \u001b[33mmean\u001b[0m=\u001b[1;36m0\u001b[0m\u001b[1;36m.9893\u001b[0m\n"
      ]
     },
     "metadata": {},
     "output_type": "display_data"
    },
    {
     "data": {
      "text/html": [
       "<pre style=\"white-space:pre;overflow-x:auto;line-height:normal;font-family:Menlo,'DejaVu Sans Mono',consolas,'Courier New',monospace\">path <span style=\"color: #808000; text-decoration-color: #808000\">p</span>=<span style=\"color: #008000; text-decoration-color: #008000\">'0.4'</span> <span style=\"color: #808000; text-decoration-color: #808000\">mean</span>=<span style=\"color: #008080; text-decoration-color: #008080; font-weight: bold\">0.9907</span>\n",
       "</pre>\n"
      ],
      "text/plain": [
       "path \u001b[33mp\u001b[0m=\u001b[32m'0.4'\u001b[0m \u001b[33mmean\u001b[0m=\u001b[1;36m0\u001b[0m\u001b[1;36m.9907\u001b[0m\n"
      ]
     },
     "metadata": {},
     "output_type": "display_data"
    },
    {
     "data": {
      "text/html": [
       "<pre style=\"white-space:pre;overflow-x:auto;line-height:normal;font-family:Menlo,'DejaVu Sans Mono',consolas,'Courier New',monospace\">path <span style=\"color: #808000; text-decoration-color: #808000\">p</span>=<span style=\"color: #008000; text-decoration-color: #008000\">'0.5'</span> <span style=\"color: #808000; text-decoration-color: #808000\">mean</span>=<span style=\"color: #008080; text-decoration-color: #008080; font-weight: bold\">0.9923</span>\n",
       "</pre>\n"
      ],
      "text/plain": [
       "path \u001b[33mp\u001b[0m=\u001b[32m'0.5'\u001b[0m \u001b[33mmean\u001b[0m=\u001b[1;36m0\u001b[0m\u001b[1;36m.9923\u001b[0m\n"
      ]
     },
     "metadata": {},
     "output_type": "display_data"
    },
    {
     "data": {
      "text/html": [
       "<pre style=\"white-space:pre;overflow-x:auto;line-height:normal;font-family:Menlo,'DejaVu Sans Mono',consolas,'Courier New',monospace\">path <span style=\"color: #808000; text-decoration-color: #808000\">p</span>=<span style=\"color: #008000; text-decoration-color: #008000\">'0.6'</span> <span style=\"color: #808000; text-decoration-color: #808000\">mean</span>=<span style=\"color: #008080; text-decoration-color: #008080; font-weight: bold\">0.9971</span>\n",
       "</pre>\n"
      ],
      "text/plain": [
       "path \u001b[33mp\u001b[0m=\u001b[32m'0.6'\u001b[0m \u001b[33mmean\u001b[0m=\u001b[1;36m0\u001b[0m\u001b[1;36m.9971\u001b[0m\n"
      ]
     },
     "metadata": {},
     "output_type": "display_data"
    },
    {
     "data": {
      "text/html": [
       "<pre style=\"white-space:pre;overflow-x:auto;line-height:normal;font-family:Menlo,'DejaVu Sans Mono',consolas,'Courier New',monospace\">path <span style=\"color: #808000; text-decoration-color: #808000\">p</span>=<span style=\"color: #008000; text-decoration-color: #008000\">'0.7'</span> <span style=\"color: #808000; text-decoration-color: #808000\">mean</span>=<span style=\"color: #008080; text-decoration-color: #008080; font-weight: bold\">1.0103</span>\n",
       "</pre>\n"
      ],
      "text/plain": [
       "path \u001b[33mp\u001b[0m=\u001b[32m'0.7'\u001b[0m \u001b[33mmean\u001b[0m=\u001b[1;36m1\u001b[0m\u001b[1;36m.0103\u001b[0m\n"
      ]
     },
     "metadata": {},
     "output_type": "display_data"
    },
    {
     "data": {
      "text/html": [
       "<pre style=\"white-space:pre;overflow-x:auto;line-height:normal;font-family:Menlo,'DejaVu Sans Mono',consolas,'Courier New',monospace\">waypoint <span style=\"color: #808000; text-decoration-color: #808000\">p</span>=<span style=\"color: #008000; text-decoration-color: #008000\">'0.0'</span> <span style=\"color: #808000; text-decoration-color: #808000\">mean</span>=<span style=\"color: #008080; text-decoration-color: #008080; font-weight: bold\">0.9869</span>\n",
       "</pre>\n"
      ],
      "text/plain": [
       "waypoint \u001b[33mp\u001b[0m=\u001b[32m'0.0'\u001b[0m \u001b[33mmean\u001b[0m=\u001b[1;36m0\u001b[0m\u001b[1;36m.9869\u001b[0m\n"
      ]
     },
     "metadata": {},
     "output_type": "display_data"
    },
    {
     "data": {
      "text/html": [
       "<pre style=\"white-space:pre;overflow-x:auto;line-height:normal;font-family:Menlo,'DejaVu Sans Mono',consolas,'Courier New',monospace\">waypoint <span style=\"color: #808000; text-decoration-color: #808000\">p</span>=<span style=\"color: #008000; text-decoration-color: #008000\">'0.1'</span> <span style=\"color: #808000; text-decoration-color: #808000\">mean</span>=<span style=\"color: #008080; text-decoration-color: #008080; font-weight: bold\">0.9869</span>\n",
       "</pre>\n"
      ],
      "text/plain": [
       "waypoint \u001b[33mp\u001b[0m=\u001b[32m'0.1'\u001b[0m \u001b[33mmean\u001b[0m=\u001b[1;36m0\u001b[0m\u001b[1;36m.9869\u001b[0m\n"
      ]
     },
     "metadata": {},
     "output_type": "display_data"
    },
    {
     "data": {
      "text/html": [
       "<pre style=\"white-space:pre;overflow-x:auto;line-height:normal;font-family:Menlo,'DejaVu Sans Mono',consolas,'Courier New',monospace\">waypoint <span style=\"color: #808000; text-decoration-color: #808000\">p</span>=<span style=\"color: #008000; text-decoration-color: #008000\">'0.2'</span> <span style=\"color: #808000; text-decoration-color: #808000\">mean</span>=<span style=\"color: #008080; text-decoration-color: #008080; font-weight: bold\">0.9872</span>\n",
       "</pre>\n"
      ],
      "text/plain": [
       "waypoint \u001b[33mp\u001b[0m=\u001b[32m'0.2'\u001b[0m \u001b[33mmean\u001b[0m=\u001b[1;36m0\u001b[0m\u001b[1;36m.9872\u001b[0m\n"
      ]
     },
     "metadata": {},
     "output_type": "display_data"
    },
    {
     "data": {
      "text/html": [
       "<pre style=\"white-space:pre;overflow-x:auto;line-height:normal;font-family:Menlo,'DejaVu Sans Mono',consolas,'Courier New',monospace\">waypoint <span style=\"color: #808000; text-decoration-color: #808000\">p</span>=<span style=\"color: #008000; text-decoration-color: #008000\">'0.3'</span> <span style=\"color: #808000; text-decoration-color: #808000\">mean</span>=<span style=\"color: #008080; text-decoration-color: #008080; font-weight: bold\">0.9877</span>\n",
       "</pre>\n"
      ],
      "text/plain": [
       "waypoint \u001b[33mp\u001b[0m=\u001b[32m'0.3'\u001b[0m \u001b[33mmean\u001b[0m=\u001b[1;36m0\u001b[0m\u001b[1;36m.9877\u001b[0m\n"
      ]
     },
     "metadata": {},
     "output_type": "display_data"
    },
    {
     "data": {
      "text/html": [
       "<pre style=\"white-space:pre;overflow-x:auto;line-height:normal;font-family:Menlo,'DejaVu Sans Mono',consolas,'Courier New',monospace\">waypoint <span style=\"color: #808000; text-decoration-color: #808000\">p</span>=<span style=\"color: #008000; text-decoration-color: #008000\">'0.4'</span> <span style=\"color: #808000; text-decoration-color: #808000\">mean</span>=<span style=\"color: #008080; text-decoration-color: #008080; font-weight: bold\">0.9884</span>\n",
       "</pre>\n"
      ],
      "text/plain": [
       "waypoint \u001b[33mp\u001b[0m=\u001b[32m'0.4'\u001b[0m \u001b[33mmean\u001b[0m=\u001b[1;36m0\u001b[0m\u001b[1;36m.9884\u001b[0m\n"
      ]
     },
     "metadata": {},
     "output_type": "display_data"
    },
    {
     "data": {
      "text/html": [
       "<pre style=\"white-space:pre;overflow-x:auto;line-height:normal;font-family:Menlo,'DejaVu Sans Mono',consolas,'Courier New',monospace\">waypoint <span style=\"color: #808000; text-decoration-color: #808000\">p</span>=<span style=\"color: #008000; text-decoration-color: #008000\">'0.5'</span> <span style=\"color: #808000; text-decoration-color: #808000\">mean</span>=<span style=\"color: #008080; text-decoration-color: #008080; font-weight: bold\">0.9900</span>\n",
       "</pre>\n"
      ],
      "text/plain": [
       "waypoint \u001b[33mp\u001b[0m=\u001b[32m'0.5'\u001b[0m \u001b[33mmean\u001b[0m=\u001b[1;36m0\u001b[0m\u001b[1;36m.9900\u001b[0m\n"
      ]
     },
     "metadata": {},
     "output_type": "display_data"
    },
    {
     "data": {
      "text/html": [
       "<pre style=\"white-space:pre;overflow-x:auto;line-height:normal;font-family:Menlo,'DejaVu Sans Mono',consolas,'Courier New',monospace\">waypoint <span style=\"color: #808000; text-decoration-color: #808000\">p</span>=<span style=\"color: #008000; text-decoration-color: #008000\">'0.6'</span> <span style=\"color: #808000; text-decoration-color: #808000\">mean</span>=<span style=\"color: #008080; text-decoration-color: #008080; font-weight: bold\">0.9958</span>\n",
       "</pre>\n"
      ],
      "text/plain": [
       "waypoint \u001b[33mp\u001b[0m=\u001b[32m'0.6'\u001b[0m \u001b[33mmean\u001b[0m=\u001b[1;36m0\u001b[0m\u001b[1;36m.9958\u001b[0m\n"
      ]
     },
     "metadata": {},
     "output_type": "display_data"
    },
    {
     "data": {
      "text/html": [
       "<pre style=\"white-space:pre;overflow-x:auto;line-height:normal;font-family:Menlo,'DejaVu Sans Mono',consolas,'Courier New',monospace\">waypoint <span style=\"color: #808000; text-decoration-color: #808000\">p</span>=<span style=\"color: #008000; text-decoration-color: #008000\">'0.7'</span> <span style=\"color: #808000; text-decoration-color: #808000\">mean</span>=<span style=\"color: #008080; text-decoration-color: #008080; font-weight: bold\">1.0064</span>\n",
       "</pre>\n"
      ],
      "text/plain": [
       "waypoint \u001b[33mp\u001b[0m=\u001b[32m'0.7'\u001b[0m \u001b[33mmean\u001b[0m=\u001b[1;36m1\u001b[0m\u001b[1;36m.0064\u001b[0m\n"
      ]
     },
     "metadata": {},
     "output_type": "display_data"
    }
   ],
   "source": [
    "for (dataset, name) in [(results.with_tracking, \"path\"), (results.without_tracking, \"waypoint\")]:\n",
    "    for p in range(8):\n",
    "        p = str(p / 10.0)\n",
    "        mean = np.mean(np.array(dataset[p].total_distance_travelled.distance) / np.array(dataset[p].total_distance_travelled.optimal_distance))\n",
    "        print(f\"{name} {p=} {mean=:.4f}\")\n",
    "\n",
    "# np.mean(np.array(results.without_tracking['0.0'].total_distance_travelled.distance) / np.array(results.without_tracking['0.0'].total_distance_travelled.optimal_distance))"
   ]
  },
  {
   "cell_type": "code",
   "execution_count": 25,
   "metadata": {},
   "outputs": [
    {
     "ename": "AssertionError",
     "evalue": "",
     "output_type": "error",
     "traceback": [
      "\u001b[0;31m---------------------------------------------------------------------------\u001b[0m",
      "\u001b[0;31mAssertionError\u001b[0m                            Traceback (most recent call last)",
      "Cell \u001b[0;32mIn[25], line 8\u001b[0m\n\u001b[1;32m      6\u001b[0m \u001b[38;5;28;01mfor\u001b[39;00m f \u001b[38;5;129;01min\u001b[39;00m EXPERIMENT_DIR\u001b[38;5;241m.\u001b[39miterdir():\n\u001b[1;32m      7\u001b[0m     captures \u001b[38;5;241m=\u001b[39m RE\u001b[38;5;241m.\u001b[39mmatch(f\u001b[38;5;241m.\u001b[39mname)\n\u001b[0;32m----> 8\u001b[0m     \u001b[38;5;28;01massert\u001b[39;00m captures \u001b[38;5;129;01mis\u001b[39;00m \u001b[38;5;129;01mnot\u001b[39;00m \u001b[38;5;28;01mNone\u001b[39;00m\n\u001b[1;32m      9\u001b[0m     tracking \u001b[38;5;241m=\u001b[39m captures\u001b[38;5;241m.\u001b[39mgroup(\u001b[38;5;241m1\u001b[39m)\n\u001b[1;32m     10\u001b[0m     failure_prob \u001b[38;5;241m=\u001b[39m captures\u001b[38;5;241m.\u001b[39mgroup(\u001b[38;5;241m2\u001b[39m)\n",
      "\u001b[0;31mAssertionError\u001b[0m: "
     ]
    },
    {
     "data": {
      "text/html": [
       "<pre style=\"white-space:pre;overflow-x:auto;line-height:normal;font-family:Menlo,'DejaVu Sans Mono',consolas,'Courier New',monospace\"></pre>\n"
      ],
      "text/plain": []
     },
     "metadata": {},
     "output_type": "display_data"
    },
    {
     "data": {
      "image/png": "[encoded data removed]",
      "text/plain": [
       "\u001b[1m<\u001b[0m\u001b[1;95mFigure\u001b[0m\u001b[39m size 80\u001b[0m\u001b[1;36m0x800\u001b[0m\u001b[39m with \u001b[0m\u001b[1;36m1\u001b[0m\u001b[39m Axes\u001b[0m\u001b[1m>\u001b[0m"
      ]
     },
     "metadata": {},
     "output_type": "display_data"
    }
   ],
   "source": [
    "fig, ax = plt.subplots(1, figsize=(8, 8))\n",
    "\n",
    "\n",
    "RE = re.compile(r\"tracking-(on|off)-failure-(\\d\\.\\d)\\.json\")\n",
    "\n",
    "for f in EXPERIMENT_DIR.iterdir():\n",
    "    captures = RE.match(f.name)\n",
    "    assert captures is not None\n",
    "    tracking = captures.group(1)\n",
    "    failure_prob = captures.group(2)\n",
    "\n",
    "    with open(f) as f:\n",
    "        data = json.load(f)\n",
    "\n",
    "for robot_id, robot_data in results.with_tracking['0.0']['robots'].items():\n",
    "\n",
    "    \n",
    "    print(f\"{robot_id=}\")"
   ]
  },
  {
   "cell_type": "markdown",
   "metadata": {},
   "source": [
    "## Perpendicular Position Error"
   ]
  },
  {
   "cell_type": "code",
   "execution_count": null,
   "metadata": {},
   "outputs": [],
   "source": [
    "fig, ax = plt.subplots(1, figsize=(6, 4))\n",
    "\n",
    "with_tracking_data = {k: compute_stats(v.ppe.errors).mean for k, v in sorted(results.with_tracking.items())}\n",
    "without_tracking_data = {k: compute_stats(v.ppe.errors).mean for k, v in sorted(results.without_tracking.items())}\n",
    "\n",
    "#      linestyle='--',\n",
    "\n",
    "plt.plot(\n",
    "    [float(k) for k in with_tracking_data.keys()],\n",
    "    with_tracking_data.values(),\n",
    "    # label=\"With Tracking\"\n",
    "    # label=\"$\\mathbf{With\\ Tracking}$\",\n",
    "    label=\"Path Tracking\",\n",
    "    color=flavor.lavender.hex,\n",
    ")\n",
    "\n",
    "plt.plot(\n",
    "    [float(k) for k in without_tracking_data.keys()],\n",
    "    without_tracking_data.values(),\n",
    "    # label=\"Without\",\n",
    "    label=\"Waypoint Tracking\",\n",
    "    color=flavor.green.hex,\n",
    ")\n",
    "\n",
    "legend = ax.legend(loc=\"upper left\", fontsize=11)\n",
    "# legend.get_frame().set_facecolor('#FF0000')  # Set the legend background color\n",
    "legend.get_frame().set_edgecolor(flavor.overlay2.hex)  # Set the legend background color\n",
    "\n",
    "# Define a formatter function\n",
    "def percentage(x, pos):\n",
    "    return f'{int(x * 100)}'\n",
    "\n",
    "# Apply the formatter to the x-axis\n",
    "ax.xaxis.set_major_formatter(FuncFormatter(percentage))\n",
    "\n",
    "# Apply the custom font to x-ticks\n",
    "for label in ax.get_xticklabels():\n",
    "    label.set_fontproperties(prop_jbm)\n",
    "\n",
    "for label in ax.get_yticklabels():\n",
    "    label.set_fontproperties(prop_jbm)\n",
    "\n",
    "label_args = dict(fontsize=12)\n",
    "\n",
    "# ax.grid(True)\n",
    "# ax.set_xlim(0, 0.8)\n",
    "# ax.set_xlabel(\"Failure Probability $[\\%]$\", **label_args)\n",
    "# # ax.set_xticks(np.arange(0, 0.8, 0.1))  # Setting xtick resolution to 0.1\n",
    "# ax.set_ylabel(\"Total Collisions\", **label_args)\n",
    "# ax.set_title(\"Environment Collisions\")\n",
    "legend = ax.legend(loc=\"upper left\", fontsize=11)\n",
    "# legend.get_frame().set_facecolor('#FF0000')  # Set the legend background color\n",
    "\n",
    "legend.get_frame().set_edgecolor(flavor.overlay2.hex)  # Set the legend background color Caption\n",
    "ax.grid(True)\n",
    "ax.set_xlim(0, 0.71)\n",
    "\n",
    "# ax.set_xticks(np.arange(0, 1.1, 0.1))  # Setting xtick resolution to 0.1\n",
    "ax.set_ylabel(\"Mean of Perpendicular Path Deviation $[m]$\", **label_args)\n",
    "ax.set_xlabel(\"Failure Probability $[\\%]$\", **label_args)\n",
    "\n",
    "# plt.tight_layout()\n",
    "# ax.set_title(\"Mean of Perpendicular Path Deviation\")\n",
    "\n",
    "plt.savefig(\"perpendicular-path-deviation-structured-junction-twoway.svg\", pad_inches=1.0)\n",
    "plt.savefig(\"perpendicular-path-deviation-structured-junction-twoway.pdf\")\n",
    "\n",
    "plt.show()"
   ]
  },
  {
   "cell_type": "markdown",
   "metadata": {},
   "source": [
    "## Collisions"
   ]
  },
  {
   "cell_type": "code",
   "execution_count": 17,
   "metadata": {},
   "outputs": [
    {
     "data": {
      "text/html": [
       "<pre style=\"white-space:pre;overflow-x:auto;line-height:normal;font-family:Menlo,'DejaVu Sans Mono',consolas,'Courier New',monospace\"></pre>\n"
      ],
      "text/plain": []
     },
     "metadata": {},
     "output_type": "display_data"
    },
    {
     "data": {
      "image/png": "[encoded data removed]",
      "text/plain": [
       "\u001b[1m<\u001b[0m\u001b[1;95mFigure\u001b[0m\u001b[39m size 80\u001b[0m\u001b[1;36m0x800\u001b[0m\u001b[39m with \u001b[0m\u001b[1;36m2\u001b[0m\u001b[39m Axes\u001b[0m\u001b[1m>\u001b[0m"
      ]
     },
     "metadata": {},
     "output_type": "display_data"
    }
   ],
   "source": [
    "fig, axs = plt.subplots(2, figsize=(8,8))\n",
    "\n",
    "ax = axs[0]\n",
    "\n",
    "with_tracking_data = {k: v.collisions.interrobot for k, v in sorted(results.with_tracking.items())}\n",
    "without_tracking_data = {k: v.collisions.interrobot for k, v in sorted(results.without_tracking.items())}\n",
    "\n",
    "ax.plot(\n",
    "    [float(k) for k in with_tracking_data.keys()],\n",
    "    with_tracking_data.values(),\n",
    "    label=\"With Tracking\"\n",
    ")\n",
    "\n",
    "ax.plot(\n",
    "    [float(k) for k in without_tracking_data.keys()],\n",
    "    without_tracking_data.values(),\n",
    "    label=\"Without\"\n",
    ")\n",
    "\n",
    "ax.grid(True)\n",
    "ax.set_xlim(0, 1)\n",
    "ax.set_xticks(np.arange(0, 1.1, 0.1))  # Setting xtick resolution to 0.1\n",
    "ax.set_xlabel(\"failure prob.\")\n",
    "ax.set_ylabel(\"Interrobot Collisions\")\n",
    "plt.tight_layout()\n",
    "ax.set_title(\"Interrobot Collisions\")\n",
    "ax.legend()\n",
    "\n",
    "ax = axs[1]\n",
    "\n",
    "with_tracking_data = {k: v.collisions.environment for k, v in sorted(results.with_tracking.items())}\n",
    "without_tracking_data = {k: v.collisions.environment for k, v in sorted(results.without_tracking.items())}\n",
    "\n",
    "ax.plot(\n",
    "    [float(k) for k in with_tracking_data.keys()],\n",
    "    with_tracking_data.values(),\n",
    "    label=\"With Tracking\"\n",
    ")\n",
    "\n",
    "ax.plot(\n",
    "    [float(k) for k in without_tracking_data.keys()],\n",
    "    without_tracking_data.values(),\n",
    "    label=\"Without\"\n",
    ")\n",
    "\n",
    "ax.grid(True)\n",
    "ax.set_xlim(0, 1)\n",
    "ax.set_xlabel(\"failure prob.\")\n",
    "ax.set_xticks(np.arange(0, 0.9, 0.1))  # Setting xtick resolution to 0.1\n",
    "ax.set_ylabel(\"Environment Collisions\")\n",
    "ax.set_title(\"Environment Collisions\")\n",
    "ax.legend()\n",
    "\n",
    "\n",
    "\n",
    "plt.tight_layout()\n",
    "plt.savefig(\"collisions-structured-junction-twoway.svg\")\n",
    "plt.show()\n"
   ]
  },
  {
   "cell_type": "code",
   "execution_count": 18,
   "metadata": {},
   "outputs": [
    {
     "data": {
      "text/html": [
       "<pre style=\"white-space:pre;overflow-x:auto;line-height:normal;font-family:Menlo,'DejaVu Sans Mono',consolas,'Courier New',monospace\"></pre>\n"
      ],
      "text/plain": []
     },
     "metadata": {},
     "output_type": "display_data"
    },
    {
     "data": {
      "image/png": "[encoded data removed]",
      "text/plain": [
       "\u001b[1m<\u001b[0m\u001b[1;95mFigure\u001b[0m\u001b[39m size 60\u001b[0m\u001b[1;36m0x400\u001b[0m\u001b[39m with \u001b[0m\u001b[1;36m1\u001b[0m\u001b[39m Axes\u001b[0m\u001b[1m>\u001b[0m"
      ]
     },
     "metadata": {},
     "output_type": "display_data"
    }
   ],
   "source": [
    "fix, ax = plt.subplots(1, figsize=(6,4))\n",
    "\n",
    "# Interrobot\n",
    "with_tracking_data = {k: v.collisions.interrobot for k, v in sorted(results.with_tracking.items())}\n",
    "without_tracking_data = {k: v.collisions.interrobot for k, v in sorted(results.without_tracking.items())}\n",
    "\n",
    "\n",
    "ax.plot(\n",
    "    [float(k) for k in with_tracking_data.keys()],\n",
    "    with_tracking_data.values(),\n",
    "    # label=\"$\\mathit{Interrobot}$       $\\mathbf{With\\ Tracking}$\",\n",
    "    label=\"$\\mathit{Interrobot}$        Path Tracking\",\n",
    "    color=flavor.lavender.hex,\n",
    "     linestyle='--',\n",
    ")\n",
    "\n",
    "ax.plot(\n",
    "    [float(k) for k in without_tracking_data.keys()],\n",
    "    without_tracking_data.values(),\n",
    "    # label=\"$\\mathit{Interrobot}$       Without\",\n",
    "    label=\"$\\mathit{Interrobot}$        Waypoint Tracking\",\n",
    "    color=flavor.green.hex,\n",
    "    linestyle='--',\n",
    ")\n",
    "\n",
    "# Environment\n",
    "with_tracking_data = {k: v.collisions.environment for k, v in sorted(results.with_tracking.items())}\n",
    "without_tracking_data = {k: v.collisions.environment for k, v in sorted(results.without_tracking.items())}\n",
    "\n",
    "ax.plot(\n",
    "    [float(k) for k in without_tracking_data.keys()],\n",
    "    without_tracking_data.values(),\n",
    "    # label=\"$\\mathit{Environment}$   Without\",\n",
    "    label=\"$\\mathit{Environment}$    Path Tracking\",\n",
    "    color=flavor.peach.hex\n",
    ")\n",
    "\n",
    "ax.plot(\n",
    "    [float(k) for k in with_tracking_data.keys()],\n",
    "    with_tracking_data.values(),\n",
    "    # label=\"$\\mathit{Environment}$   $\\mathbf{With\\ Tracking}$\",\n",
    "    label=\"$\\mathit{Environment}$    Waypoint Tracking\",\n",
    "    color=flavor.red.hex\n",
    ")\n",
    "\n",
    "label_args = dict(fontsize=12)\n",
    "\n",
    "ax.grid(True)\n",
    "ax.set_xlim(0, 0.71)\n",
    "ax.set_xlabel(\"Failure Probability $[\\%]$\", **label_args)\n",
    "# ax.set_xticks(np.arange(0, 0.8, 0.1))  # Setting xtick resolution to 0.1\n",
    "ax.set_ylabel(\"Total Collisions\", **label_args)\n",
    "# ax.set_title(\"Environment Collisions\")\n",
    "legend = ax.legend(loc=\"upper left\", fontsize=11)\n",
    "# legend.get_frame().set_facecolor('#FF0000')  # Set the legend background color\n",
    "legend.get_frame().set_edgecolor(flavor.overlay2.hex)  # Set the legend background color\n",
    "\n",
    "# Define a formatter function\n",
    "def percentage(x, pos):\n",
    "    return f'{int(x * 100)}'\n",
    "\n",
    "# Apply the formatter to the x-axis\n",
    "ax.xaxis.set_major_formatter(FuncFormatter(percentage))\n",
    "\n",
    "# Apply the custom font to x-ticks\n",
    "for label in ax.get_xticklabels():\n",
    "    label.set_fontproperties(prop_jbm)\n",
    "\n",
    "for label in ax.get_yticklabels():\n",
    "    label.set_fontproperties(prop_jbm)\n",
    "\n",
    "plt.yscale(\"linear\")\n",
    "\n",
    "# plt.tight_layout()\n",
    "plt.savefig(\"collisions-structured-junction-twoway.svg\")\n",
    "plt.savefig(\"collisions-structured-junction-twoway.pdf\")\n",
    "plt.show()\n"
   ]
  },
  {
   "cell_type": "code",
   "execution_count": 11,
   "metadata": {},
   "outputs": [
    {
     "data": {
      "text/html": [
       "<pre style=\"white-space:pre;overflow-x:auto;line-height:normal;font-family:Menlo,'DejaVu Sans Mono',consolas,'Courier New',monospace\"></pre>\n"
      ],
      "text/plain": []
     },
     "metadata": {},
     "output_type": "display_data"
    },
    {
     "data": {
      "text/plain": [
       "\n",
       "\u001b[1m{\u001b[0m\n",
       "    \u001b[32m'0.0'\u001b[0m: \u001b[1;35mCollisionsResult\u001b[0m\u001b[1m(\u001b[0m\u001b[33minterrobot\u001b[0m=\u001b[1;36m0\u001b[0m, \u001b[33menvironment\u001b[0m=\u001b[1;36m0\u001b[0m\u001b[1m)\u001b[0m,\n",
       "    \u001b[32m'0.1'\u001b[0m: \u001b[1;35mCollisionsResult\u001b[0m\u001b[1m(\u001b[0m\u001b[33minterrobot\u001b[0m=\u001b[1;36m92\u001b[0m, \u001b[33menvironment\u001b[0m=\u001b[1;36m0\u001b[0m\u001b[1m)\u001b[0m,\n",
       "    \u001b[32m'0.2'\u001b[0m: \u001b[1;35mCollisionsResult\u001b[0m\u001b[1m(\u001b[0m\u001b[33minterrobot\u001b[0m=\u001b[1;36m115\u001b[0m, \u001b[33menvironment\u001b[0m=\u001b[1;36m0\u001b[0m\u001b[1m)\u001b[0m,\n",
       "    \u001b[32m'0.3'\u001b[0m: \u001b[1;35mCollisionsResult\u001b[0m\u001b[1m(\u001b[0m\u001b[33minterrobot\u001b[0m=\u001b[1;36m148\u001b[0m, \u001b[33menvironment\u001b[0m=\u001b[1;36m1\u001b[0m\u001b[1m)\u001b[0m,\n",
       "    \u001b[32m'0.4'\u001b[0m: \u001b[1;35mCollisionsResult\u001b[0m\u001b[1m(\u001b[0m\u001b[33minterrobot\u001b[0m=\u001b[1;36m257\u001b[0m, \u001b[33menvironment\u001b[0m=\u001b[1;36m2\u001b[0m\u001b[1m)\u001b[0m,\n",
       "    \u001b[32m'0.5'\u001b[0m: \u001b[1;35mCollisionsResult\u001b[0m\u001b[1m(\u001b[0m\u001b[33minterrobot\u001b[0m=\u001b[1;36m410\u001b[0m, \u001b[33menvironment\u001b[0m=\u001b[1;36m4\u001b[0m\u001b[1m)\u001b[0m,\n",
       "    \u001b[32m'0.6'\u001b[0m: \u001b[1;35mCollisionsResult\u001b[0m\u001b[1m(\u001b[0m\u001b[33minterrobot\u001b[0m=\u001b[1;36m842\u001b[0m, \u001b[33menvironment\u001b[0m=\u001b[1;36m72\u001b[0m\u001b[1m)\u001b[0m,\n",
       "    \u001b[32m'0.7'\u001b[0m: \u001b[1;35mCollisionsResult\u001b[0m\u001b[1m(\u001b[0m\u001b[33minterrobot\u001b[0m=\u001b[1;36m2035\u001b[0m, \u001b[33menvironment\u001b[0m=\u001b[1;36m141\u001b[0m\u001b[1m)\u001b[0m\n",
       "\u001b[1m}\u001b[0m"
      ]
     },
     "execution_count": 11,
     "metadata": {},
     "output_type": "execute_result"
    }
   ],
   "source": [
    "{k: v.collisions for k, v in sorted(results.with_tracking.items())}"
   ]
  },
  {
   "cell_type": "markdown",
   "metadata": {},
   "source": [
    "# With Tracking"
   ]
  },
  {
   "cell_type": "markdown",
   "metadata": {},
   "source": [
    "## Perpendicular Position Error"
   ]
  },
  {
   "cell_type": "code",
   "execution_count": 120,
   "metadata": {},
   "outputs": [],
   "source": [
    "# for failure_prob, metric in sorted(results.with_tracking.items()):\n",
    "#     print(f\"{failure_prob=}\")\n",
    "#     compute_stats(metric.ppe.errors).display()"
   ]
  },
  {
   "cell_type": "markdown",
   "metadata": {},
   "source": [
    "## Collisions"
   ]
  },
  {
   "cell_type": "code",
   "execution_count": 122,
   "metadata": {},
   "outputs": [
    {
     "data": {
      "text/html": [
       "<pre style=\"white-space:pre;overflow-x:auto;line-height:normal;font-family:Menlo,'DejaVu Sans Mono',consolas,'Courier New',monospace\"></pre>\n"
      ],
      "text/plain": []
     },
     "metadata": {},
     "output_type": "display_data"
    },
    {
     "data": {
      "text/plain": [
       "\n",
       "\u001b[1m{\u001b[0m\n",
       "    \u001b[32m'0.0'\u001b[0m: \u001b[1;35mCollisionsResult\u001b[0m\u001b[1m(\u001b[0m\u001b[33minterrobot\u001b[0m=\u001b[1;36m0\u001b[0m, \u001b[33menvironment\u001b[0m=\u001b[1;36m0\u001b[0m\u001b[1m)\u001b[0m,\n",
       "    \u001b[32m'0.1'\u001b[0m: \u001b[1;35mCollisionsResult\u001b[0m\u001b[1m(\u001b[0m\u001b[33minterrobot\u001b[0m=\u001b[1;36m92\u001b[0m, \u001b[33menvironment\u001b[0m=\u001b[1;36m0\u001b[0m\u001b[1m)\u001b[0m,\n",
       "    \u001b[32m'0.2'\u001b[0m: \u001b[1;35mCollisionsResult\u001b[0m\u001b[1m(\u001b[0m\u001b[33minterrobot\u001b[0m=\u001b[1;36m115\u001b[0m, \u001b[33menvironment\u001b[0m=\u001b[1;36m0\u001b[0m\u001b[1m)\u001b[0m,\n",
       "    \u001b[32m'0.3'\u001b[0m: \u001b[1;35mCollisionsResult\u001b[0m\u001b[1m(\u001b[0m\u001b[33minterrobot\u001b[0m=\u001b[1;36m148\u001b[0m, \u001b[33menvironment\u001b[0m=\u001b[1;36m1\u001b[0m\u001b[1m)\u001b[0m,\n",
       "    \u001b[32m'0.4'\u001b[0m: \u001b[1;35mCollisionsResult\u001b[0m\u001b[1m(\u001b[0m\u001b[33minterrobot\u001b[0m=\u001b[1;36m257\u001b[0m, \u001b[33menvironment\u001b[0m=\u001b[1;36m2\u001b[0m\u001b[1m)\u001b[0m,\n",
       "    \u001b[32m'0.5'\u001b[0m: \u001b[1;35mCollisionsResult\u001b[0m\u001b[1m(\u001b[0m\u001b[33minterrobot\u001b[0m=\u001b[1;36m410\u001b[0m, \u001b[33menvironment\u001b[0m=\u001b[1;36m4\u001b[0m\u001b[1m)\u001b[0m,\n",
       "    \u001b[32m'0.6'\u001b[0m: \u001b[1;35mCollisionsResult\u001b[0m\u001b[1m(\u001b[0m\u001b[33minterrobot\u001b[0m=\u001b[1;36m842\u001b[0m, \u001b[33menvironment\u001b[0m=\u001b[1;36m72\u001b[0m\u001b[1m)\u001b[0m,\n",
       "    \u001b[32m'0.7'\u001b[0m: \u001b[1;35mCollisionsResult\u001b[0m\u001b[1m(\u001b[0m\u001b[33minterrobot\u001b[0m=\u001b[1;36m2035\u001b[0m, \u001b[33menvironment\u001b[0m=\u001b[1;36m141\u001b[0m\u001b[1m)\u001b[0m\n",
       "\u001b[1m}\u001b[0m"
      ]
     },
     "execution_count": 122,
     "metadata": {},
     "output_type": "execute_result"
    }
   ],
   "source": [
    "{k: v.collisions for k, v in sorted(results.with_tracking.items())}"
   ]
  },
  {
   "cell_type": "markdown",
   "metadata": {},
   "source": [
    "## Total Distance Travelled"
   ]
  },
  {
   "cell_type": "code",
   "execution_count": null,
   "metadata": {},
   "outputs": [],
   "source": []
  },
  {
   "cell_type": "markdown",
   "metadata": {},
   "source": [
    "# Without Tracking"
   ]
  },
  {
   "cell_type": "markdown",
   "metadata": {},
   "source": [
    "## Perpendicular Position Error"
   ]
  },
  {
   "cell_type": "code",
   "execution_count": 121,
   "metadata": {},
   "outputs": [],
   "source": [
    "# for failure_prob, metric in sorted(results.without_tracking.items()):\n",
    "#     print(f\"{failure_prob=}\")\n",
    "#     compute_stats(metric.ppe.errors).display()"
   ]
  },
  {
   "cell_type": "markdown",
   "metadata": {},
   "source": [
    "## Collisions"
   ]
  },
  {
   "cell_type": "code",
   "execution_count": 14,
   "metadata": {},
   "outputs": [
    {
     "data": {
      "text/html": [
       "<pre style=\"white-space:pre;overflow-x:auto;line-height:normal;font-family:Menlo,'DejaVu Sans Mono',consolas,'Courier New',monospace\"></pre>\n"
      ],
      "text/plain": []
     },
     "metadata": {},
     "output_type": "display_data"
    },
    {
     "data": {
      "text/plain": [
       "\n",
       "\u001b[1m{\u001b[0m\n",
       "    \u001b[32m'0.0'\u001b[0m: \u001b[1;35mCollisionsResult\u001b[0m\u001b[1m(\u001b[0m\u001b[33minterrobot\u001b[0m=\u001b[1;36m63\u001b[0m, \u001b[33menvironment\u001b[0m=\u001b[1;36m0\u001b[0m\u001b[1m)\u001b[0m,\n",
       "    \u001b[32m'0.1'\u001b[0m: \u001b[1;35mCollisionsResult\u001b[0m\u001b[1m(\u001b[0m\u001b[33minterrobot\u001b[0m=\u001b[1;36m67\u001b[0m, \u001b[33menvironment\u001b[0m=\u001b[1;36m0\u001b[0m\u001b[1m)\u001b[0m,\n",
       "    \u001b[32m'0.2'\u001b[0m: \u001b[1;35mCollisionsResult\u001b[0m\u001b[1m(\u001b[0m\u001b[33minterrobot\u001b[0m=\u001b[1;36m74\u001b[0m, \u001b[33menvironment\u001b[0m=\u001b[1;36m0\u001b[0m\u001b[1m)\u001b[0m,\n",
       "    \u001b[32m'0.3'\u001b[0m: \u001b[1;35mCollisionsResult\u001b[0m\u001b[1m(\u001b[0m\u001b[33minterrobot\u001b[0m=\u001b[1;36m113\u001b[0m, \u001b[33menvironment\u001b[0m=\u001b[1;36m0\u001b[0m\u001b[1m)\u001b[0m,\n",
       "    \u001b[32m'0.4'\u001b[0m: \u001b[1;35mCollisionsResult\u001b[0m\u001b[1m(\u001b[0m\u001b[33minterrobot\u001b[0m=\u001b[1;36m218\u001b[0m, \u001b[33menvironment\u001b[0m=\u001b[1;36m3\u001b[0m\u001b[1m)\u001b[0m,\n",
       "    \u001b[32m'0.5'\u001b[0m: \u001b[1;35mCollisionsResult\u001b[0m\u001b[1m(\u001b[0m\u001b[33minterrobot\u001b[0m=\u001b[1;36m364\u001b[0m, \u001b[33menvironment\u001b[0m=\u001b[1;36m7\u001b[0m\u001b[1m)\u001b[0m,\n",
       "    \u001b[32m'0.6'\u001b[0m: \u001b[1;35mCollisionsResult\u001b[0m\u001b[1m(\u001b[0m\u001b[33minterrobot\u001b[0m=\u001b[1;36m721\u001b[0m, \u001b[33menvironment\u001b[0m=\u001b[1;36m86\u001b[0m\u001b[1m)\u001b[0m,\n",
       "    \u001b[32m'0.7'\u001b[0m: \u001b[1;35mCollisionsResult\u001b[0m\u001b[1m(\u001b[0m\u001b[33minterrobot\u001b[0m=\u001b[1;36m1671\u001b[0m, \u001b[33menvironment\u001b[0m=\u001b[1;36m134\u001b[0m\u001b[1m)\u001b[0m\n",
       "\u001b[1m}\u001b[0m"
      ]
     },
     "execution_count": 14,
     "metadata": {},
     "output_type": "execute_result"
    }
   ],
   "source": [
    "{k: v.collisions for k, v in sorted(results.without_tracking.items())}"
   ]
  },
  {
   "cell_type": "code",
   "execution_count": 60,
   "metadata": {},
   "outputs": [
    {
     "data": {
      "text/html": [
       "<pre style=\"white-space:pre;overflow-x:auto;line-height:normal;font-family:Menlo,'DejaVu Sans Mono',consolas,'Courier New',monospace\"></pre>\n"
      ],
      "text/plain": []
     },
     "metadata": {},
     "output_type": "display_data"
    },
    {
     "data": {
      "text/plain": [
       "\u001b[32m'/home/kpbaks/university/semesters/10/master-thesis/gbp-rs/scripts'\u001b[0m"
      ]
     },
     "execution_count": 60,
     "metadata": {},
     "output_type": "execute_result"
    }
   ],
   "source": [
    "os.getcwd()\n"
   ]
  },
  {
   "cell_type": "code",
   "execution_count": 23,
   "metadata": {},
   "outputs": [
    {
     "data": {
      "text/html": [
       "<pre style=\"white-space:pre;overflow-x:auto;line-height:normal;font-family:Menlo,'DejaVu Sans Mono',consolas,'Courier New',monospace\"><span style=\"color: #808000; text-decoration-color: #808000\">dm</span>=<span style=\"color: #800080; text-decoration-color: #800080; font-weight: bold\">array</span><span style=\"font-weight: bold\">([</span><span style=\"color: #008080; text-decoration-color: #008080; font-weight: bold\">1</span>.        , <span style=\"color: #008080; text-decoration-color: #008080; font-weight: bold\">1.41421356</span>, <span style=\"color: #008080; text-decoration-color: #008080; font-weight: bold\">2.23606798</span>, <span style=\"color: #008080; text-decoration-color: #008080; font-weight: bold\">1</span>.        , <span style=\"color: #008080; text-decoration-color: #008080; font-weight: bold\">2</span>.        ,\n",
       "       <span style=\"color: #008080; text-decoration-color: #008080; font-weight: bold\">1</span>.        <span style=\"font-weight: bold\">])</span>\n",
       "</pre>\n"
      ],
      "text/plain": [
       "\u001b[33mdm\u001b[0m=\u001b[1;35marray\u001b[0m\u001b[1m(\u001b[0m\u001b[1m[\u001b[0m\u001b[1;36m1\u001b[0m.        , \u001b[1;36m1.41421356\u001b[0m, \u001b[1;36m2.23606798\u001b[0m, \u001b[1;36m1\u001b[0m.        , \u001b[1;36m2\u001b[0m.        ,\n",
       "       \u001b[1;36m1\u001b[0m.        \u001b[1m]\u001b[0m\u001b[1m)\u001b[0m\n"
      ]
     },
     "metadata": {},
     "output_type": "display_data"
    },
    {
     "data": {
      "text/html": [
       "<pre style=\"white-space:pre;overflow-x:auto;line-height:normal;font-family:Menlo,'DejaVu Sans Mono',consolas,'Courier New',monospace\"><span style=\"color: #800080; text-decoration-color: #800080; font-weight: bold\">pdist</span><span style=\"font-weight: bold\">(</span>points<span style=\"font-weight: bold\">)</span>=<span style=\"color: #800080; text-decoration-color: #800080; font-weight: bold\">array</span><span style=\"font-weight: bold\">([</span><span style=\"color: #008080; text-decoration-color: #008080; font-weight: bold\">1</span>.        , <span style=\"color: #008080; text-decoration-color: #008080; font-weight: bold\">1.41421356</span>, <span style=\"color: #008080; text-decoration-color: #008080; font-weight: bold\">2.23606798</span>, <span style=\"color: #008080; text-decoration-color: #008080; font-weight: bold\">1</span>.        , <span style=\"color: #008080; text-decoration-color: #008080; font-weight: bold\">2</span>.        ,\n",
       "       <span style=\"color: #008080; text-decoration-color: #008080; font-weight: bold\">1</span>.        <span style=\"font-weight: bold\">])</span>\n",
       "</pre>\n"
      ],
      "text/plain": [
       "\u001b[1;35mpdist\u001b[0m\u001b[1m(\u001b[0mpoints\u001b[1m)\u001b[0m=\u001b[1;35marray\u001b[0m\u001b[1m(\u001b[0m\u001b[1m[\u001b[0m\u001b[1;36m1\u001b[0m.        , \u001b[1;36m1.41421356\u001b[0m, \u001b[1;36m2.23606798\u001b[0m, \u001b[1;36m1\u001b[0m.        , \u001b[1;36m2\u001b[0m.        ,\n",
       "       \u001b[1;36m1\u001b[0m.        \u001b[1m]\u001b[0m\u001b[1m)\u001b[0m\n"
      ]
     },
     "metadata": {},
     "output_type": "display_data"
    },
    {
     "data": {
      "text/html": [
       "<pre style=\"white-space:pre;overflow-x:auto;line-height:normal;font-family:Menlo,'DejaVu Sans Mono',consolas,'Courier New',monospace\"><span style=\"color: #800080; text-decoration-color: #800080; font-weight: bold\">np.sum</span><span style=\"font-weight: bold\">(</span><span style=\"color: #800080; text-decoration-color: #800080; font-weight: bold\">pdist</span><span style=\"font-weight: bold\">(</span>points, <span style=\"color: #008000; text-decoration-color: #008000\">'euclidean'</span><span style=\"font-weight: bold\">))</span>=<span style=\"color: #008080; text-decoration-color: #008080; font-weight: bold\">8.650281539872886</span>\n",
       "</pre>\n"
      ],
      "text/plain": [
       "\u001b[1;35mnp.sum\u001b[0m\u001b[1m(\u001b[0m\u001b[1;35mpdist\u001b[0m\u001b[1m(\u001b[0mpoints, \u001b[32m'euclidean'\u001b[0m\u001b[1m)\u001b[0m\u001b[1m)\u001b[0m=\u001b[1;36m8.650281539872886\u001b[0m\n"
      ]
     },
     "metadata": {},
     "output_type": "display_data"
    }
   ],
   "source": [
    "import numpy as np\n",
    "from scipy.spatial.distance import pdist, squareform\n",
    "\n",
    "\n",
    "def pwdist(points: np.ndarray, distance_fn) -> np.ndarray:\n",
    "    pass\n",
    "\n",
    "\n",
    "# Example input array\n",
    "# points = np.array([[x1, y1], [x2, y2], ..., [xn, yn]])\n",
    "points = np.array([[0, 0], [1, 0], [1, 1], [1,2]])\n",
    "dm = pdist(points, lambda u, v: np.sqrt(((u-v)**2).sum()))\n",
    "print(f\"{dm=}\")\n",
    "\n",
    "\n",
    "print(f\"{pdist(points)=}\")\n",
    "\n",
    "print(f\"{np.sum(pdist(points, 'euclidean'))=}\")\n",
    "\n",
    "\n",
    "# Compute pairwise Euclidean distances\n",
    "# dist_matrix = squareform(pdist(points))\n",
    "\n",
    "# Compute the accumulated distance\n",
    "# accumulated_distance = np.sum(dist_matrix)\n",
    "# print(f\"{accumulated_distance=}\")"
   ]
  },
  {
   "cell_type": "code",
   "execution_count": 139,
   "metadata": {},
   "outputs": [
    {
     "data": {
      "text/html": [
       "<pre style=\"white-space:pre;overflow-x:auto;line-height:normal;font-family:Menlo,'DejaVu Sans Mono',consolas,'Courier New',monospace\"></pre>\n"
      ],
      "text/plain": []
     },
     "metadata": {},
     "output_type": "display_data"
    },
    {
     "data": {
      "text/plain": [
       "\u001b[1;36m2.8284271247461903\u001b[0m"
      ]
     },
     "execution_count": 139,
     "metadata": {},
     "output_type": "execute_result"
    }
   ],
   "source": [
    "def accumulated_distances(points):\n",
    "    # Compute pairwise Euclidean distances between successive points\n",
    "    distances = np.sum(np.sqrt(np.sum(np.diff(points, axis=0)**2, axis=1)))\n",
    "    return distances\n",
    "\n",
    "# Example usage\n",
    "points = np.array([[0, 0], [1, 1], [2,2]])\n",
    "accumulated_distances(points)"
   ]
  },
  {
   "cell_type": "code",
   "execution_count": 20,
   "metadata": {},
   "outputs": [
    {
     "data": {
      "text/html": [
       "<pre style=\"white-space:pre;overflow-x:auto;line-height:normal;font-family:Menlo,'DejaVu Sans Mono',consolas,'Courier New',monospace\"></pre>\n"
      ],
      "text/plain": []
     },
     "metadata": {},
     "output_type": "display_data"
    },
    {
     "data": {
      "text/plain": [
       "\u001b[1;35marray\u001b[0m\u001b[1m(\u001b[0m\u001b[1m[\u001b[0m\u001b[1;36m60\u001b[0m, \u001b[1;36m52\u001b[0m\u001b[1m]\u001b[0m\u001b[1m)\u001b[0m"
      ]
     },
     "execution_count": 20,
     "metadata": {},
     "output_type": "execute_result"
    }
   ],
   "source": [
    "np.abs([-60, 52])"
   ]
  },
  {
   "cell_type": "code",
   "execution_count": 28,
   "metadata": {},
   "outputs": [
    {
     "data": {
      "text/html": [
       "<pre style=\"white-space:pre;overflow-x:auto;line-height:normal;font-family:Menlo,'DejaVu Sans Mono',consolas,'Courier New',monospace\"></pre>\n"
      ],
      "text/plain": []
     },
     "metadata": {},
     "output_type": "display_data"
    },
    {
     "data": {
      "image/png": "[encoded data removed]",
      "text/plain": [
       "\u001b[1m<\u001b[0m\u001b[1;95mFigure\u001b[0m\u001b[39m size 60\u001b[0m\u001b[1;36m0x400\u001b[0m\u001b[39m with \u001b[0m\u001b[1;36m1\u001b[0m\u001b[39m Axes\u001b[0m\u001b[1m>\u001b[0m"
      ]
     },
     "metadata": {},
     "output_type": "display_data"
    }
   ],
   "source": [
    "fig, ax = plt.subplots(1, figsize=(6, 4))\n",
    "\n",
    "with_tracking_data = {k: compute_stats(v.durations.inner).mean for k, v in sorted(results.with_tracking.items())}\n",
    "without_tracking_data = {k: compute_stats(v.durations.inner).mean for k, v in sorted(results.without_tracking.items())}\n",
    "\n",
    "#      linestyle='--',\n",
    "\n",
    "plt.plot(\n",
    "    [float(k) for k in with_tracking_data.keys()],\n",
    "    with_tracking_data.values(),\n",
    "    # label=\"With Tracking\"\n",
    "    # label=\"$\\mathbf{With\\ Tracking}$\",\n",
    "    label=\"Path Tracking\",\n",
    "    color=flavor.lavender.hex,\n",
    ")\n",
    "\n",
    "plt.plot(\n",
    "    [float(k) for k in without_tracking_data.keys()],\n",
    "    without_tracking_data.values(),\n",
    "    # label=\"Without\",\n",
    "    label=\"Waypoint Tracking\",\n",
    "    color=flavor.green.hex,\n",
    ")\n",
    "\n",
    "legend = ax.legend(loc=\"upper left\", fontsize=11)\n",
    "# legend.get_frame().set_facecolor('#FF0000')  # Set the legend background color\n",
    "legend.get_frame().set_edgecolor(flavor.overlay2.hex)  # Set the legend background color\n",
    "\n",
    "# Define a formatter function\n",
    "def percentage(x, pos):\n",
    "    return f'{int(x * 100)}'\n",
    "\n",
    "# Apply the formatter to the x-axis\n",
    "ax.xaxis.set_major_formatter(FuncFormatter(percentage))\n",
    "\n",
    "# Apply the custom font to x-ticks\n",
    "for label in ax.get_xticklabels():\n",
    "    label.set_fontproperties(prop_jbm)\n",
    "\n",
    "for label in ax.get_yticklabels():\n",
    "    label.set_fontproperties(prop_jbm)\n",
    "\n",
    "label_args = dict(fontsize=12)\n",
    "\n",
    "# ax.grid(True)\n",
    "# ax.set_xlim(0, 0.8)\n",
    "# ax.set_xlabel(\"Failure Probability $[\\%]$\", **label_args)\n",
    "# # ax.set_xticks(np.arange(0, 0.8, 0.1))  # Setting xtick resolution to 0.1\n",
    "# ax.set_ylabel(\"Total Collisions\", **label_args)\n",
    "# ax.set_title(\"Environment Collisions\")\n",
    "legend = ax.legend(loc=\"upper left\", fontsize=11)\n",
    "# legend.get_frame().set_facecolor('#FF0000')  # Set the legend background color\n",
    "\n",
    "legend.get_frame().set_edgecolor(flavor.overlay2.hex)  # Set the legend background color Caption\n",
    "ax.grid(True)\n",
    "ax.set_xlim(0, 0.71)\n",
    "\n",
    "# ax.set_xticks(np.arange(0, 1.1, 0.1))  # Setting xtick resolution to 0.1\n",
    "ax.set_ylabel(\"Mission Duration $[s]$\", **label_args)\n",
    "ax.set_xlabel(\"Failure Probability $[\\%]$\", **label_args)\n",
    "\n",
    "# plt.tight_layout()\n",
    "# ax.set_title(\"Mean of Perpendicular Path Deviation\")\n",
    "\n",
    "# plt.savefig(\"perpendicular-path-deviation-structured-junction-twoway.svg\", pad_inches=1.0)\n",
    "# plt.savefig(\"perpendicular-path-deviation-structured-junction-twoway.pdf\")\n",
    "\n",
    "plt.show()"
   ]
  },
  {
   "cell_type": "code",
   "execution_count": null,
   "metadata": {},
   "outputs": [],
   "source": []
  }
 ],
 "metadata": {
  "kernelspec": {
   "display_name": "Python 3 (ipykernel)",
   "language": "python",
   "name": "python3"
  },
  "language_info": {
   "codemirror_mode": {
    "name": "ipython",
    "version": 3
   },
   "file_extension": ".py",
   "mimetype": "text/x-python",
   "name": "python",
   "nbconvert_exporter": "python",
   "pygments_lexer": "ipython3",
   "version": "3.11.9"
  }
 },
 "nbformat": 4,
 "nbformat_minor": 4
}
