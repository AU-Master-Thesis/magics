{
 "cells": [
  {
   "cell_type": "code",
   "execution_count": 1,
   "metadata": {},
   "outputs": [
    {
     "data": {
      "text/html": [
       "<pre style=\"white-space:pre;overflow-x:auto;line-height:normal;font-family:Menlo,'DejaVu Sans Mono',consolas,'Courier New',monospace\">sys.executable = <span style=\"color: #008000; text-decoration-color: #008000\">'/nix/store/7hnr99nxrd2aw6lghybqdmkckq60j6l9-python3-3.11.9/bin/python3.11'</span>\n",
       "</pre>\n"
      ],
      "text/plain": [
       "sys.executable = \u001b[32m'/nix/store/7hnr99nxrd2aw6lghybqdmkckq60j6l9-python3-3.11.9/bin/python3.11'\u001b[0m\n"
      ]
     },
     "metadata": {},
     "output_type": "display_data"
    },
    {
     "data": {
      "text/html": [
       "<pre style=\"white-space:pre;overflow-x:auto;line-height:normal;font-family:Menlo,'DejaVu Sans Mono',consolas,'Courier New',monospace\">sys.version = <span style=\"color: #008000; text-decoration-color: #008000\">'3.11.9 (main, Apr  2 2024, 08:25:04) [GCC 13.2.0]'</span>\n",
       "</pre>\n"
      ],
      "text/plain": [
       "sys.version = \u001b[32m'3.11.9 \u001b[0m\u001b[32m(\u001b[0m\u001b[32mmain, Apr  2 2024, 08:25:04\u001b[0m\u001b[32m)\u001b[0m\u001b[32m \u001b[0m\u001b[32m[\u001b[0m\u001b[32mGCC 13.2.0\u001b[0m\u001b[32m]\u001b[0m\u001b[32m'\u001b[0m\n"
      ]
     },
     "metadata": {},
     "output_type": "display_data"
    },
    {
     "data": {
      "text/html": [
       "<pre style=\"white-space:pre;overflow-x:auto;line-height:normal;font-family:Menlo,'DejaVu Sans Mono',consolas,'Courier New',monospace\"><span style=\"color: #800080; text-decoration-color: #800080; font-weight: bold\">os.getcwd</span><span style=\"font-weight: bold\">()</span>=<span style=\"color: #008000; text-decoration-color: #008000\">'/home/kpbaks/university/semesters/10/master-thesis/gbp-rs/scripts'</span>\n",
       "</pre>\n"
      ],
      "text/plain": [
       "\u001b[1;35mos.getcwd\u001b[0m\u001b[1m(\u001b[0m\u001b[1m)\u001b[0m=\u001b[32m'/home/kpbaks/university/semesters/10/master-thesis/gbp-rs/scripts'\u001b[0m\n"
      ]
     },
     "metadata": {},
     "output_type": "display_data"
    }
   ],
   "source": [
    "import inspect, os, sys\n",
    "\n",
    "import re\n",
    "import json\n",
    "import statistics\n",
    "import argparse\n",
    "import itertools\n",
    "from glob import glob\n",
    "from pathlib import Path\n",
    "from dataclasses import dataclass\n",
    "from typing import  Iterable, Any\n",
    "\n",
    "\n",
    "def cd_if_exists(dir: Path | str) -> bool:\n",
    "    if isinstance(dir, str):\n",
    "        dir = Path(dir)\n",
    "    if dir.exists() and dir.is_dir():\n",
    "        os.chdir(dir)\n",
    "        return True\n",
    "    else:\n",
    "        return False\n",
    "\n",
    "# Normally start VSCode (or whatever you use to run this notebook interactively) from the root, so\n",
    "# we have to `cd` into the parent dir of this file, to access utils functions.\n",
    "cd_if_exists('./scripts')\n",
    "\n",
    "# These are util functions\n",
    "from ldj import ldj\n",
    "from utils import *\n",
    "\n",
    "import numpy as np\n",
    "import matplotlib.pyplot as plt\n",
    "# from matplotlib.font_manager import FontProperties\n",
    "import matplotlib.font_manager as fm\n",
    "from matplotlib.patches import FancyBboxPatch\n",
    "from matplotlib.patches import PathPatch\n",
    "from matplotlib.path import get_path_collection_extents\n",
    "import seaborn as sns\n",
    "\n",
    "from rich import print, pretty\n",
    "from tabulate import tabulate\n",
    "import pretty_errors\n",
    "from catppuccin import PALETTE\n",
    "from IPython.display import display, HTML\n",
    "\n",
    "pretty.install()\n",
    "print(f\"{os.getcwd()=}\")\n",
    "\n",
    "EXPERIMENT_DIR = Path(\"../experiments/structured-junction-twoway\")\n",
    "assert EXPERIMENT_DIR.is_dir() and EXPERIMENT_DIR.exists()\n",
    "\n",
    "flavor = PALETTE.latte.colors\n",
    "# data = dict()\n"
   ]
  },
  {
   "cell_type": "code",
   "execution_count": 17,
   "metadata": {
    "editable": true,
    "slideshow": {
     "slide_type": ""
    },
    "tags": []
   },
   "outputs": [],
   "source": [
    "@dataclass(frozen=True)\n",
    "class Statistics:\n",
    "    mean: float\n",
    "    median: float\n",
    "    stdev: float\n",
    "    min: float\n",
    "    max: float\n",
    "\n",
    "\n",
    "    def display(self) -> None:\n",
    "        data = [\n",
    "            [\"Mean\", self.mean],\n",
    "            [\"Median\", self.median],\n",
    "            [\"Standard Deviation\", self.stdev],\n",
    "            [\"Min\", self.min],\n",
    "            [\"Max\", self.max]\n",
    "        ]\n",
    "        html_table = tabulate(data, headers=[\"Statistic\", \"Value\"], tablefmt=\"html\")\n",
    "        centered_html_table = f\"\"\"\n",
    "        <div style=\"display: flex; justify-content: center;\">\n",
    "            {html_table}\n",
    "        </div>\n",
    "        \"\"\"\n",
    "        display(HTML(html_table))\n",
    "        # display(HTML(centered_html_table))\n",
    "\n",
    "\n",
    "def compute_stats(data: list[float]) -> Statistics:\n",
    "    return Statistics(\n",
    "        mean=np.mean(data),\n",
    "        median=np.median(data),\n",
    "        stdev=np.std(data),\n",
    "        min=np.min(data),\n",
    "        max=np.max(data),\n",
    "    )\n"
   ]
  },
  {
   "cell_type": "code",
   "execution_count": 3,
   "metadata": {},
   "outputs": [],
   "source": [
    "@dataclass(frozen=True)\n",
    "class PerpendicularPositionErrorResult:\n",
    "    errors: list[float]\n",
    "    rmses: list[float]\n",
    "\n",
    "\n",
    "def perpendicular_position_error(exported_data: dict) -> PerpendicularPositionErrorResult:\n",
    "    errors: list[float] = []\n",
    "    rmses: list[float] = []\n",
    "\n",
    "    for robot_id, robot_data in exported_data['robots'].items():\n",
    "        color: str = robot_data['color']\n",
    "        positions = np.array([p for p in robot_data['positions']])\n",
    "        mission = robot_data['mission']\n",
    "        waypoints = []\n",
    "        for route in mission['routes']:\n",
    "            waypoints.append(route['waypoints'][0])\n",
    "            for wp in route['waypoints'][1:]:\n",
    "                waypoints.append(wp)\n",
    "\n",
    "        waypoints = np.array(waypoints)\n",
    "        waypoints = np.squeeze(waypoints)\n",
    "\n",
    "        lines: list[LinePoints] = [LinePoints(start=start, end=end) for start, end in sliding_window(waypoints, 2)]\n",
    "        closest_projections = [closest_projection_onto_line_segments(p, lines) for p in positions]\n",
    "\n",
    "        error: float = np.sum(np.linalg.norm(positions - closest_projections, axis=1))\n",
    "        rmse: float = np.sqrt(error / len(positions))\n",
    "\n",
    "        errors.append(error)\n",
    "        rmses.append(rmse)\n",
    "\n",
    "    return PerpendicularPositionErrorResult(errors=errors, rmses=rmses)\n"
   ]
  },
  {
   "cell_type": "code",
   "execution_count": 4,
   "metadata": {},
   "outputs": [],
   "source": [
    "@dataclass(frozen=True)\n",
    "class CollisionsResult:\n",
    "    interrobot: int\n",
    "    environment: int\n",
    "\n",
    "def collisions(exported_data: dict) -> CollisionsResult:\n",
    "    interrobot: int = len(exported_data['collisions']['robots'])\n",
    "    environment: int = len(exported_data['collisions']['environment'])\n",
    "    return CollisionsResult(interrobot=interrobot, environment=environment)\n"
   ]
  },
  {
   "cell_type": "code",
   "execution_count": 5,
   "metadata": {},
   "outputs": [],
   "source": [
    "@dataclass(frozen=True)\n",
    "class Metric:\n",
    "    ppe: PerpendicularPositionErrorResult\n",
    "    collisions: CollisionsResult\n"
   ]
  },
  {
   "cell_type": "code",
   "execution_count": 6,
   "metadata": {},
   "outputs": [],
   "source": [
    "def flatten(lst: Iterable) -> list:\n",
    "    return list(itertools.chain.from_iterable(lst))\n"
   ]
  },
  {
   "cell_type": "code",
   "execution_count": 7,
   "metadata": {},
   "outputs": [],
   "source": [
    "@dataclass\n",
    "class Results:\n",
    "    with_tracking: dict[str, Metric]\n",
    "    without_tracking: dict[str, Metric]\n",
    "\n",
    "results = Results(dict(), dict())\n",
    "\n",
    "RE = re.compile(r\"tracking-(on|off)-failure-(\\d\\.\\d)\\.json\")\n",
    "\n",
    "for f in EXPERIMENT_DIR.iterdir():\n",
    "    captures = RE.match(f.name)\n",
    "    assert captures is not None\n",
    "    tracking = captures.group(1)\n",
    "    failure_prob = captures.group(2)\n",
    "\n",
    "    with open(f) as f:\n",
    "        data = json.load(f)\n",
    "\n",
    "    ppe = perpendicular_position_error(data)\n",
    "    metric = Metric(ppe=ppe, collisions=collisions(data))\n",
    "\n",
    "    match tracking:\n",
    "        case \"on\":\n",
    "            results.with_tracking[failure_prob] = metric\n",
    "        case \"off\":\n",
    "            results.without_tracking[failure_prob] = metric\n",
    "        case _:\n",
    "            assert False\n",
    "\n",
    "\n",
    "# print(f\"{results=}\")\n"
   ]
  },
  {
   "cell_type": "markdown",
   "metadata": {},
   "source": [
    "## Perpendicular Position Error"
   ]
  },
  {
   "cell_type": "code",
   "execution_count": 61,
   "metadata": {},
   "outputs": [
    {
     "data": {
      "text/html": [
       "<pre style=\"white-space:pre;overflow-x:auto;line-height:normal;font-family:Menlo,'DejaVu Sans Mono',consolas,'Courier New',monospace\"></pre>\n"
      ],
      "text/plain": []
     },
     "metadata": {},
     "output_type": "display_data"
    },
    {
     "data": {
      "image/png": "[encoded data removed]",
      "text/plain": [
       "\u001b[1m<\u001b[0m\u001b[1;95mFigure\u001b[0m\u001b[39m size 80\u001b[0m\u001b[1;36m0x600\u001b[0m\u001b[39m with \u001b[0m\u001b[1;36m1\u001b[0m\u001b[39m Axes\u001b[0m\u001b[1m>\u001b[0m"
      ]
     },
     "metadata": {},
     "output_type": "display_data"
    }
   ],
   "source": [
    "fig, ax = plt.subplots(1, figsize=(8, 6))\n",
    "\n",
    "with_tracking_data = {k: compute_stats(v.ppe.errors).mean for k, v in sorted(results.with_tracking.items())}\n",
    "without_tracking_data = {k: compute_stats(v.ppe.errors).mean for k, v in sorted(results.without_tracking.items())}\n",
    "\n",
    "plt.plot(\n",
    "    [float(k) for k in with_tracking_data.keys()],\n",
    "    with_tracking_data.values(),\n",
    "    label=\"With Tracking\"\n",
    ")\n",
    "\n",
    "plt.plot(\n",
    "    [float(k) for k in without_tracking_data.keys()],\n",
    "    without_tracking_data.values(),\n",
    "    label=\"Without\"\n",
    ")\n",
    "\n",
    "ax.grid(True)\n",
    "ax.set_xlim(0, 1)\n",
    "ax.set_xticks(np.arange(0, 1.1, 0.1))  # Setting xtick resolution to 0.1\n",
    "ax.set_xlabel(\"failure prob.\")\n",
    "ax.set_ylabel(\"Mean of Perpendicular Path Deviation $[m]$\")\n",
    "plt.tight_layout()\n",
    "ax.set_title(\"Mean of Perpendicular Path Deviation\")\n",
    "ax.legend()\n",
    "plt.savefig(\"perpendicular-path-deviation-structured-junction-twoway.svg\", pad_inches=1.0)\n",
    "plt.show()"
   ]
  },
  {
   "cell_type": "markdown",
   "metadata": {},
   "source": [
    "## Collisions"
   ]
  },
  {
   "cell_type": "code",
   "execution_count": 63,
   "metadata": {},
   "outputs": [
    {
     "data": {
      "text/html": [
       "<pre style=\"white-space:pre;overflow-x:auto;line-height:normal;font-family:Menlo,'DejaVu Sans Mono',consolas,'Courier New',monospace\"></pre>\n"
      ],
      "text/plain": []
     },
     "metadata": {},
     "output_type": "display_data"
    },
    {
     "data": {
      "image/png": "[encoded data removed]",
      "text/plain": [
       "\u001b[1m<\u001b[0m\u001b[1;95mFigure\u001b[0m\u001b[39m size 80\u001b[0m\u001b[1;36m0x800\u001b[0m\u001b[39m with \u001b[0m\u001b[1;36m2\u001b[0m\u001b[39m Axes\u001b[0m\u001b[1m>\u001b[0m"
      ]
     },
     "metadata": {},
     "output_type": "display_data"
    }
   ],
   "source": [
    "fig, axs = plt.subplots(2, figsize=(8,8))\n",
    "\n",
    "ax = axs[0]\n",
    "\n",
    "with_tracking_data = {k: v.collisions.interrobot for k, v in sorted(results.with_tracking.items())}\n",
    "without_tracking_data = {k: v.collisions.interrobot for k, v in sorted(results.without_tracking.items())}\n",
    "\n",
    "ax.plot(\n",
    "    [float(k) for k in with_tracking_data.keys()],\n",
    "    with_tracking_data.values(),\n",
    "    label=\"With Tracking\"\n",
    ")\n",
    "\n",
    "ax.plot(\n",
    "    [float(k) for k in without_tracking_data.keys()],\n",
    "    without_tracking_data.values(),\n",
    "    label=\"Without\"\n",
    ")\n",
    "\n",
    "ax.grid(True)\n",
    "ax.set_xlim(0, 1)\n",
    "ax.set_xticks(np.arange(0, 1.1, 0.1))  # Setting xtick resolution to 0.1\n",
    "ax.set_xlabel(\"failure prob.\")\n",
    "ax.set_ylabel(\"Interrobot Collisions\")\n",
    "plt.tight_layout()\n",
    "ax.set_title(\"Interrobot Collisions\")\n",
    "ax.legend()\n",
    "\n",
    "ax = axs[1]\n",
    "\n",
    "with_tracking_data = {k: v.collisions.environment for k, v in sorted(results.with_tracking.items())}\n",
    "without_tracking_data = {k: v.collisions.environment for k, v in sorted(results.without_tracking.items())}\n",
    "\n",
    "ax.plot(\n",
    "    [float(k) for k in with_tracking_data.keys()],\n",
    "    with_tracking_data.values(),\n",
    "    label=\"With Tracking\"\n",
    ")\n",
    "\n",
    "ax.plot(\n",
    "    [float(k) for k in without_tracking_data.keys()],\n",
    "    without_tracking_data.values(),\n",
    "    label=\"Without\"\n",
    ")\n",
    "\n",
    "ax.grid(True)\n",
    "ax.set_xlim(0, 1)\n",
    "ax.set_xlabel(\"failure prob.\")\n",
    "ax.set_xticks(np.arange(0, 1.1, 0.1))  # Setting xtick resolution to 0.1\n",
    "ax.set_ylabel(\"Environment Collisions\")\n",
    "ax.set_title(\"Environment Collisions\")\n",
    "ax.legend()\n",
    "\n",
    "\n",
    "\n",
    "plt.tight_layout()\n",
    "plt.savefig(\"collisions-structured-junction-twoway.svg\")\n",
    "plt.show()\n"
   ]
  },
  {
   "cell_type": "code",
   "execution_count": 11,
   "metadata": {},
   "outputs": [
    {
     "data": {
      "text/html": [
       "<pre style=\"white-space:pre;overflow-x:auto;line-height:normal;font-family:Menlo,'DejaVu Sans Mono',consolas,'Courier New',monospace\"></pre>\n"
      ],
      "text/plain": []
     },
     "metadata": {},
     "output_type": "display_data"
    },
    {
     "data": {
      "text/plain": [
       "\n",
       "\u001b[1m{\u001b[0m\n",
       "    \u001b[32m'0.0'\u001b[0m: \u001b[1;35mCollisionsResult\u001b[0m\u001b[1m(\u001b[0m\u001b[33minterrobot\u001b[0m=\u001b[1;36m0\u001b[0m, \u001b[33menvironment\u001b[0m=\u001b[1;36m0\u001b[0m\u001b[1m)\u001b[0m,\n",
       "    \u001b[32m'0.1'\u001b[0m: \u001b[1;35mCollisionsResult\u001b[0m\u001b[1m(\u001b[0m\u001b[33minterrobot\u001b[0m=\u001b[1;36m92\u001b[0m, \u001b[33menvironment\u001b[0m=\u001b[1;36m0\u001b[0m\u001b[1m)\u001b[0m,\n",
       "    \u001b[32m'0.2'\u001b[0m: \u001b[1;35mCollisionsResult\u001b[0m\u001b[1m(\u001b[0m\u001b[33minterrobot\u001b[0m=\u001b[1;36m115\u001b[0m, \u001b[33menvironment\u001b[0m=\u001b[1;36m0\u001b[0m\u001b[1m)\u001b[0m,\n",
       "    \u001b[32m'0.3'\u001b[0m: \u001b[1;35mCollisionsResult\u001b[0m\u001b[1m(\u001b[0m\u001b[33minterrobot\u001b[0m=\u001b[1;36m148\u001b[0m, \u001b[33menvironment\u001b[0m=\u001b[1;36m1\u001b[0m\u001b[1m)\u001b[0m,\n",
       "    \u001b[32m'0.4'\u001b[0m: \u001b[1;35mCollisionsResult\u001b[0m\u001b[1m(\u001b[0m\u001b[33minterrobot\u001b[0m=\u001b[1;36m257\u001b[0m, \u001b[33menvironment\u001b[0m=\u001b[1;36m2\u001b[0m\u001b[1m)\u001b[0m,\n",
       "    \u001b[32m'0.5'\u001b[0m: \u001b[1;35mCollisionsResult\u001b[0m\u001b[1m(\u001b[0m\u001b[33minterrobot\u001b[0m=\u001b[1;36m410\u001b[0m, \u001b[33menvironment\u001b[0m=\u001b[1;36m4\u001b[0m\u001b[1m)\u001b[0m,\n",
       "    \u001b[32m'0.6'\u001b[0m: \u001b[1;35mCollisionsResult\u001b[0m\u001b[1m(\u001b[0m\u001b[33minterrobot\u001b[0m=\u001b[1;36m842\u001b[0m, \u001b[33menvironment\u001b[0m=\u001b[1;36m72\u001b[0m\u001b[1m)\u001b[0m,\n",
       "    \u001b[32m'0.7'\u001b[0m: \u001b[1;35mCollisionsResult\u001b[0m\u001b[1m(\u001b[0m\u001b[33minterrobot\u001b[0m=\u001b[1;36m2035\u001b[0m, \u001b[33menvironment\u001b[0m=\u001b[1;36m141\u001b[0m\u001b[1m)\u001b[0m\n",
       "\u001b[1m}\u001b[0m"
      ]
     },
     "execution_count": 11,
     "metadata": {},
     "output_type": "execute_result"
    }
   ],
   "source": [
    "{k: v.collisions for k, v in sorted(results.with_tracking.items())}"
   ]
  },
  {
   "cell_type": "markdown",
   "metadata": {},
   "source": [
    "# Without Tracking"
   ]
  },
  {
   "cell_type": "markdown",
   "metadata": {},
   "source": [
    "## Perpendicular Position Error"
   ]
  },
  {
   "cell_type": "code",
   "execution_count": 46,
   "metadata": {},
   "outputs": [
    {
     "data": {
      "text/html": [
       "<pre style=\"white-space:pre;overflow-x:auto;line-height:normal;font-family:Menlo,'DejaVu Sans Mono',consolas,'Courier New',monospace\"><span style=\"color: #808000; text-decoration-color: #808000\">failure_prob</span>=<span style=\"color: #008000; text-decoration-color: #008000\">'0.0'</span>\n",
       "</pre>\n"
      ],
      "text/plain": [
       "\u001b[33mfailure_prob\u001b[0m=\u001b[32m'0.0'\u001b[0m\n"
      ]
     },
     "metadata": {},
     "output_type": "display_data"
    },
    {
     "data": {
      "text/html": [
       "<pre style=\"white-space:pre;overflow-x:auto;line-height:normal;font-family:Menlo,'DejaVu Sans Mono',consolas,'Courier New',monospace\"></pre>\n"
      ],
      "text/plain": []
     },
     "metadata": {},
     "output_type": "display_data"
    },
    {
     "data": {
      "text/html": [
       "<table>\n",
       "<thead>\n",
       "<tr><th>Statistic         </th><th style=\"text-align: right;\">        Value</th></tr>\n",
       "</thead>\n",
       "<tbody>\n",
       "<tr><td>Mean              </td><td style=\"text-align: right;\"> 56.6555     </td></tr>\n",
       "<tr><td>Median            </td><td style=\"text-align: right;\"> 44.22       </td></tr>\n",
       "<tr><td>Standard Deviation</td><td style=\"text-align: right;\"> 42.7886     </td></tr>\n",
       "<tr><td>Min               </td><td style=\"text-align: right;\">  7.81347e-13</td></tr>\n",
       "<tr><td>Max               </td><td style=\"text-align: right;\">149.517      </td></tr>\n",
       "</tbody>\n",
       "</table>"
      ],
      "text/plain": [
       "\u001b[1m<\u001b[0m\u001b[1;95mIPython.core.display.HTML\u001b[0m\u001b[39m object\u001b[0m\u001b[1m>\u001b[0m"
      ]
     },
     "metadata": {},
     "output_type": "display_data"
    },
    {
     "data": {
      "text/html": [
       "<pre style=\"white-space:pre;overflow-x:auto;line-height:normal;font-family:Menlo,'DejaVu Sans Mono',consolas,'Courier New',monospace\"><span style=\"color: #808000; text-decoration-color: #808000\">failure_prob</span>=<span style=\"color: #008000; text-decoration-color: #008000\">'0.1'</span>\n",
       "</pre>\n"
      ],
      "text/plain": [
       "\u001b[33mfailure_prob\u001b[0m=\u001b[32m'0.1'\u001b[0m\n"
      ]
     },
     "metadata": {},
     "output_type": "display_data"
    },
    {
     "data": {
      "text/html": [
       "<pre style=\"white-space:pre;overflow-x:auto;line-height:normal;font-family:Menlo,'DejaVu Sans Mono',consolas,'Courier New',monospace\"></pre>\n"
      ],
      "text/plain": []
     },
     "metadata": {},
     "output_type": "display_data"
    },
    {
     "data": {
      "text/html": [
       "<table>\n",
       "<thead>\n",
       "<tr><th>Statistic         </th><th style=\"text-align: right;\">        Value</th></tr>\n",
       "</thead>\n",
       "<tbody>\n",
       "<tr><td>Mean              </td><td style=\"text-align: right;\"> 67.9578     </td></tr>\n",
       "<tr><td>Median            </td><td style=\"text-align: right;\"> 50.9305     </td></tr>\n",
       "<tr><td>Standard Deviation</td><td style=\"text-align: right;\"> 58.62       </td></tr>\n",
       "<tr><td>Min               </td><td style=\"text-align: right;\">  7.88453e-13</td></tr>\n",
       "<tr><td>Max               </td><td style=\"text-align: right;\">845.304      </td></tr>\n",
       "</tbody>\n",
       "</table>"
      ],
      "text/plain": [
       "\u001b[1m<\u001b[0m\u001b[1;95mIPython.core.display.HTML\u001b[0m\u001b[39m object\u001b[0m\u001b[1m>\u001b[0m"
      ]
     },
     "metadata": {},
     "output_type": "display_data"
    },
    {
     "data": {
      "text/html": [
       "<pre style=\"white-space:pre;overflow-x:auto;line-height:normal;font-family:Menlo,'DejaVu Sans Mono',consolas,'Courier New',monospace\"><span style=\"color: #808000; text-decoration-color: #808000\">failure_prob</span>=<span style=\"color: #008000; text-decoration-color: #008000\">'0.2'</span>\n",
       "</pre>\n"
      ],
      "text/plain": [
       "\u001b[33mfailure_prob\u001b[0m=\u001b[32m'0.2'\u001b[0m\n"
      ]
     },
     "metadata": {},
     "output_type": "display_data"
    },
    {
     "data": {
      "text/html": [
       "<pre style=\"white-space:pre;overflow-x:auto;line-height:normal;font-family:Menlo,'DejaVu Sans Mono',consolas,'Courier New',monospace\"></pre>\n"
      ],
      "text/plain": []
     },
     "metadata": {},
     "output_type": "display_data"
    },
    {
     "data": {
      "text/html": [
       "<table>\n",
       "<thead>\n",
       "<tr><th>Statistic         </th><th style=\"text-align: right;\">        Value</th></tr>\n",
       "</thead>\n",
       "<tbody>\n",
       "<tr><td>Mean              </td><td style=\"text-align: right;\"> 71.2628     </td></tr>\n",
       "<tr><td>Median            </td><td style=\"text-align: right;\"> 52.8193     </td></tr>\n",
       "<tr><td>Standard Deviation</td><td style=\"text-align: right;\"> 54.8485     </td></tr>\n",
       "<tr><td>Min               </td><td style=\"text-align: right;\">  7.81347e-13</td></tr>\n",
       "<tr><td>Max               </td><td style=\"text-align: right;\">537.392      </td></tr>\n",
       "</tbody>\n",
       "</table>"
      ],
      "text/plain": [
       "\u001b[1m<\u001b[0m\u001b[1;95mIPython.core.display.HTML\u001b[0m\u001b[39m object\u001b[0m\u001b[1m>\u001b[0m"
      ]
     },
     "metadata": {},
     "output_type": "display_data"
    },
    {
     "data": {
      "text/html": [
       "<pre style=\"white-space:pre;overflow-x:auto;line-height:normal;font-family:Menlo,'DejaVu Sans Mono',consolas,'Courier New',monospace\"><span style=\"color: #808000; text-decoration-color: #808000\">failure_prob</span>=<span style=\"color: #008000; text-decoration-color: #008000\">'0.3'</span>\n",
       "</pre>\n"
      ],
      "text/plain": [
       "\u001b[33mfailure_prob\u001b[0m=\u001b[32m'0.3'\u001b[0m\n"
      ]
     },
     "metadata": {},
     "output_type": "display_data"
    },
    {
     "data": {
      "text/html": [
       "<pre style=\"white-space:pre;overflow-x:auto;line-height:normal;font-family:Menlo,'DejaVu Sans Mono',consolas,'Courier New',monospace\"></pre>\n"
      ],
      "text/plain": []
     },
     "metadata": {},
     "output_type": "display_data"
    },
    {
     "data": {
      "text/html": [
       "<table>\n",
       "<thead>\n",
       "<tr><th>Statistic         </th><th style=\"text-align: right;\">     Value</th></tr>\n",
       "</thead>\n",
       "<tbody>\n",
       "<tr><td>Mean              </td><td style=\"text-align: right;\"> 77.4372  </td></tr>\n",
       "<tr><td>Median            </td><td style=\"text-align: right;\"> 60.5334  </td></tr>\n",
       "<tr><td>Standard Deviation</td><td style=\"text-align: right;\"> 52.3455  </td></tr>\n",
       "<tr><td>Min               </td><td style=\"text-align: right;\">  0.578517</td></tr>\n",
       "<tr><td>Max               </td><td style=\"text-align: right;\">416.138   </td></tr>\n",
       "</tbody>\n",
       "</table>"
      ],
      "text/plain": [
       "\u001b[1m<\u001b[0m\u001b[1;95mIPython.core.display.HTML\u001b[0m\u001b[39m object\u001b[0m\u001b[1m>\u001b[0m"
      ]
     },
     "metadata": {},
     "output_type": "display_data"
    },
    {
     "data": {
      "text/html": [
       "<pre style=\"white-space:pre;overflow-x:auto;line-height:normal;font-family:Menlo,'DejaVu Sans Mono',consolas,'Courier New',monospace\"><span style=\"color: #808000; text-decoration-color: #808000\">failure_prob</span>=<span style=\"color: #008000; text-decoration-color: #008000\">'0.4'</span>\n",
       "</pre>\n"
      ],
      "text/plain": [
       "\u001b[33mfailure_prob\u001b[0m=\u001b[32m'0.4'\u001b[0m\n"
      ]
     },
     "metadata": {},
     "output_type": "display_data"
    },
    {
     "data": {
      "text/html": [
       "<pre style=\"white-space:pre;overflow-x:auto;line-height:normal;font-family:Menlo,'DejaVu Sans Mono',consolas,'Courier New',monospace\"></pre>\n"
      ],
      "text/plain": []
     },
     "metadata": {},
     "output_type": "display_data"
    },
    {
     "data": {
      "text/html": [
       "<table>\n",
       "<thead>\n",
       "<tr><th>Statistic         </th><th style=\"text-align: right;\">     Value</th></tr>\n",
       "</thead>\n",
       "<tbody>\n",
       "<tr><td>Mean              </td><td style=\"text-align: right;\"> 88.4001  </td></tr>\n",
       "<tr><td>Median            </td><td style=\"text-align: right;\"> 70.0348  </td></tr>\n",
       "<tr><td>Standard Deviation</td><td style=\"text-align: right;\"> 66.2197  </td></tr>\n",
       "<tr><td>Min               </td><td style=\"text-align: right;\">  0.339383</td></tr>\n",
       "<tr><td>Max               </td><td style=\"text-align: right;\">604.721   </td></tr>\n",
       "</tbody>\n",
       "</table>"
      ],
      "text/plain": [
       "\u001b[1m<\u001b[0m\u001b[1;95mIPython.core.display.HTML\u001b[0m\u001b[39m object\u001b[0m\u001b[1m>\u001b[0m"
      ]
     },
     "metadata": {},
     "output_type": "display_data"
    },
    {
     "data": {
      "text/html": [
       "<pre style=\"white-space:pre;overflow-x:auto;line-height:normal;font-family:Menlo,'DejaVu Sans Mono',consolas,'Courier New',monospace\"><span style=\"color: #808000; text-decoration-color: #808000\">failure_prob</span>=<span style=\"color: #008000; text-decoration-color: #008000\">'0.5'</span>\n",
       "</pre>\n"
      ],
      "text/plain": [
       "\u001b[33mfailure_prob\u001b[0m=\u001b[32m'0.5'\u001b[0m\n"
      ]
     },
     "metadata": {},
     "output_type": "display_data"
    },
    {
     "data": {
      "text/html": [
       "<pre style=\"white-space:pre;overflow-x:auto;line-height:normal;font-family:Menlo,'DejaVu Sans Mono',consolas,'Courier New',monospace\"></pre>\n"
      ],
      "text/plain": []
     },
     "metadata": {},
     "output_type": "display_data"
    },
    {
     "data": {
      "text/html": [
       "<table>\n",
       "<thead>\n",
       "<tr><th>Statistic         </th><th style=\"text-align: right;\">      Value</th></tr>\n",
       "</thead>\n",
       "<tbody>\n",
       "<tr><td>Mean              </td><td style=\"text-align: right;\"> 109.526   </td></tr>\n",
       "<tr><td>Median            </td><td style=\"text-align: right;\">  82.7958  </td></tr>\n",
       "<tr><td>Standard Deviation</td><td style=\"text-align: right;\"> 215.398   </td></tr>\n",
       "<tr><td>Min               </td><td style=\"text-align: right;\">   0.223903</td></tr>\n",
       "<tr><td>Max               </td><td style=\"text-align: right;\">7094.1     </td></tr>\n",
       "</tbody>\n",
       "</table>"
      ],
      "text/plain": [
       "\u001b[1m<\u001b[0m\u001b[1;95mIPython.core.display.HTML\u001b[0m\u001b[39m object\u001b[0m\u001b[1m>\u001b[0m"
      ]
     },
     "metadata": {},
     "output_type": "display_data"
    },
    {
     "data": {
      "text/html": [
       "<pre style=\"white-space:pre;overflow-x:auto;line-height:normal;font-family:Menlo,'DejaVu Sans Mono',consolas,'Courier New',monospace\"><span style=\"color: #808000; text-decoration-color: #808000\">failure_prob</span>=<span style=\"color: #008000; text-decoration-color: #008000\">'0.6'</span>\n",
       "</pre>\n"
      ],
      "text/plain": [
       "\u001b[33mfailure_prob\u001b[0m=\u001b[32m'0.6'\u001b[0m\n"
      ]
     },
     "metadata": {},
     "output_type": "display_data"
    },
    {
     "data": {
      "text/html": [
       "<pre style=\"white-space:pre;overflow-x:auto;line-height:normal;font-family:Menlo,'DejaVu Sans Mono',consolas,'Courier New',monospace\"></pre>\n"
      ],
      "text/plain": []
     },
     "metadata": {},
     "output_type": "display_data"
    },
    {
     "data": {
      "text/html": [
       "<table>\n",
       "<thead>\n",
       "<tr><th>Statistic         </th><th style=\"text-align: right;\">     Value</th></tr>\n",
       "</thead>\n",
       "<tbody>\n",
       "<tr><td>Mean              </td><td style=\"text-align: right;\">130.156   </td></tr>\n",
       "<tr><td>Median            </td><td style=\"text-align: right;\">106.854   </td></tr>\n",
       "<tr><td>Standard Deviation</td><td style=\"text-align: right;\"> 87.7025  </td></tr>\n",
       "<tr><td>Min               </td><td style=\"text-align: right;\">  0.499764</td></tr>\n",
       "<tr><td>Max               </td><td style=\"text-align: right;\">663.997   </td></tr>\n",
       "</tbody>\n",
       "</table>"
      ],
      "text/plain": [
       "\u001b[1m<\u001b[0m\u001b[1;95mIPython.core.display.HTML\u001b[0m\u001b[39m object\u001b[0m\u001b[1m>\u001b[0m"
      ]
     },
     "metadata": {},
     "output_type": "display_data"
    },
    {
     "data": {
      "text/html": [
       "<pre style=\"white-space:pre;overflow-x:auto;line-height:normal;font-family:Menlo,'DejaVu Sans Mono',consolas,'Courier New',monospace\"><span style=\"color: #808000; text-decoration-color: #808000\">failure_prob</span>=<span style=\"color: #008000; text-decoration-color: #008000\">'0.7'</span>\n",
       "</pre>\n"
      ],
      "text/plain": [
       "\u001b[33mfailure_prob\u001b[0m=\u001b[32m'0.7'\u001b[0m\n"
      ]
     },
     "metadata": {},
     "output_type": "display_data"
    },
    {
     "data": {
      "text/html": [
       "<pre style=\"white-space:pre;overflow-x:auto;line-height:normal;font-family:Menlo,'DejaVu Sans Mono',consolas,'Courier New',monospace\"></pre>\n"
      ],
      "text/plain": []
     },
     "metadata": {},
     "output_type": "display_data"
    },
    {
     "data": {
      "text/html": [
       "<table>\n",
       "<thead>\n",
       "<tr><th>Statistic         </th><th style=\"text-align: right;\">     Value</th></tr>\n",
       "</thead>\n",
       "<tbody>\n",
       "<tr><td>Mean              </td><td style=\"text-align: right;\"> 203.333  </td></tr>\n",
       "<tr><td>Median            </td><td style=\"text-align: right;\"> 165.355  </td></tr>\n",
       "<tr><td>Standard Deviation</td><td style=\"text-align: right;\"> 155.307  </td></tr>\n",
       "<tr><td>Min               </td><td style=\"text-align: right;\">   4.12985</td></tr>\n",
       "<tr><td>Max               </td><td style=\"text-align: right;\">1819.07   </td></tr>\n",
       "</tbody>\n",
       "</table>"
      ],
      "text/plain": [
       "\u001b[1m<\u001b[0m\u001b[1;95mIPython.core.display.HTML\u001b[0m\u001b[39m object\u001b[0m\u001b[1m>\u001b[0m"
      ]
     },
     "metadata": {},
     "output_type": "display_data"
    }
   ],
   "source": [
    "# for failure_prob, metric in sorted(results.with_tracking.items()):\n",
    "#     print(f\"{failure_prob=}\")\n",
    "#     compute_stats(metric.ppe.errors).display()\n",
    "\n",
    "for failure_prob, metric in sorted(results.with_tracking.items()):\n",
    "    print(f\"{failure_prob=}\")\n",
    "    compute_stats(metric.ppe.errors).display()"
   ]
  },
  {
   "cell_type": "markdown",
   "metadata": {},
   "source": [
    "## Collisions"
   ]
  },
  {
   "cell_type": "code",
   "execution_count": 14,
   "metadata": {},
   "outputs": [
    {
     "data": {
      "text/html": [
       "<pre style=\"white-space:pre;overflow-x:auto;line-height:normal;font-family:Menlo,'DejaVu Sans Mono',consolas,'Courier New',monospace\"></pre>\n"
      ],
      "text/plain": []
     },
     "metadata": {},
     "output_type": "display_data"
    },
    {
     "data": {
      "text/plain": [
       "\n",
       "\u001b[1m{\u001b[0m\n",
       "    \u001b[32m'0.0'\u001b[0m: \u001b[1;35mCollisionsResult\u001b[0m\u001b[1m(\u001b[0m\u001b[33minterrobot\u001b[0m=\u001b[1;36m63\u001b[0m, \u001b[33menvironment\u001b[0m=\u001b[1;36m0\u001b[0m\u001b[1m)\u001b[0m,\n",
       "    \u001b[32m'0.1'\u001b[0m: \u001b[1;35mCollisionsResult\u001b[0m\u001b[1m(\u001b[0m\u001b[33minterrobot\u001b[0m=\u001b[1;36m67\u001b[0m, \u001b[33menvironment\u001b[0m=\u001b[1;36m0\u001b[0m\u001b[1m)\u001b[0m,\n",
       "    \u001b[32m'0.2'\u001b[0m: \u001b[1;35mCollisionsResult\u001b[0m\u001b[1m(\u001b[0m\u001b[33minterrobot\u001b[0m=\u001b[1;36m74\u001b[0m, \u001b[33menvironment\u001b[0m=\u001b[1;36m0\u001b[0m\u001b[1m)\u001b[0m,\n",
       "    \u001b[32m'0.3'\u001b[0m: \u001b[1;35mCollisionsResult\u001b[0m\u001b[1m(\u001b[0m\u001b[33minterrobot\u001b[0m=\u001b[1;36m113\u001b[0m, \u001b[33menvironment\u001b[0m=\u001b[1;36m0\u001b[0m\u001b[1m)\u001b[0m,\n",
       "    \u001b[32m'0.4'\u001b[0m: \u001b[1;35mCollisionsResult\u001b[0m\u001b[1m(\u001b[0m\u001b[33minterrobot\u001b[0m=\u001b[1;36m218\u001b[0m, \u001b[33menvironment\u001b[0m=\u001b[1;36m3\u001b[0m\u001b[1m)\u001b[0m,\n",
       "    \u001b[32m'0.5'\u001b[0m: \u001b[1;35mCollisionsResult\u001b[0m\u001b[1m(\u001b[0m\u001b[33minterrobot\u001b[0m=\u001b[1;36m364\u001b[0m, \u001b[33menvironment\u001b[0m=\u001b[1;36m7\u001b[0m\u001b[1m)\u001b[0m,\n",
       "    \u001b[32m'0.6'\u001b[0m: \u001b[1;35mCollisionsResult\u001b[0m\u001b[1m(\u001b[0m\u001b[33minterrobot\u001b[0m=\u001b[1;36m721\u001b[0m, \u001b[33menvironment\u001b[0m=\u001b[1;36m86\u001b[0m\u001b[1m)\u001b[0m,\n",
       "    \u001b[32m'0.7'\u001b[0m: \u001b[1;35mCollisionsResult\u001b[0m\u001b[1m(\u001b[0m\u001b[33minterrobot\u001b[0m=\u001b[1;36m1671\u001b[0m, \u001b[33menvironment\u001b[0m=\u001b[1;36m134\u001b[0m\u001b[1m)\u001b[0m\n",
       "\u001b[1m}\u001b[0m"
      ]
     },
     "execution_count": 14,
     "metadata": {},
     "output_type": "execute_result"
    }
   ],
   "source": [
    "{k: v.collisions for k, v in sorted(results.without_tracking.items())}"
   ]
  },
  {
   "cell_type": "code",
   "execution_count": 60,
   "metadata": {},
   "outputs": [
    {
     "data": {
      "text/html": [
       "<pre style=\"white-space:pre;overflow-x:auto;line-height:normal;font-family:Menlo,'DejaVu Sans Mono',consolas,'Courier New',monospace\"></pre>\n"
      ],
      "text/plain": []
     },
     "metadata": {},
     "output_type": "display_data"
    },
    {
     "data": {
      "text/plain": [
       "\u001b[32m'/home/kpbaks/university/semesters/10/master-thesis/gbp-rs/scripts'\u001b[0m"
      ]
     },
     "execution_count": 60,
     "metadata": {},
     "output_type": "execute_result"
    }
   ],
   "source": [
    "os.getcwd()\n"
   ]
  },
  {
   "cell_type": "code",
   "execution_count": null,
   "metadata": {},
   "outputs": [],
   "source": []
  }
 ],
 "metadata": {
  "kernelspec": {
   "display_name": "Python 3 (ipykernel)",
   "language": "python",
   "name": "python3"
  },
  "language_info": {
   "codemirror_mode": {
    "name": "ipython",
    "version": 3
   },
   "file_extension": ".py",
   "mimetype": "text/x-python",
   "name": "python",
   "nbconvert_exporter": "python",
   "pygments_lexer": "ipython3",
   "version": "3.11.9"
  }
 },
 "nbformat": 4,
 "nbformat_minor": 4
}
