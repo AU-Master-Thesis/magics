{
 "cells": [
  {
   "cell_type": "code",
   "execution_count": 1,
   "metadata": {
    "execution": {
     "iopub.execute_input": "2024-07-24T16:17:19.263297Z",
     "iopub.status.busy": "2024-07-24T16:17:19.262803Z",
     "iopub.status.idle": "2024-07-24T16:17:20.187770Z",
     "shell.execute_reply": "2024-07-24T16:17:20.187344Z"
    }
   },
   "outputs": [
    {
     "data": {
      "text/html": [
       "<pre style=\"white-space:pre;overflow-x:auto;line-height:normal;font-family:Menlo,'DejaVu Sans Mono',consolas,'Courier New',monospace\">sys.executable = <span style=\"color: #008000; text-decoration-color: #008000\">'/nix/store/7hnr99nxrd2aw6lghybqdmkckq60j6l9-python3-3.11.9/bin/python3.11'</span>\n",
       "</pre>\n"
      ],
      "text/plain": [
       "sys.executable = \u001b[32m'/nix/store/7hnr99nxrd2aw6lghybqdmkckq60j6l9-python3-3.11.9/bin/python3.11'\u001b[0m\n"
      ]
     },
     "metadata": {},
     "output_type": "display_data"
    },
    {
     "data": {
      "text/html": [
       "<pre style=\"white-space:pre;overflow-x:auto;line-height:normal;font-family:Menlo,'DejaVu Sans Mono',consolas,'Courier New',monospace\">sys.version = <span style=\"color: #008000; text-decoration-color: #008000\">'3.11.9 (main, Apr  2 2024, 08:25:04) [GCC 13.2.0]'</span>\n",
       "</pre>\n"
      ],
      "text/plain": [
       "sys.version = \u001b[32m'3.11.9 \u001b[0m\u001b[32m(\u001b[0m\u001b[32mmain, Apr  2 2024, 08:25:04\u001b[0m\u001b[32m)\u001b[0m\u001b[32m \u001b[0m\u001b[32m[\u001b[0m\u001b[32mGCC 13.2.0\u001b[0m\u001b[32m]\u001b[0m\u001b[32m'\u001b[0m\n"
      ]
     },
     "metadata": {},
     "output_type": "display_data"
    },
    {
     "data": {
      "text/html": [
       "<pre style=\"white-space:pre;overflow-x:auto;line-height:normal;font-family:Menlo,'DejaVu Sans Mono',consolas,'Courier New',monospace\"><span style=\"color: #800080; text-decoration-color: #800080; font-weight: bold\">os.getcwd</span><span style=\"font-weight: bold\">()</span>=<span style=\"color: #008000; text-decoration-color: #008000\">'/home/kpbaks/university/semesters/10/master-thesis/gbp-rs/scripts'</span>\n",
       "</pre>\n"
      ],
      "text/plain": [
       "\u001b[1;35mos.getcwd\u001b[0m\u001b[1m(\u001b[0m\u001b[1m)\u001b[0m=\u001b[32m'/home/kpbaks/university/semesters/10/master-thesis/gbp-rs/scripts'\u001b[0m\n"
      ]
     },
     "metadata": {},
     "output_type": "display_data"
    }
   ],
   "source": [
    "import inspect, os, sys\n",
    "\n",
    "import re\n",
    "import json\n",
    "import statistics\n",
    "import argparse\n",
    "import itertools\n",
    "from pathlib import Path\n",
    "from dataclasses import dataclass\n",
    "\n",
    "def cd_if_exists(dir: Path | str) -> bool:\n",
    "    if isinstance(dir, str):\n",
    "        dir = Path(dir)\n",
    "    if dir.exists() and dir.is_dir():\n",
    "        os.chdir(dir)\n",
    "        return True\n",
    "    else:\n",
    "        return False\n",
    "\n",
    "# Normally start VSCode (or whatever you use to run this notebook interactively) from the root, so\n",
    "# we have to `cd` into the parent dir of this file, to access utils functions.\n",
    "cd_if_exists('./scripts')\n",
    "\n",
    "\n",
    "# These are util functions\n",
    "from ldj import ldj\n",
    "from utils import *\n",
    "\n",
    "import numpy as np\n",
    "import matplotlib.pyplot as plt\n",
    "# from matplotlib.font_manager import FontProperties\n",
    "import matplotlib.font_manager as fm\n",
    "from matplotlib.patches import FancyBboxPatch\n",
    "from matplotlib.patches import PathPatch\n",
    "from matplotlib.path import get_path_collection_extents\n",
    "import seaborn as sns\n",
    "\n",
    "from rich import print, pretty\n",
    "from tabulate import tabulate\n",
    "from typing import  Iterable\n",
    "import pretty_errors\n",
    "from catppuccin import PALETTE\n",
    "from IPython.display import display, HTML\n",
    "\n",
    "pretty.install()\n",
    "print(f\"{os.getcwd()=}\")\n",
    "\n",
    "EXPERIMENT_DIR = Path(\"../experiments/structured-junction-twoway\")\n",
    "assert EXPERIMENT_DIR.is_dir() and EXPERIMENT_DIR.exists()\n",
    "\n",
    "flavor = PALETTE.latte.colors\n",
    "# data = dict()\n",
    "\n",
    "# @dataclass\n",
    "# class Results:\n",
    "#     with_tracking: dict\n",
    "#     without_tracking: dict\n",
    "\n",
    "# results = Results(dict(), dict())\n",
    "\n",
    "# with open(EXPERIMENT_DIR / \"tracking-true.json\") as f:\n",
    "#     results.with_tracking = json.load(f)\n",
    "\n",
    "# with open(EXPERIMENT_DIR / \"tracking-false.json\") as f:\n",
    "#     results.without_tracking = json.load(f)\n"
   ]
  },
  {
   "cell_type": "code",
   "execution_count": 2,
   "metadata": {
    "execution": {
     "iopub.execute_input": "2024-07-24T16:17:20.190049Z",
     "iopub.status.busy": "2024-07-24T16:17:20.189903Z",
     "iopub.status.idle": "2024-07-24T16:17:20.193376Z",
     "shell.execute_reply": "2024-07-24T16:17:20.193155Z"
    }
   },
   "outputs": [
    {
     "data": {
      "text/html": [
       "<pre style=\"white-space:pre;overflow-x:auto;line-height:normal;font-family:Menlo,'DejaVu Sans Mono',consolas,'Courier New',monospace\"></pre>\n"
      ],
      "text/plain": []
     },
     "metadata": {},
     "output_type": "display_data"
    },
    {
     "data": {
      "text/plain": [
       "\u001b[1;36m5\u001b[0m"
      ]
     },
     "execution_count": 2,
     "metadata": {},
     "output_type": "execute_result"
    }
   ],
   "source": [
    "2 + 3\n"
   ]
  },
  {
   "cell_type": "code",
   "execution_count": null,
   "metadata": {},
   "outputs": [],
   "source": []
  }
 ],
 "metadata": {
  "language_info": {
   "codemirror_mode": {
    "name": "ipython",
    "version": 3
   },
   "file_extension": ".py",
   "mimetype": "text/x-python",
   "name": "python",
   "nbconvert_exporter": "python",
   "pygments_lexer": "ipython3",
   "version": "3.11.9"
  }
 },
 "nbformat": 4,
 "nbformat_minor": 2
}
